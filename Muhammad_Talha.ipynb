{
 "cells": [
  {
   "cell_type": "markdown",
   "metadata": {},
   "source": [
    "## Numpy Array and Basic\n",
    "learn about numpy with chai or code"
   ]
  },
  {
   "cell_type": "code",
   "execution_count": 1,
   "metadata": {},
   "outputs": [],
   "source": [
    "import numpy as np"
   ]
  },
  {
   "cell_type": "markdown",
   "metadata": {},
   "source": [
    "### creating array from list"
   ]
  },
  {
   "cell_type": "code",
   "execution_count": 2,
   "metadata": {},
   "outputs": [
    {
     "name": "stdout",
     "output_type": "stream",
     "text": [
      "result of 1D array:  [1 2 3 4 5 6 7]\n",
      "result of 1D array:  [[ 1  2  3  4  5]\n",
      " [ 6  7  8  9 10]]\n"
     ]
    }
   ],
   "source": [
    "arr_1d=np.array([1,2,3,4,5,6,7])\n",
    "print(\"result of 1D array: \",arr_1d)\n",
    "arr_2d=np.array([[1,2,3,4,5],[6,7,8,9,10]])\n",
    "print(\"result of 1D array: \",arr_2d)"
   ]
  },
  {
   "cell_type": "markdown",
   "metadata": {},
   "source": [
    "### List vs Numpy array"
   ]
  },
  {
   "cell_type": "markdown",
   "metadata": {},
   "source": []
  },
  {
   "cell_type": "code",
   "execution_count": 3,
   "metadata": {},
   "outputs": [
    {
     "name": "stdout",
     "output_type": "stream",
     "text": [
      "Python list multiplicatiosn :  [1, 2, 3, 4, 1, 2, 3, 4]\n",
      "Numpy array multiplicatiosn :  [ 2  4  6  8 10]\n",
      "\n",
      " list operations time :  0.18013715744018555\n",
      "\n",
      " Numpy array operations time :  0.0008332729339599609\n"
     ]
    }
   ],
   "source": [
    "py_List=[1,2,3,4]\n",
    "print(\"Python list multiplicatiosn : \",py_List*2)\n",
    "\n",
    "np_arr=np.array([1,2,3,4,5]) ## element wise multiplications\n",
    "print(\"Numpy array multiplicatiosn : \",np_arr*2)\n",
    "\n",
    "import time\n",
    "start=time.time()\n",
    "py_list=[i*2 for i in range(1000000)]\n",
    "print(\"\\n list operations time : \", time.time()-start )\n",
    "\n",
    "start=time.time()\n",
    "np_arr=np.arange(100000) *2\n",
    "print(\"\\n Numpy array operations time : \", time.time()-start )\n",
    "## numpy array are faster then python list \n",
    "\n",
    "\n",
    "\n"
   ]
  },
  {
   "cell_type": "markdown",
   "metadata": {},
   "source": [
    "## Creating array from Scratch"
   ]
  },
  {
   "cell_type": "code",
   "execution_count": 4,
   "metadata": {},
   "outputs": [
    {
     "name": "stdout",
     "output_type": "stream",
     "text": [
      " zeros array:\n",
      "  [[0. 0. 0. 0.]\n",
      " [0. 0. 0. 0.]\n",
      " [0. 0. 0. 0.]]\n",
      " ones array:\n",
      "  [[1. 1. 1.]\n",
      " [1. 1. 1.]\n",
      " [1. 1. 1.]]\n",
      " full array:\n",
      "  [[69 69 69]\n",
      " [69 69 69]\n",
      " [69 69 69]]\n",
      " random array:\n",
      "  [[0.4371228  0.55010216 0.97247282]\n",
      " [0.23658134 0.09567218 0.62420885]\n",
      " [0.17103222 0.49781126 0.85793202]]\n",
      " sequence array:\n",
      "  [0 2 4 6 8]\n"
     ]
    }
   ],
   "source": [
    "## Naya array banane ka process bina kisi pehle se mojood data ke.\n",
    "\n",
    "zeros=np.zeros([3,4]) ## 3 rows and 4 column\n",
    "print(\" zeros array:\\n \",zeros)\n",
    "\n",
    "ones=np.ones([3,3])\n",
    "print(\" ones array:\\n \", ones)\n",
    "\n",
    "full=np.full((3,3),69)  ##jo number bhi dain apni marzi sab columns or rows main yeh number ajaiga\n",
    "print(\" full array:\\n \",full)\n",
    "\n",
    "random=np.random.random((3,3))\n",
    "print(\" random array:\\n \",random)\n",
    "\n",
    "sequence=np.arange(0,10,2)\n",
    "print(\" sequence array:\\n \",sequence)"
   ]
  },
  {
   "cell_type": "markdown",
   "metadata": {},
   "source": [
    "### Vector , Matrix and Tensor"
   ]
  },
  {
   "cell_type": "markdown",
   "metadata": {},
   "source": []
  },
  {
   "cell_type": "code",
   "execution_count": 5,
   "metadata": {},
   "outputs": [
    {
     "name": "stdout",
     "output_type": "stream",
     "text": [
      "vector : [1 2 3]\n",
      "matrix : [[1 2 3]\n",
      " [4 5 6]\n",
      " [7 8 9]]\n",
      "tensor : [[[ 1  2  3]\n",
      "  [ 4  5  6]]\n",
      "\n",
      " [[ 7  8  9]\n",
      "  [10 11 12]]]\n"
     ]
    }
   ],
   "source": [
    "vector=np.array([1,2,3])\n",
    "print(\"vector :\",vector)\n",
    "\n",
    "## 2D array ko matrix kehtay hain\n",
    "matrix=np.array([[1,2,3,],\n",
    "                 [4,5,6],\n",
    "                 [7,8,9]])\n",
    "print(\"matrix :\",matrix)\n",
    "\n",
    "## ziyada dimensions kaylie Tensor use kartay hai\n",
    "\n",
    "tensor=np.array([[[1,2,3],[4,5,6]],\n",
    "                [[7,8,9],[10,11,12]]])\n",
    "print(\"tensor :\",tensor)\n"
   ]
  },
  {
   "cell_type": "markdown",
   "metadata": {},
   "source": [
    "## Array Properties "
   ]
  },
  {
   "cell_type": "code",
   "execution_count": 6,
   "metadata": {},
   "outputs": [
    {
     "name": "stdout",
     "output_type": "stream",
     "text": [
      "Shape  (2, 3)\n",
      "Dimension  2\n",
      "Size  6\n",
      "Dtype  int64\n"
     ]
    }
   ],
   "source": [
    "arr=np.array([[1,2,3],[4,5,6]])\n",
    "print(\"Shape \",arr.shape)\n",
    "print(\"Dimension \",arr.ndim)\n",
    "print(\"Size \",arr.size)\n",
    "print(\"Dtype \",arr.dtype)"
   ]
  },
  {
   "cell_type": "markdown",
   "metadata": {},
   "source": [
    "## Array Reshaped"
   ]
  },
  {
   "cell_type": "code",
   "execution_count": 7,
   "metadata": {},
   "outputs": [
    {
     "name": "stdout",
     "output_type": "stream",
     "text": [
      "Range of array [ 0  1  2  3  4  5  6  7  8  9 10 11]\n",
      "\n",
      " Rshape of array [[ 0  1  2  3]\n",
      " [ 4  5  6  7]\n",
      " [ 8  9 10 11]]\n",
      "\n",
      " Flattend of array [ 0  1  2  3  4  5  6  7  8  9 10 11]\n",
      "\n",
      " revalf array [ 0  1  2  3  4  5  6  7  8  9 10 11]\n",
      "Transpose  of array [[ 0  4  8]\n",
      " [ 1  5  9]\n",
      " [ 2  6 10]\n",
      " [ 3  7 11]]\n"
     ]
    }
   ],
   "source": [
    "arr=np.arange(12)\n",
    "print(\"Range of array\" , arr)\n",
    "\n",
    "reshaped=arr.reshape((3,4))\n",
    "print(\"\\n Rshape of array\" , reshaped)\n",
    "\n",
    "flattend=reshaped.flatten()\n",
    "print(\"\\n Flattend of array\" , flattend)\n",
    "\n",
    "#this method give orignal array not give copy array\n",
    "rave=reshaped.ravel()\n",
    "print(\"\\n revalf array\" ,rave )\n",
    "\n",
    "# TRANSPOSE ARRAY\n",
    "trans=reshaped.T\n",
    "print(\"Transpose  of array\" , trans)\n",
    "\n",
    "\n"
   ]
  },
  {
   "cell_type": "markdown",
   "metadata": {},
   "source": [
    "## Numpy Array Operations"
   ]
  },
  {
   "cell_type": "code",
   "execution_count": 8,
   "metadata": {},
   "outputs": [
    {
     "name": "stdout",
     "output_type": "stream",
     "text": [
      "Basic Slicing   [ 5  6  7  8  9 10]\n",
      "Basic Slicing wiht Steps   [ 2  4  6  8 10]\n",
      "Basic Slicing with Negative value   7\n"
     ]
    }
   ],
   "source": [
    "arr=np.array([1,2,3,4,5,6,7,8,9,10])\n",
    "print(\"Basic Slicing  \", arr[4:10])\n",
    "print(\"Basic Slicing wiht Steps  \", arr[1:10:2])\n",
    "print(\"Basic Slicing with Negative value  \", arr[-4])"
   ]
  },
  {
   "cell_type": "markdown",
   "metadata": {},
   "source": [
    "## Sorting"
   ]
  },
  {
   "cell_type": "code",
   "execution_count": 9,
   "metadata": {},
   "outputs": [
    {
     "name": "stdout",
     "output_type": "stream",
     "text": [
      "[1 2 3 4 5 6 7 8 9]\n",
      "[[1 5]\n",
      " [2 4]\n",
      " [1 1]]\n"
     ]
    }
   ],
   "source": [
    "import numpy as np\n",
    "unsorted = np.array([1,2,9,8,5,4,7,3,6])\n",
    "print(np.sort(unsorted))\n",
    "\n",
    "unsorted_2D = np.array([[5,1],[4,2],[1,1]])\n",
    "print(np.sort(unsorted_2D,axis=1))"
   ]
  },
  {
   "cell_type": "markdown",
   "metadata": {},
   "source": [
    "## Filtering"
   ]
  },
  {
   "cell_type": "code",
   "execution_count": 10,
   "metadata": {},
   "outputs": [
    {
     "name": "stdout",
     "output_type": "stream",
     "text": [
      "Even Numbers  [ 2  4  6  8 10]\n"
     ]
    }
   ],
   "source": [
    "import numpy as np\n",
    "numbers = np.array([1,2,3,4,5,6,7,8,9,10])\n",
    "even_number = numbers[numbers % 2 == 0 ]\n",
    "print(\"Even Numbers \", even_number)"
   ]
  },
  {
   "cell_type": "markdown",
   "metadata": {},
   "source": [
    "## Filter with mask"
   ]
  },
  {
   "cell_type": "code",
   "execution_count": 11,
   "metadata": {},
   "outputs": [
    {
     "name": "stdout",
     "output_type": "stream",
     "text": [
      "Numbers greater then 5 [ 6  7  8  9 10]\n"
     ]
    }
   ],
   "source": [
    "mask = numbers > 5\n",
    "print(\"Numbers greater then 5\", numbers[mask])\n"
   ]
  },
  {
   "cell_type": "markdown",
   "metadata": {},
   "source": [
    "## Fancing indexing vs np.where"
   ]
  },
  {
   "cell_type": "code",
   "execution_count": 12,
   "metadata": {},
   "outputs": [
    {
     "name": "stdout",
     "output_type": "stream",
     "text": [
      "[3 5 7]\n",
      "NP where   [ 6  7  8  9 10]\n"
     ]
    }
   ],
   "source": [
    "indicias = [2,4,6]\n",
    "print(numbers[indicias]) \n",
    "\n",
    "where_result = np.where(numbers > 5)\n",
    "print (\"NP where  \", numbers[where_result])"
   ]
  },
  {
   "cell_type": "code",
   "execution_count": 13,
   "metadata": {},
   "outputs": [
    {
     "name": "stdout",
     "output_type": "stream",
     "text": [
      "[ 1  2  3  4  5 12 14 16 18 20]\n"
     ]
    }
   ],
   "source": [
    "condition_array = np.where(numbers > 5, numbers *2,numbers)\n",
    "print(condition_array)"
   ]
  },
  {
   "cell_type": "code",
   "execution_count": 14,
   "metadata": {},
   "outputs": [
    {
     "name": "stdout",
     "output_type": "stream",
     "text": [
      "['False' 'False' 'False' 'False' 'False' 'True' 'True' 'True' 'True'\n",
      " 'True']\n"
     ]
    }
   ],
   "source": [
    "condition_array = np.where(numbers > 5, \"True\",\"False\")\n",
    "print(condition_array)"
   ]
  },
  {
   "cell_type": "markdown",
   "metadata": {},
   "source": [
    "## Adding and removing data "
   ]
  },
  {
   "cell_type": "code",
   "execution_count": 15,
   "metadata": {},
   "outputs": [
    {
     "name": "stdout",
     "output_type": "stream",
     "text": [
      "[1 2 3 4 5 5 6 7 8 9]\n"
     ]
    }
   ],
   "source": [
    "arr1 = np.array([1,2,3,4,5])\n",
    "arr2 = np.array([5,6,7,8,9])\n",
    "combined= np.concatenate((arr1,arr2))\n",
    "\n",
    "\n",
    "print(combined)\n"
   ]
  },
  {
   "cell_type": "markdown",
   "metadata": {},
   "source": [
    "### array compatibility "
   ]
  },
  {
   "cell_type": "code",
   "execution_count": 16,
   "metadata": {},
   "outputs": [
    {
     "name": "stdout",
     "output_type": "stream",
     "text": [
      "compatibility  True\n",
      "compatibility  False\n"
     ]
    }
   ],
   "source": [
    "a = np.array([1,2,3,4])\n",
    "b = np.array([5,6,7,8])\n",
    "c = np.array([9,10,11,12,13])\n",
    "\n",
    "print(\"compatibility \", a.shape == b.shape)\n",
    "print(\"compatibility \", a.shape == c.shape)"
   ]
  },
  {
   "cell_type": "code",
   "execution_count": 17,
   "metadata": {},
   "outputs": [
    {
     "name": "stdout",
     "output_type": "stream",
     "text": [
      "[[1 2 3]\n",
      " [4 5 6]] \n",
      "\n",
      "[[1 2 3]\n",
      " [4 5 6]\n",
      " [7 8 9]] \n",
      "\n",
      "[[1 2 3]\n",
      " [4 5 6]] \n",
      "\n",
      "[[ 1  2  3 11]\n",
      " [ 4  5  6 12]] \n",
      "\n"
     ]
    }
   ],
   "source": [
    "original = np.array([[1,2,3],[4,5,6]])\n",
    "new_row = np.array([7,8,9])\n",
    "\n",
    "with_new_row = np.vstack((original,new_row))\n",
    "print(original,\"\\n\")\n",
    "print(with_new_row,\"\\n\")\n",
    "\n",
    "new_col = np.array([[11],[12]])\n",
    "# new_col2 = np.array([[12]])\n",
    "with_new_col = np.hstack((original,new_col))\n",
    "\n",
    "print(original,\"\\n\")\n",
    "print(with_new_col,\"\\n\")\n"
   ]
  },
  {
   "cell_type": "code",
   "execution_count": null,
   "metadata": {},
   "outputs": [],
   "source": []
  }
 ],
 "metadata": {
  "kernelspec": {
   "display_name": "Python 3",
   "language": "python",
   "name": "python3"
  },
  "language_info": {
   "codemirror_mode": {
    "name": "ipython",
    "version": 3
   },
   "file_extension": ".py",
   "mimetype": "text/x-python",
   "name": "python",
   "nbconvert_exporter": "python",
   "pygments_lexer": "ipython3",
   "version": "3.13.1"
  }
 },
 "nbformat": 4,
 "nbformat_minor": 2
}
