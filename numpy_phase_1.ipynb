{
 "cells": [
  {
   "cell_type": "markdown",
   "metadata": {},
   "source": [
    "##  Numpy array and basics\n",
    "Learn about numpay with chai aur code  "
   ]
  },
  {
   "cell_type": "code",
   "execution_count": 1,
   "metadata": {},
   "outputs": [
    {
     "data": {
      "text/markdown": [
       "## --- Cells from phase2.ipynb ---"
      ],
      "text/plain": [
       "<IPython.core.display.Markdown object>"
      ]
     },
     "metadata": {},
     "output_type": "display_data"
    },
    {
     "data": {
      "text/markdown": [
       "## Numpy Array and operation"
      ],
      "text/plain": [
       "<IPython.core.display.Markdown object>"
      ]
     },
     "metadata": {},
     "output_type": "display_data"
    },
    {
     "name": "stdout",
     "output_type": "stream",
     "text": [
      "Basic Slicing [2 3 4 5]\n",
      "With Step [3 5 7]\n",
      "Negative Indexing 2\n",
      "Slicing in 2D array: 6\n",
      "Slicing in 2D array: [2 5 8]\n",
      "Slicing in 2D array: 2\n"
     ]
    },
    {
     "data": {
      "text/markdown": [
       "## Sorting"
      ],
      "text/plain": [
       "<IPython.core.display.Markdown object>"
      ]
     },
     "metadata": {},
     "output_type": "display_data"
    },
    {
     "name": "stdout",
     "output_type": "stream",
     "text": [
      "[1 2 3 4 5 6 7 8 9]\n",
      "[[1 5]\n",
      " [2 4]\n",
      " [1 1]]\n"
     ]
    },
    {
     "data": {
      "text/markdown": [
       "## Filtering"
      ],
      "text/plain": [
       "<IPython.core.display.Markdown object>"
      ]
     },
     "metadata": {},
     "output_type": "display_data"
    },
    {
     "name": "stdout",
     "output_type": "stream",
     "text": [
      "Even Numbers  [ 2  4  6  8 10]\n"
     ]
    },
    {
     "data": {
      "text/markdown": [
       "## Filter with mask"
      ],
      "text/plain": [
       "<IPython.core.display.Markdown object>"
      ]
     },
     "metadata": {},
     "output_type": "display_data"
    },
    {
     "name": "stdout",
     "output_type": "stream",
     "text": [
      "Numbers greater then 5 [ 6  7  8  9 10]\n"
     ]
    },
    {
     "data": {
      "text/markdown": [
       "## Fancing indexing vs np.where"
      ],
      "text/plain": [
       "<IPython.core.display.Markdown object>"
      ]
     },
     "metadata": {},
     "output_type": "display_data"
    },
    {
     "name": "stdout",
     "output_type": "stream",
     "text": [
      "[3 5 7]\n",
      "NP where   [ 6  7  8  9 10]\n",
      "[ 1  2  3  4  5 12 14 16 18 20]\n",
      "['False' 'False' 'False' 'False' 'False' 'True' 'True' 'True' 'True'\n",
      " 'True']\n"
     ]
    },
    {
     "data": {
      "text/markdown": [
       "## Adding and removing data "
      ],
      "text/plain": [
       "<IPython.core.display.Markdown object>"
      ]
     },
     "metadata": {},
     "output_type": "display_data"
    },
    {
     "name": "stdout",
     "output_type": "stream",
     "text": [
      "[1 2 3 4 5 5 6 7 8 9]\n"
     ]
    },
    {
     "data": {
      "text/markdown": [
       "### array compatibility "
      ],
      "text/plain": [
       "<IPython.core.display.Markdown object>"
      ]
     },
     "metadata": {},
     "output_type": "display_data"
    },
    {
     "name": "stdout",
     "output_type": "stream",
     "text": [
      "compatibility  True\n",
      "compatibility  False\n",
      "[[1 2 3]\n",
      " [4 5 6]] \n",
      "\n",
      "[[1 2 3]\n",
      " [4 5 6]\n",
      " [7 8 9]] \n",
      "\n",
      "[[1 2 3]\n",
      " [4 5 6]] \n",
      "\n",
      "[[ 1  2  3 11]\n",
      " [ 4  5  6 12]] \n",
      "\n"
     ]
    },
    {
     "data": {
      "text/markdown": [
       "## --- Cells from phase3.ipynb ---"
      ],
      "text/plain": [
       "<IPython.core.display.Markdown object>"
      ]
     },
     "metadata": {},
     "output_type": "display_data"
    },
    {
     "data": {
      "text/markdown": [
       "## phase 3 "
      ],
      "text/plain": [
       "<IPython.core.display.Markdown object>"
      ]
     },
     "metadata": {},
     "output_type": "display_data"
    },
    {
     "name": "stdout",
     "output_type": "stream",
     "text": [
      "====== Zomatos Sales Ananlysis =====\n",
      "Shape of our data \n",
      "  (5, 5)\n",
      "sample data from first to 3rd restu \n",
      " [[      1  150000  180000  220000 1000000]\n",
      " [      2  120000  140000  160000  190000]\n",
      " [      3  200000  230000   20000  300000]]\n",
      "\n",
      "[     15  810000  945000  642000 1990000]\n",
      "[ 810000  945000  642000 1990000]\n",
      "[150000 120000  20000 180000   2000]\n",
      "[ 200000  230000  240000 1000000]\n",
      "[387500. 152500. 187500. 225000. 144250.]\n",
      "[[ 150000  330000  550000 1550000]\n",
      " [ 120000  260000  420000  610000]\n",
      " [ 200000  430000  450000  750000]\n",
      " [ 180000  390000  630000  900000]\n",
      " [ 160000  345000  347000  577000]]\n",
      "[[ 150000  330000  550000 1550000]\n",
      " [ 120000  260000  420000  610000]\n",
      " [ 200000  430000  450000  750000]\n",
      " [ 180000  390000  630000  900000]\n",
      " [ 160000  345000  347000  577000]]\n"
     ]
    },
    {
     "data": {
      "image/png": "[encoded data removed]",
      "text/plain": [
       "<Figure size 800x600 with 1 Axes>"
      ]
     },
     "metadata": {},
     "output_type": "display_data"
    },
    {
     "name": "stdout",
     "output_type": "stream",
     "text": [
      "[[ 150000  330000  550000 1550000]\n",
      " [ 120000  260000  420000  610000]\n",
      " [ 200000  430000  450000  750000]\n",
      " [ 180000  390000  630000  900000]\n",
      " [ 160000  345000  347000  577000]]\n"
     ]
    },
    {
     "data": {
      "image/png": "[encoded data removed]",
      "text/plain": [
       "<Figure size 800x600 with 1 Axes>"
      ]
     },
     "metadata": {},
     "output_type": "display_data"
    },
    {
     "name": "stdout",
     "output_type": "stream",
     "text": [
      "Addition of vector [ 7  9 11 13 15]\n",
      "Multiplication of vector [ 6 14 24 36 50]\n",
      "Dot of vector 130\n",
      "0.26554161733900966\n",
      "Vectorize upper  ['PIZZA' 'CHINEES' 'BIRYANAI' 'BURGER']\n"
     ]
    },
    {
     "data": {
      "text/markdown": [
       "## --- Cells from exam.ipynb ---"
      ],
      "text/plain": [
       "<IPython.core.display.Markdown object>"
      ]
     },
     "metadata": {},
     "output_type": "display_data"
    },
    {
     "data": {
      "text/markdown": [
       "a) Create the following NumPy arrays:\n",
       "\n",
       "\n",
       "    i) A 1D array of numbers from 10 to 50 with step 5.\n",
       "    ii) A 3x3 array with random integers between 1 and 100. (2 marks)\n",
       "\n",
       "b) For the array in (ii), print:\n",
       "    i) Shape and size (1 mark)\n",
       "    ii) Maximum and minimum values (1 mark)\n",
       "    iii) Mean and standard deviation (2 marks)\n",
       "\n"
      ],
      "text/plain": [
       "<IPython.core.display.Markdown object>"
      ]
     },
     "metadata": {},
     "output_type": "display_data"
    },
    {
     "name": "stdout",
     "output_type": "stream",
     "text": [
      "[10 15 20 25 30 35 40 45 50]\n",
      "[[144  88  20]\n",
      " [ 89  71  94]\n",
      " [ 95  14  95]]\n"
     ]
    },
    {
     "data": {
      "text/markdown": [
       "## b) For the array in (ii), print:\n",
       "    i) Shape and size (1 mark)\n",
       "    ii) Maximum and minimum values (1 mark)\n",
       "    iii) Mean and standard deviation (2 marks)\n",
       "\n"
      ],
      "text/plain": [
       "<IPython.core.display.Markdown object>"
      ]
     },
     "metadata": {},
     "output_type": "display_data"
    },
    {
     "name": "stdout",
     "output_type": "stream",
     "text": [
      "(2, 5)\n",
      "10\n",
      "144\n",
      "14\n",
      "78.88888888888889\n",
      "37.87829763992523\n"
     ]
    },
    {
     "data": {
      "text/markdown": [
       "## Q2: Indexing, Slicing and Reshaping (8 marks)\n",
       "a) Create a 1D array of first 20 even numbers. (2 marks)\n",
       "b) Extract the first 5 elements and the last 5 elements. (2 marks)\n",
       "c) Reshape the array into a 4x5 matrix. (2 marks)\n",
       "d) Transpose the reshaped array. (2 marks)\n",
       "\n"
      ],
      "text/plain": [
       "<IPython.core.display.Markdown object>"
      ]
     },
     "metadata": {},
     "output_type": "display_data"
    },
    {
     "name": "stdout",
     "output_type": "stream",
     "text": [
      "[ 2  4  6  8 10 12 14 16 18 20 22 24 26 28 30 32 34 36 38 40]\n",
      "[ 2  4  6  8 10]\n",
      "[32 34 36 38 40]\n",
      "[[ 2  4  6  8 10]\n",
      " [12 14 16 18 20]\n",
      " [22 24 26 28 30]\n",
      " [32 34 36 38 40]]\n",
      "[[ 2 12 22 32]\n",
      " [ 4 14 24 34]\n",
      " [ 6 16 26 36]\n",
      " [ 8 18 28 38]\n",
      " [10 20 30 40]]\n"
     ]
    },
    {
     "data": {
      "text/markdown": [
       "## Q3: Array Operations (8 marks)\n",
       "a) Create two 3x3 matrices A and B with random integers (1–10). (2 marks)\n",
       "b) Perform the following operations:\n",
       "    i) Element-wise addition and multiplication (2 marks)\n",
       "    ii) Matrix multiplication (2 marks)\n",
       "    iii) Find the inverse and determinant of matrix A (use np.linalg) (2 marks"
      ],
      "text/plain": [
       "<IPython.core.display.Markdown object>"
      ]
     },
     "metadata": {},
     "output_type": "display_data"
    },
    {
     "name": "stdout",
     "output_type": "stream",
     "text": [
      "[[6 6 1]\n",
      " [5 5 5]\n",
      " [1 8 4]]\n",
      "[[7 8 8]\n",
      " [5 2 7]\n",
      " [3 9 3]]\n",
      "[[13 14  9]\n",
      " [10  7 12]\n",
      " [ 4 17  7]]\n",
      "[[42 48  8]\n",
      " [25 10 35]\n",
      " [ 3 72 12]]\n",
      "-174.99999999999991\n",
      "[[ 0.11428571  0.09142857 -0.14285714]\n",
      " [ 0.08571429 -0.13142857  0.14285714]\n",
      " [-0.2         0.24        0.        ]]\n"
     ]
    },
    {
     "data": {
      "text/markdown": [
       "## Q4: Conditional Operations and Boolean Indexing (8 marks)\n",
       "a) Create a 5x5 array of random integers from 0 to 50. (2 marks)\n",
       "b) Replace all elements greater than 25 with -1. (2 marks)\n",
       "c) Extract all elements divisible by 5. (2 marks)\n",
       "d) Count how many elements are even. (2 marks)\n",
       "\n"
      ],
      "text/plain": [
       "<IPython.core.display.Markdown object>"
      ]
     },
     "metadata": {},
     "output_type": "display_data"
    },
    {
     "name": "stdout",
     "output_type": "stream",
     "text": [
      "[[ 0  4 21 34  2]\n",
      " [43  4 47 34 24]\n",
      " [40 28 37  9 25]\n",
      " [41 35 18  3 31]\n",
      " [27 17 38 28  0]]\n",
      "[ 0 40 25 35  0]\n",
      "[ 0  4 34  2  4 34 24 40 28 18 38 28  0]\n",
      "13\n",
      "[[ 7 12 15 14  4]\n",
      " [12 14  8 13 13]\n",
      " [10  5  6  5 19]\n",
      " [ 9 18  3  9  9]]\n",
      "Number of dimension 2\n",
      "shape (4, 5)\n",
      "Element 20\n"
     ]
    },
    {
     "data": {
      "text/markdown": [
       "## 2: Indexing and Slicing\n",
       "Given a 2D array, perform the following tasks:\n",
       "a) Access a specific element using row and column index\n",
       "b) Slice the second row\n",
       "c) Slice a sub-array from row 1 to 2 and column 0 to 1\n"
      ],
      "text/plain": [
       "<IPython.core.display.Markdown object>"
      ]
     },
     "metadata": {},
     "output_type": "display_data"
    },
    {
     "name": "stdout",
     "output_type": "stream",
     "text": [
      "5\n",
      "[12 14  8 13 13]\n",
      "[[ 7 12]\n",
      " [12 14]]\n"
     ]
    },
    {
     "data": {
      "text/markdown": [
       "## Q3: Reshaping Arrays\n",
       "Create a 1D NumPy array of 12 elements.\n",
       "a) Reshape it into a 3x4 array\n",
       "b) Then reshape it into a 2x6 array\n",
       "\n",
       "\n"
      ],
      "text/plain": [
       "<IPython.core.display.Markdown object>"
      ]
     },
     "metadata": {},
     "output_type": "display_data"
    },
    {
     "data": {
      "text/markdown": [
       "## Q4: Joining Arrays\n",
       "Create two 2D arrays of shape (2, 2).\n",
       "a) Join them horizontally\n",
       "b) Join them vertically\n"
      ],
      "text/plain": [
       "<IPython.core.display.Markdown object>"
      ]
     },
     "metadata": {},
     "output_type": "display_data"
    },
    {
     "name": "stdout",
     "output_type": "stream",
     "text": [
      "[[7 2]\n",
      " [2 3]]\n",
      "[[7 7]\n",
      " [4 7]]\n",
      "[[7 2 7 7]\n",
      " [2 3 4 7]]\n",
      "[[7 2]\n",
      " [2 3]\n",
      " [7 7]\n",
      " [4 7]]\n"
     ]
    },
    {
     "data": {
      "text/markdown": [
       "## Q5: Splitting Arrays\n",
       "a) Create a 1D array of 9 elements and split it into 3 equal parts\n",
       "b) Create a 2D array of shape (2, 6) and split it into 3 sub-arrays column-wise\n"
      ],
      "text/plain": [
       "<IPython.core.display.Markdown object>"
      ]
     },
     "metadata": {},
     "output_type": "display_data"
    },
    {
     "name": "stdout",
     "output_type": "stream",
     "text": [
      "[2 6 6 8 3 4 7 4 5]\n",
      "[2 6 6] [8 3 4] [7 4 5]\n",
      "[1 2 3 4 5]\n",
      "[3 4 5 6 7]\n",
      "15\n",
      "120\n",
      "[  1   2   6  24 120]\n",
      "[ 1  3  6 10 15]\n"
     ]
    },
    {
     "data": {
      "text/markdown": [
       "## --- Cells from Muhammad_Talha.ipynb ---"
      ],
      "text/plain": [
       "<IPython.core.display.Markdown object>"
      ]
     },
     "metadata": {},
     "output_type": "display_data"
    },
    {
     "data": {
      "text/markdown": [
       "## UNIT – I \n",
       "# INTRODUCTION DATA, EXPRESSIONS, STATEMENTS "
      ],
      "text/plain": [
       "<IPython.core.display.Markdown object>"
      ]
     },
     "metadata": {},
     "output_type": "display_data"
    },
    {
     "name": "stdout",
     "output_type": "stream",
     "text": [
      "Hello World \n"
     ]
    },
    {
     "data": {
      "text/markdown": [
       "# Data types: \n",
       "Int: \n"
      ],
      "text/plain": [
       "<IPython.core.display.Markdown object>"
      ]
     },
     "metadata": {},
     "output_type": "display_data"
    },
    {
     "name": "stdout",
     "output_type": "stream",
     "text": [
      "24656354687656\n",
      "30\n",
      "2\n",
      "2\n",
      "32\n",
      "10\n",
      "<class 'int'>\n"
     ]
    },
    {
     "data": {
      "text/markdown": [
       "# Float: \n",
       "Float, or \"floating point number\" is a number, positive or negative, containing one or more  decimals.\n",
       "\n"
      ],
      "text/plain": [
       "<IPython.core.display.Markdown object>"
      ]
     },
     "metadata": {},
     "output_type": "display_data"
    },
    {
     "name": "stdout",
     "output_type": "stream",
     "text": [
      "2.8\n",
      "<class 'float'>\n",
      "<class 'float'>\n",
      "<class 'float'>\n",
      "<class 'float'>\n"
     ]
    },
    {
     "data": {
      "text/markdown": [
       "# Boolean: \n",
       "Objects of Boolean type may have one of two values, True or False: \n"
      ],
      "text/plain": [
       "<IPython.core.display.Markdown object>"
      ]
     },
     "metadata": {},
     "output_type": "display_data"
    },
    {
     "name": "stdout",
     "output_type": "stream",
     "text": [
      "<class 'bool'>\n",
      "<class 'bool'>\n"
     ]
    },
    {
     "data": {
      "text/markdown": [
       "# String: \n"
      ],
      "text/plain": [
       "<IPython.core.display.Markdown object>"
      ]
     },
     "metadata": {},
     "output_type": "display_data"
    },
    {
     "name": "stdout",
     "output_type": "stream",
     "text": [
      "Muhammad Talha\n",
      "<class 'str'>\n",
      "Government college Formen is an autonomous (') college\n",
      "Government college Formen is an autonomous (\") college\n",
      "Government college Formen is an autonomous (') college\n",
      "Government college Formen is an autonomous \" college\n",
      "a \n",
      "b\n",
      "Formen \n",
      "college\n"
     ]
    },
    {
     "data": {
      "text/markdown": [
       "## List: \n"
      ],
      "text/plain": [
       "<IPython.core.display.Markdown object>"
      ]
     },
     "metadata": {},
     "output_type": "display_data"
    },
    {
     "name": "stdout",
     "output_type": "stream",
     "text": [
      "[1, 2, 3, 'A', 'B', 7, 8, [10, 'Talha']]\n",
      "[]\n",
      "['Talha', 123, True]\n",
      "<class 'list'>\n"
     ]
    },
    {
     "data": {
      "text/markdown": [
       "## Variables: \n",
       "Variables are nothing but reserved memory locations to store values. This means that when you create a variable you reserve some space in memory. \n"
      ],
      "text/plain": [
       "<IPython.core.display.Markdown object>"
      ]
     },
     "metadata": {},
     "output_type": "display_data"
    },
    {
     "name": "stdout",
     "output_type": "stream",
     "text": [
      "500\n",
      "8700.0\n",
      "Talha\n",
      "Talha Talha Talha\n",
      "1 2 Formen College \n",
      "Formen \n",
      "Peoples Information Technology Program\n",
      "Technology ProgramPeoples Information \n"
     ]
    },
    {
     "data": {
      "text/markdown": [
       "## Expressions: \n",
       "An expression is a combination of values, variables, and operators. An expression is evaluated using assignment operator.\n",
       "\n"
      ],
      "text/plain": [
       "<IPython.core.display.Markdown object>"
      ]
     },
     "metadata": {},
     "output_type": "display_data"
    },
    {
     "name": "stdout",
     "output_type": "stream",
     "text": [
      "30\n"
     ]
    },
    {
     "data": {
      "text/markdown": [
       "## Precedence of Operators: \n"
      ],
      "text/plain": [
       "<IPython.core.display.Markdown object>"
      ]
     },
     "metadata": {},
     "output_type": "display_data"
    },
    {
     "name": "stdout",
     "output_type": "stream",
     "text": [
      "Value of (a + b) * c / d is  90.0\n",
      "Value of ((a + b) * c) / d is  90.0\n",
      "Value of (a + b) * (c / d) is  90.0\n",
      "Value of a + (b * c) / d is  50.0\n"
     ]
    },
    {
     "data": {
      "text/markdown": [
       "## Modules: "
      ],
      "text/plain": [
       "<IPython.core.display.Markdown object>"
      ]
     },
     "metadata": {},
     "output_type": "display_data"
    },
    {
     "name": "stdout",
     "output_type": "stream",
     "text": [
      "3.13.1 (tags/v3.13.1:0671451, Dec  3 2024, 19:06:28) [MSC v.1942 64 bit (AMD64)]\n",
      "      May 2021\n",
      "Mo Tu We Th Fr Sa Su\n",
      "                1  2\n",
      " 3  4  5  6  7  8  9\n",
      "10 11 12 13 14 15 16\n",
      "17 18 19 20 21 22 23\n",
      "24 25 26 27 28 29 30\n",
      "31\n",
      "\n",
      "True\n",
      "False\n"
     ]
    },
    {
     "data": {
      "text/markdown": [
       "## Functions: \n",
       "### 1. Built-in functions - Functions that are built into Python. \n",
       "### 2. User-defined functions - Functions defined by the users themselves. \n"
      ],
      "text/plain": [
       "<IPython.core.display.Markdown object>"
      ]
     },
     "metadata": {},
     "output_type": "display_data"
    },
    {
     "name": "stdout",
     "output_type": "stream",
     "text": [
      "Absolute value of -20 is: 20\n",
      "The sum is 25\n"
     ]
    },
    {
     "data": {
      "text/markdown": [
       "## Flow of Execution: "
      ],
      "text/plain": [
       "<IPython.core.display.Markdown object>"
      ]
     },
     "metadata": {},
     "output_type": "display_data"
    },
    {
     "name": "stdout",
     "output_type": "stream",
     "text": [
      "welcome\n",
      "0\n",
      "1\n",
      "2\n",
      "Good morning Talha\n"
     ]
    },
    {
     "data": {
      "text/markdown": [
       "## Parameters and arguments:"
      ],
      "text/plain": [
       "<IPython.core.display.Markdown object>"
      ]
     },
     "metadata": {},
     "output_type": "display_data"
    },
    {
     "name": "stdout",
     "output_type": "stream",
     "text": [
      "60\n",
      "(15, 5)\n",
      "HELLOCOLLEGE\n",
      "mrcet\n",
      "a is 3 and b is 7 and c is 10\n",
      "a is 25 and b is 5 and c is 24\n",
      "a is 100 and b is 5 and c is 50\n",
      "ZAIN and TALHA are friends\n",
      "Hello Talha\n",
      "Hello Zain\n",
      "Hello Waqar\n",
      "Hello Salman\n"
     ]
    },
    {
     "data": {
      "text/markdown": [
       "## Practice Question At the End Of chapter 1"
      ],
      "text/plain": [
       "<IPython.core.display.Markdown object>"
      ]
     },
     "metadata": {},
     "output_type": "display_data"
    },
    {
     "name": "stdout",
     "output_type": "stream",
     "text": [
      "Failed to load Muhammad_Talha.ipynb: invalid syntax (<string>, line 2)\n"
     ]
    }
   ],
   "source": [
    "import numpy as np\n",
    "import json\n",
    "from IPython.display import display, Markdown\n",
    "\n",
    "# List of notebook files to merge\n",
    "notebook_paths = ['phase2.ipynb', 'phase3.ipynb', 'exam.ipynb', 'Muhammad_Talha.ipynb']\n",
    "\n",
    "# Function to load cells from a notebook\n",
    "def load_cells_from_notebook(path):\n",
    "    with open(path, 'r', encoding='utf-8') as f:\n",
    "        notebook = json.load(f)\n",
    "    return notebook['cells']\n",
    "\n",
    "# Load and execute/display cells from each notebook\n",
    "for path in notebook_paths:\n",
    "    try:\n",
    "        cells = load_cells_from_notebook(path)\n",
    "        display(Markdown(f\"## --- Cells from {path} ---\"))\n",
    "        for cell in cells:\n",
    "            if cell['cell_type'] == 'markdown':\n",
    "                display(Markdown(''.join(cell['source'])))\n",
    "            elif cell['cell_type'] == 'code':\n",
    "                exec(''.join(cell['source']), globals())\n",
    "    except Exception as e:\n",
    "        print(f\"Failed to load {path}: {e}\")"
   ]
  },
  {
   "cell_type": "markdown",
   "metadata": {},
   "source": [
    "### creating arry from list"
   ]
  },
  {
   "cell_type": "code",
   "execution_count": 9,
   "metadata": {},
   "outputs": [
    {
     "name": "stdout",
     "output_type": "stream",
     "text": [
      "1D array  [1 2 3 4 5]\n",
      "2D array  [[1 2 3 4]\n",
      " [5 6 7 8]]\n"
     ]
    }
   ],
   "source": [
    "arr_id = np.array([1,2,3,4,5])\n",
    "\n",
    "print(\"1D array \",arr_id)\n",
    "\n",
    "arr_2 = np.array([[1,2,3,4],[5,6,7,8]])\n",
    "print(\"2D array \",arr_2)\n"
   ]
  },
  {
   "cell_type": "markdown",
   "metadata": {},
   "source": [
    "### list vs numpy array  "
   ]
  },
  {
   "cell_type": "code",
   "execution_count": 10,
   "metadata": {},
   "outputs": [
    {
     "name": "stdout",
     "output_type": "stream",
     "text": [
      "python list multiplication  [1, 2, 3, 4, 5, 1, 2, 3, 4, 5]\n",
      "python list multiplication  [2 4 6]\n",
      "\n",
      " python  List time  1.2362422943115234\n",
      "\n",
      " python  List time  0.02496194839477539\n"
     ]
    }
   ],
   "source": [
    "py_list1 = [1,2,3,4,5]\n",
    "print(\"python list multiplication \",py_list1 * 2)\n",
    "\n",
    "numpy_arr1 = np.array([1,2,3])\n",
    "print(\"python list multiplication \",numpy_arr1 * 2)\n",
    "\n",
    "import time \n",
    "\n",
    "start_time = time.time()\n",
    "\n",
    "py_list = [i * 2 for i in range(10000000)]\n",
    "print(\"\\n python  List time \", time.time() - start_time)\n",
    "\n",
    "start_time = time.time()\n",
    "\n",
    "numpy_arr = np.arange(10000000)\n",
    "print(\"\\n python  List time \", time.time() - start_time)\n"
   ]
  },
  {
   "cell_type": "markdown",
   "metadata": {},
   "source": [
    "## creating array from scratch "
   ]
  },
  {
   "cell_type": "code",
   "execution_count": 11,
   "metadata": {},
   "outputs": [
    {
     "name": "stdout",
     "output_type": "stream",
     "text": [
      " zerros array \n",
      " [[0. 0. 0. 0.]\n",
      " [0. 0. 0. 0.]\n",
      " [0. 0. 0. 0.]]\n",
      " ones array \n",
      " [[1. 1. 1.]\n",
      " [1. 1. 1.]]\n",
      " constant array \n",
      " [[7 7 7]\n",
      " [7 7 7]]\n",
      " random array \n",
      " [[0.01718108 0.28041781 0.02025292]\n",
      " [0.57698345 0.1153443  0.83579022]]\n",
      " sequence \n",
      " [0 2 4 6 8]\n"
     ]
    }
   ],
   "source": [
    "zeros_array = np.zeros((3,4))\n",
    "print(\" zerros array \\n\", zeros_array)\n",
    "\n",
    "\n",
    "ones_array = np.ones((2,3))\n",
    "print(\" ones array \\n\", ones_array)\n",
    "\n",
    "full_array = np.full((2,3),7)\n",
    "print(\" constant array \\n\", full_array)\n",
    "\n",
    "random_array = np.random.random((2,3))\n",
    "print(\" random array \\n\", random_array)\n",
    "\n",
    "sequance_array = np.arange(0,10,2)\n",
    "print(\" sequence \\n\", sequance_array)\n",
    "\n",
    "\n",
    "\n"
   ]
  },
  {
   "cell_type": "markdown",
   "metadata": {},
   "source": [
    "### vactor , Matrix, Tensor"
   ]
  },
  {
   "cell_type": "code",
   "execution_count": 12,
   "metadata": {},
   "outputs": [
    {
     "name": "stdout",
     "output_type": "stream",
     "text": [
      "Vector \n",
      " [1 2 3]\n",
      "Matrix \n",
      " [[1 2 3]\n",
      " [4 5 6]]\n",
      "Tenser \n",
      " [[[1 2 3]\n",
      "  [7 8 9]]\n",
      "\n",
      " [[4 5 6]\n",
      "  [1 2 3]]]\n"
     ]
    }
   ],
   "source": [
    "vector = np.array([1,2,3])\n",
    "print(\"Vector \\n\", vector)\n",
    "\n",
    "matrix = np.array([[1,2,3],[4,5,6]])\n",
    "print(\"Matrix \\n\", matrix)\n",
    "\n",
    "tensor = np.array([[[1,2,3],[7,8,9]],[[4,5,6],[1,2,3]]])\n",
    "print(\"Tenser \\n\", tensor)\n",
    "\n"
   ]
  },
  {
   "cell_type": "markdown",
   "metadata": {},
   "source": [
    "## Array Properties"
   ]
  },
  {
   "cell_type": "code",
   "execution_count": 13,
   "metadata": {},
   "outputs": [
    {
     "name": "stdout",
     "output_type": "stream",
     "text": [
      "Shape  (2, 3)\n",
      "Dimension  2\n",
      "Size  6\n",
      "Data Type  int64\n"
     ]
    }
   ],
   "source": [
    "arr_prop = np.array([[1,2,3],[4,5,6]])\n",
    "\n",
    "print(\"Shape \", arr_prop.shape)\n",
    "print(\"Dimension \", arr_prop.ndim)\n",
    "print(\"Size \", arr_prop.size)\n",
    "print(\"Data Type \", arr_prop.dtype)"
   ]
  },
  {
   "cell_type": "markdown",
   "metadata": {},
   "source": [
    "### Array Reshapping"
   ]
  },
  {
   "cell_type": "code",
   "execution_count": 14,
   "metadata": {},
   "outputs": [
    {
     "name": "stdout",
     "output_type": "stream",
     "text": [
      "Oraginal array  [ 0  1  2  3  4  5  6  7  8  9 10 11]\n",
      "Reshaped Array  [[ 0  1  2]\n",
      " [ 3  4  5]\n",
      " [ 6  7  8]\n",
      " [ 9 10 11]]\n",
      "Flattered \n",
      " [ 0  1  2  3  4  5  6  7  8  9 10 11]\n",
      "Raveled Array \n",
      " [ 0  1  2  3  4  5  6  7  8  9 10 11]\n",
      "Transpose \n",
      " [[ 0  3  6  9]\n",
      " [ 1  4  7 10]\n",
      " [ 2  5  8 11]]\n"
     ]
    }
   ],
   "source": [
    "arr_res = np.arange(12)\n",
    "print(\"Oraginal array \", arr_res)\n",
    "\n",
    "reshaped = arr_res.reshape((4,3))\n",
    "print(\"Reshaped Array \", reshaped)\n",
    "\n",
    "flattered_array = reshaped.flatten()\n",
    "print(\"Flattered \\n\", flattered_array)\n",
    "\n",
    "#  revel (returns view , insted of copy)\n",
    "\n",
    "raveled = reshaped.ravel()\n",
    "print(\"Raveled Array \\n\", raveled)\n",
    "\n",
    "#  transpose \n",
    "transpose = reshaped.T\n",
    "print(\"Transpose \\n\", transpose)\n",
    "\n"
   ]
  },
  {
   "cell_type": "code",
   "execution_count": null,
   "metadata": {},
   "outputs": [],
   "source": []
  }
 ],
 "metadata": {
  "kernelspec": {
   "display_name": "Python 3",
   "language": "python",
   "name": "python3"
  },
  "language_info": {
   "codemirror_mode": {
    "name": "ipython",
    "version": 3
   },
   "file_extension": ".py",
   "mimetype": "text/x-python",
   "name": "python",
   "nbconvert_exporter": "python",
   "pygments_lexer": "ipython3",
   "version": "3.13.1"
  }
 },
 "nbformat": 4,
 "nbformat_minor": 2
}
