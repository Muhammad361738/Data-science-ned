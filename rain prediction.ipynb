{
 "cells": [
  {
   "cell_type": "markdown",
   "id": "65a3dc7c-333f-40c6-8a61-52def6c77e26",
   "metadata": {},
   "source": [
    "## IMPORTS"
   ]
  },
  {
   "cell_type": "code",
   "execution_count": 484,
   "id": "d7e31cc2-e193-45d2-80b6-8f78c32571e3",
   "metadata": {},
   "outputs": [],
   "source": [
    "import numpy as np \n",
    "import pandas as pd \n",
    "import matplotlib.pyplot as plt \n",
    "import seaborn as sns\n",
    "from sklearn import preprocessing\n",
    "from sklearn.model_selection import train_test_split\n",
    "from sklearn.preprocessing import StandardScaler\n",
    "from tensorflow.keras.models import Sequential\n",
    "from tensorflow.keras.layers import Dense, Dropout\n",
    "from tensorflow.keras.callbacks import EarlyStopping"
   ]
  },
  {
   "cell_type": "markdown",
   "id": "e0c5120e-1816-4c07-a1f3-6b2b5f9a28d2",
   "metadata": {},
   "source": [
    "## DATA LOADING "
   ]
  },
  {
   "cell_type": "code",
   "execution_count": 486,
   "id": "415322f1-c12a-44fa-9dae-3ac5fb6d03b9",
   "metadata": {},
   "outputs": [],
   "source": [
    "df = pd.read_csv('./weatherAUS.csv')"
   ]
  },
  {
   "cell_type": "code",
   "execution_count": 487,
   "id": "b5ca649c-99d3-4e2c-8fb0-3ef8d9cefb2b",
   "metadata": {},
   "outputs": [
    {
     "data": {
      "text/html": [
       "<div>\n",
       "<style scoped>\n",
       "    .dataframe tbody tr th:only-of-type {\n",
       "        vertical-align: middle;\n",
       "    }\n",
       "\n",
       "    .dataframe tbody tr th {\n",
       "        vertical-align: top;\n",
       "    }\n",
       "\n",
       "    .dataframe thead th {\n",
       "        text-align: right;\n",
       "    }\n",
       "</style>\n",
       "<table border=\"1\" class=\"dataframe\">\n",
       "  <thead>\n",
       "    <tr style=\"text-align: right;\">\n",
       "      <th></th>\n",
       "      <th>Date</th>\n",
       "      <th>Location</th>\n",
       "      <th>MinTemp</th>\n",
       "      <th>MaxTemp</th>\n",
       "      <th>Rainfall</th>\n",
       "      <th>Evaporation</th>\n",
       "      <th>Sunshine</th>\n",
       "      <th>WindGustDir</th>\n",
       "      <th>WindGustSpeed</th>\n",
       "      <th>WindDir9am</th>\n",
       "      <th>...</th>\n",
       "      <th>Humidity9am</th>\n",
       "      <th>Humidity3pm</th>\n",
       "      <th>Pressure9am</th>\n",
       "      <th>Pressure3pm</th>\n",
       "      <th>Cloud9am</th>\n",
       "      <th>Cloud3pm</th>\n",
       "      <th>Temp9am</th>\n",
       "      <th>Temp3pm</th>\n",
       "      <th>RainToday</th>\n",
       "      <th>RainTomorrow</th>\n",
       "    </tr>\n",
       "  </thead>\n",
       "  <tbody>\n",
       "    <tr>\n",
       "      <th>0</th>\n",
       "      <td>2008-12-01</td>\n",
       "      <td>Albury</td>\n",
       "      <td>13.4</td>\n",
       "      <td>22.9</td>\n",
       "      <td>0.6</td>\n",
       "      <td>NaN</td>\n",
       "      <td>NaN</td>\n",
       "      <td>W</td>\n",
       "      <td>44.0</td>\n",
       "      <td>W</td>\n",
       "      <td>...</td>\n",
       "      <td>71.0</td>\n",
       "      <td>22.0</td>\n",
       "      <td>1007.7</td>\n",
       "      <td>1007.1</td>\n",
       "      <td>8.0</td>\n",
       "      <td>NaN</td>\n",
       "      <td>16.9</td>\n",
       "      <td>21.8</td>\n",
       "      <td>No</td>\n",
       "      <td>No</td>\n",
       "    </tr>\n",
       "    <tr>\n",
       "      <th>1</th>\n",
       "      <td>2008-12-02</td>\n",
       "      <td>Albury</td>\n",
       "      <td>7.4</td>\n",
       "      <td>25.1</td>\n",
       "      <td>0.0</td>\n",
       "      <td>NaN</td>\n",
       "      <td>NaN</td>\n",
       "      <td>WNW</td>\n",
       "      <td>44.0</td>\n",
       "      <td>NNW</td>\n",
       "      <td>...</td>\n",
       "      <td>44.0</td>\n",
       "      <td>25.0</td>\n",
       "      <td>1010.6</td>\n",
       "      <td>1007.8</td>\n",
       "      <td>NaN</td>\n",
       "      <td>NaN</td>\n",
       "      <td>17.2</td>\n",
       "      <td>24.3</td>\n",
       "      <td>No</td>\n",
       "      <td>No</td>\n",
       "    </tr>\n",
       "    <tr>\n",
       "      <th>2</th>\n",
       "      <td>2008-12-03</td>\n",
       "      <td>Albury</td>\n",
       "      <td>12.9</td>\n",
       "      <td>25.7</td>\n",
       "      <td>0.0</td>\n",
       "      <td>NaN</td>\n",
       "      <td>NaN</td>\n",
       "      <td>WSW</td>\n",
       "      <td>46.0</td>\n",
       "      <td>W</td>\n",
       "      <td>...</td>\n",
       "      <td>38.0</td>\n",
       "      <td>30.0</td>\n",
       "      <td>1007.6</td>\n",
       "      <td>1008.7</td>\n",
       "      <td>NaN</td>\n",
       "      <td>2.0</td>\n",
       "      <td>21.0</td>\n",
       "      <td>23.2</td>\n",
       "      <td>No</td>\n",
       "      <td>No</td>\n",
       "    </tr>\n",
       "    <tr>\n",
       "      <th>3</th>\n",
       "      <td>2008-12-04</td>\n",
       "      <td>Albury</td>\n",
       "      <td>9.2</td>\n",
       "      <td>28.0</td>\n",
       "      <td>0.0</td>\n",
       "      <td>NaN</td>\n",
       "      <td>NaN</td>\n",
       "      <td>NE</td>\n",
       "      <td>24.0</td>\n",
       "      <td>SE</td>\n",
       "      <td>...</td>\n",
       "      <td>45.0</td>\n",
       "      <td>16.0</td>\n",
       "      <td>1017.6</td>\n",
       "      <td>1012.8</td>\n",
       "      <td>NaN</td>\n",
       "      <td>NaN</td>\n",
       "      <td>18.1</td>\n",
       "      <td>26.5</td>\n",
       "      <td>No</td>\n",
       "      <td>No</td>\n",
       "    </tr>\n",
       "    <tr>\n",
       "      <th>4</th>\n",
       "      <td>2008-12-05</td>\n",
       "      <td>Albury</td>\n",
       "      <td>17.5</td>\n",
       "      <td>32.3</td>\n",
       "      <td>1.0</td>\n",
       "      <td>NaN</td>\n",
       "      <td>NaN</td>\n",
       "      <td>W</td>\n",
       "      <td>41.0</td>\n",
       "      <td>ENE</td>\n",
       "      <td>...</td>\n",
       "      <td>82.0</td>\n",
       "      <td>33.0</td>\n",
       "      <td>1010.8</td>\n",
       "      <td>1006.0</td>\n",
       "      <td>7.0</td>\n",
       "      <td>8.0</td>\n",
       "      <td>17.8</td>\n",
       "      <td>29.7</td>\n",
       "      <td>No</td>\n",
       "      <td>No</td>\n",
       "    </tr>\n",
       "  </tbody>\n",
       "</table>\n",
       "<p>5 rows × 23 columns</p>\n",
       "</div>"
      ],
      "text/plain": [
       "         Date Location  MinTemp  MaxTemp  Rainfall  Evaporation  Sunshine  \\\n",
       "0  2008-12-01   Albury     13.4     22.9       0.6          NaN       NaN   \n",
       "1  2008-12-02   Albury      7.4     25.1       0.0          NaN       NaN   \n",
       "2  2008-12-03   Albury     12.9     25.7       0.0          NaN       NaN   \n",
       "3  2008-12-04   Albury      9.2     28.0       0.0          NaN       NaN   \n",
       "4  2008-12-05   Albury     17.5     32.3       1.0          NaN       NaN   \n",
       "\n",
       "  WindGustDir  WindGustSpeed WindDir9am  ... Humidity9am  Humidity3pm  \\\n",
       "0           W           44.0          W  ...        71.0         22.0   \n",
       "1         WNW           44.0        NNW  ...        44.0         25.0   \n",
       "2         WSW           46.0          W  ...        38.0         30.0   \n",
       "3          NE           24.0         SE  ...        45.0         16.0   \n",
       "4           W           41.0        ENE  ...        82.0         33.0   \n",
       "\n",
       "   Pressure9am  Pressure3pm  Cloud9am  Cloud3pm  Temp9am  Temp3pm  RainToday  \\\n",
       "0       1007.7       1007.1       8.0       NaN     16.9     21.8         No   \n",
       "1       1010.6       1007.8       NaN       NaN     17.2     24.3         No   \n",
       "2       1007.6       1008.7       NaN       2.0     21.0     23.2         No   \n",
       "3       1017.6       1012.8       NaN       NaN     18.1     26.5         No   \n",
       "4       1010.8       1006.0       7.0       8.0     17.8     29.7         No   \n",
       "\n",
       "   RainTomorrow  \n",
       "0            No  \n",
       "1            No  \n",
       "2            No  \n",
       "3            No  \n",
       "4            No  \n",
       "\n",
       "[5 rows x 23 columns]"
      ]
     },
     "execution_count": 487,
     "metadata": {},
     "output_type": "execute_result"
    }
   ],
   "source": [
    "df.head()"
   ]
  },
  {
   "cell_type": "markdown",
   "id": "4e688cc7-e985-4acf-b943-ae5dae31db3f",
   "metadata": {},
   "source": [
    "## ANALYZING DATA "
   ]
  },
  {
   "cell_type": "code",
   "execution_count": 489,
   "id": "6acfab84-013f-4112-9adc-d0f8284c1186",
   "metadata": {},
   "outputs": [
    {
     "data": {
      "text/plain": [
       "(145460, 23)"
      ]
     },
     "execution_count": 489,
     "metadata": {},
     "output_type": "execute_result"
    }
   ],
   "source": [
    "df.shape"
   ]
  },
  {
   "cell_type": "code",
   "execution_count": 490,
   "id": "c0a0ce96-e893-4889-9335-0678ebaf5a4a",
   "metadata": {},
   "outputs": [
    {
     "data": {
      "text/html": [
       "<div>\n",
       "<style scoped>\n",
       "    .dataframe tbody tr th:only-of-type {\n",
       "        vertical-align: middle;\n",
       "    }\n",
       "\n",
       "    .dataframe tbody tr th {\n",
       "        vertical-align: top;\n",
       "    }\n",
       "\n",
       "    .dataframe thead th {\n",
       "        text-align: right;\n",
       "    }\n",
       "</style>\n",
       "<table border=\"1\" class=\"dataframe\">\n",
       "  <thead>\n",
       "    <tr style=\"text-align: right;\">\n",
       "      <th></th>\n",
       "      <th>MinTemp</th>\n",
       "      <th>MaxTemp</th>\n",
       "      <th>Rainfall</th>\n",
       "      <th>Evaporation</th>\n",
       "      <th>Sunshine</th>\n",
       "      <th>WindGustSpeed</th>\n",
       "      <th>WindSpeed9am</th>\n",
       "      <th>WindSpeed3pm</th>\n",
       "      <th>Humidity9am</th>\n",
       "      <th>Humidity3pm</th>\n",
       "      <th>Pressure9am</th>\n",
       "      <th>Pressure3pm</th>\n",
       "      <th>Cloud9am</th>\n",
       "      <th>Cloud3pm</th>\n",
       "      <th>Temp9am</th>\n",
       "      <th>Temp3pm</th>\n",
       "    </tr>\n",
       "  </thead>\n",
       "  <tbody>\n",
       "    <tr>\n",
       "      <th>count</th>\n",
       "      <td>143975.000000</td>\n",
       "      <td>144199.000000</td>\n",
       "      <td>142199.000000</td>\n",
       "      <td>82670.000000</td>\n",
       "      <td>75625.000000</td>\n",
       "      <td>135197.000000</td>\n",
       "      <td>143693.000000</td>\n",
       "      <td>142398.000000</td>\n",
       "      <td>142806.000000</td>\n",
       "      <td>140953.000000</td>\n",
       "      <td>130395.00000</td>\n",
       "      <td>130432.000000</td>\n",
       "      <td>89572.000000</td>\n",
       "      <td>86102.000000</td>\n",
       "      <td>143693.000000</td>\n",
       "      <td>141851.00000</td>\n",
       "    </tr>\n",
       "    <tr>\n",
       "      <th>mean</th>\n",
       "      <td>12.194034</td>\n",
       "      <td>23.221348</td>\n",
       "      <td>2.360918</td>\n",
       "      <td>5.468232</td>\n",
       "      <td>7.611178</td>\n",
       "      <td>40.035230</td>\n",
       "      <td>14.043426</td>\n",
       "      <td>18.662657</td>\n",
       "      <td>68.880831</td>\n",
       "      <td>51.539116</td>\n",
       "      <td>1017.64994</td>\n",
       "      <td>1015.255889</td>\n",
       "      <td>4.447461</td>\n",
       "      <td>4.509930</td>\n",
       "      <td>16.990631</td>\n",
       "      <td>21.68339</td>\n",
       "    </tr>\n",
       "    <tr>\n",
       "      <th>std</th>\n",
       "      <td>6.398495</td>\n",
       "      <td>7.119049</td>\n",
       "      <td>8.478060</td>\n",
       "      <td>4.193704</td>\n",
       "      <td>3.785483</td>\n",
       "      <td>13.607062</td>\n",
       "      <td>8.915375</td>\n",
       "      <td>8.809800</td>\n",
       "      <td>19.029164</td>\n",
       "      <td>20.795902</td>\n",
       "      <td>7.10653</td>\n",
       "      <td>7.037414</td>\n",
       "      <td>2.887159</td>\n",
       "      <td>2.720357</td>\n",
       "      <td>6.488753</td>\n",
       "      <td>6.93665</td>\n",
       "    </tr>\n",
       "    <tr>\n",
       "      <th>min</th>\n",
       "      <td>-8.500000</td>\n",
       "      <td>-4.800000</td>\n",
       "      <td>0.000000</td>\n",
       "      <td>0.000000</td>\n",
       "      <td>0.000000</td>\n",
       "      <td>6.000000</td>\n",
       "      <td>0.000000</td>\n",
       "      <td>0.000000</td>\n",
       "      <td>0.000000</td>\n",
       "      <td>0.000000</td>\n",
       "      <td>980.50000</td>\n",
       "      <td>977.100000</td>\n",
       "      <td>0.000000</td>\n",
       "      <td>0.000000</td>\n",
       "      <td>-7.200000</td>\n",
       "      <td>-5.40000</td>\n",
       "    </tr>\n",
       "    <tr>\n",
       "      <th>25%</th>\n",
       "      <td>7.600000</td>\n",
       "      <td>17.900000</td>\n",
       "      <td>0.000000</td>\n",
       "      <td>2.600000</td>\n",
       "      <td>4.800000</td>\n",
       "      <td>31.000000</td>\n",
       "      <td>7.000000</td>\n",
       "      <td>13.000000</td>\n",
       "      <td>57.000000</td>\n",
       "      <td>37.000000</td>\n",
       "      <td>1012.90000</td>\n",
       "      <td>1010.400000</td>\n",
       "      <td>1.000000</td>\n",
       "      <td>2.000000</td>\n",
       "      <td>12.300000</td>\n",
       "      <td>16.60000</td>\n",
       "    </tr>\n",
       "    <tr>\n",
       "      <th>50%</th>\n",
       "      <td>12.000000</td>\n",
       "      <td>22.600000</td>\n",
       "      <td>0.000000</td>\n",
       "      <td>4.800000</td>\n",
       "      <td>8.400000</td>\n",
       "      <td>39.000000</td>\n",
       "      <td>13.000000</td>\n",
       "      <td>19.000000</td>\n",
       "      <td>70.000000</td>\n",
       "      <td>52.000000</td>\n",
       "      <td>1017.60000</td>\n",
       "      <td>1015.200000</td>\n",
       "      <td>5.000000</td>\n",
       "      <td>5.000000</td>\n",
       "      <td>16.700000</td>\n",
       "      <td>21.10000</td>\n",
       "    </tr>\n",
       "    <tr>\n",
       "      <th>75%</th>\n",
       "      <td>16.900000</td>\n",
       "      <td>28.200000</td>\n",
       "      <td>0.800000</td>\n",
       "      <td>7.400000</td>\n",
       "      <td>10.600000</td>\n",
       "      <td>48.000000</td>\n",
       "      <td>19.000000</td>\n",
       "      <td>24.000000</td>\n",
       "      <td>83.000000</td>\n",
       "      <td>66.000000</td>\n",
       "      <td>1022.40000</td>\n",
       "      <td>1020.000000</td>\n",
       "      <td>7.000000</td>\n",
       "      <td>7.000000</td>\n",
       "      <td>21.600000</td>\n",
       "      <td>26.40000</td>\n",
       "    </tr>\n",
       "    <tr>\n",
       "      <th>max</th>\n",
       "      <td>33.900000</td>\n",
       "      <td>48.100000</td>\n",
       "      <td>371.000000</td>\n",
       "      <td>145.000000</td>\n",
       "      <td>14.500000</td>\n",
       "      <td>135.000000</td>\n",
       "      <td>130.000000</td>\n",
       "      <td>87.000000</td>\n",
       "      <td>100.000000</td>\n",
       "      <td>100.000000</td>\n",
       "      <td>1041.00000</td>\n",
       "      <td>1039.600000</td>\n",
       "      <td>9.000000</td>\n",
       "      <td>9.000000</td>\n",
       "      <td>40.200000</td>\n",
       "      <td>46.70000</td>\n",
       "    </tr>\n",
       "  </tbody>\n",
       "</table>\n",
       "</div>"
      ],
      "text/plain": [
       "             MinTemp        MaxTemp       Rainfall   Evaporation  \\\n",
       "count  143975.000000  144199.000000  142199.000000  82670.000000   \n",
       "mean       12.194034      23.221348       2.360918      5.468232   \n",
       "std         6.398495       7.119049       8.478060      4.193704   \n",
       "min        -8.500000      -4.800000       0.000000      0.000000   \n",
       "25%         7.600000      17.900000       0.000000      2.600000   \n",
       "50%        12.000000      22.600000       0.000000      4.800000   \n",
       "75%        16.900000      28.200000       0.800000      7.400000   \n",
       "max        33.900000      48.100000     371.000000    145.000000   \n",
       "\n",
       "           Sunshine  WindGustSpeed   WindSpeed9am   WindSpeed3pm  \\\n",
       "count  75625.000000  135197.000000  143693.000000  142398.000000   \n",
       "mean       7.611178      40.035230      14.043426      18.662657   \n",
       "std        3.785483      13.607062       8.915375       8.809800   \n",
       "min        0.000000       6.000000       0.000000       0.000000   \n",
       "25%        4.800000      31.000000       7.000000      13.000000   \n",
       "50%        8.400000      39.000000      13.000000      19.000000   \n",
       "75%       10.600000      48.000000      19.000000      24.000000   \n",
       "max       14.500000     135.000000     130.000000      87.000000   \n",
       "\n",
       "         Humidity9am    Humidity3pm   Pressure9am    Pressure3pm  \\\n",
       "count  142806.000000  140953.000000  130395.00000  130432.000000   \n",
       "mean       68.880831      51.539116    1017.64994    1015.255889   \n",
       "std        19.029164      20.795902       7.10653       7.037414   \n",
       "min         0.000000       0.000000     980.50000     977.100000   \n",
       "25%        57.000000      37.000000    1012.90000    1010.400000   \n",
       "50%        70.000000      52.000000    1017.60000    1015.200000   \n",
       "75%        83.000000      66.000000    1022.40000    1020.000000   \n",
       "max       100.000000     100.000000    1041.00000    1039.600000   \n",
       "\n",
       "           Cloud9am      Cloud3pm        Temp9am       Temp3pm  \n",
       "count  89572.000000  86102.000000  143693.000000  141851.00000  \n",
       "mean       4.447461      4.509930      16.990631      21.68339  \n",
       "std        2.887159      2.720357       6.488753       6.93665  \n",
       "min        0.000000      0.000000      -7.200000      -5.40000  \n",
       "25%        1.000000      2.000000      12.300000      16.60000  \n",
       "50%        5.000000      5.000000      16.700000      21.10000  \n",
       "75%        7.000000      7.000000      21.600000      26.40000  \n",
       "max        9.000000      9.000000      40.200000      46.70000  "
      ]
     },
     "execution_count": 490,
     "metadata": {},
     "output_type": "execute_result"
    }
   ],
   "source": [
    "df.describe()"
   ]
  },
  {
   "cell_type": "code",
   "execution_count": 491,
   "id": "ae3de584-8607-450a-b62e-1447285e7930",
   "metadata": {},
   "outputs": [
    {
     "name": "stdout",
     "output_type": "stream",
     "text": [
      "<class 'pandas.core.frame.DataFrame'>\n",
      "RangeIndex: 145460 entries, 0 to 145459\n",
      "Data columns (total 23 columns):\n",
      " #   Column         Non-Null Count   Dtype  \n",
      "---  ------         --------------   -----  \n",
      " 0   Date           145460 non-null  object \n",
      " 1   Location       145460 non-null  object \n",
      " 2   MinTemp        143975 non-null  float64\n",
      " 3   MaxTemp        144199 non-null  float64\n",
      " 4   Rainfall       142199 non-null  float64\n",
      " 5   Evaporation    82670 non-null   float64\n",
      " 6   Sunshine       75625 non-null   float64\n",
      " 7   WindGustDir    135134 non-null  object \n",
      " 8   WindGustSpeed  135197 non-null  float64\n",
      " 9   WindDir9am     134894 non-null  object \n",
      " 10  WindDir3pm     141232 non-null  object \n",
      " 11  WindSpeed9am   143693 non-null  float64\n",
      " 12  WindSpeed3pm   142398 non-null  float64\n",
      " 13  Humidity9am    142806 non-null  float64\n",
      " 14  Humidity3pm    140953 non-null  float64\n",
      " 15  Pressure9am    130395 non-null  float64\n",
      " 16  Pressure3pm    130432 non-null  float64\n",
      " 17  Cloud9am       89572 non-null   float64\n",
      " 18  Cloud3pm       86102 non-null   float64\n",
      " 19  Temp9am        143693 non-null  float64\n",
      " 20  Temp3pm        141851 non-null  float64\n",
      " 21  RainToday      142199 non-null  object \n",
      " 22  RainTomorrow   142193 non-null  object \n",
      "dtypes: float64(16), object(7)\n",
      "memory usage: 25.5+ MB\n"
     ]
    }
   ],
   "source": [
    "df.info()"
   ]
  },
  {
   "cell_type": "code",
   "execution_count": 492,
   "id": "945f0b63-67ef-4ef7-99be-58bfbc35c30e",
   "metadata": {},
   "outputs": [
    {
     "data": {
      "text/plain": [
       "Date                 0\n",
       "Location             0\n",
       "MinTemp           1485\n",
       "MaxTemp           1261\n",
       "Rainfall          3261\n",
       "Evaporation      62790\n",
       "Sunshine         69835\n",
       "WindGustDir      10326\n",
       "WindGustSpeed    10263\n",
       "WindDir9am       10566\n",
       "WindDir3pm        4228\n",
       "WindSpeed9am      1767\n",
       "WindSpeed3pm      3062\n",
       "Humidity9am       2654\n",
       "Humidity3pm       4507\n",
       "Pressure9am      15065\n",
       "Pressure3pm      15028\n",
       "Cloud9am         55888\n",
       "Cloud3pm         59358\n",
       "Temp9am           1767\n",
       "Temp3pm           3609\n",
       "RainToday         3261\n",
       "RainTomorrow      3267\n",
       "dtype: int64"
      ]
     },
     "execution_count": 492,
     "metadata": {},
     "output_type": "execute_result"
    }
   ],
   "source": [
    "df.isnull().sum()"
   ]
  },
  {
   "cell_type": "markdown",
   "id": "0f636343-bb6b-485a-a659-15cac8a8a800",
   "metadata": {},
   "source": [
    "## TRANSFORMING DATA"
   ]
  },
  {
   "cell_type": "code",
   "execution_count": 494,
   "id": "656af249-2bdb-4257-a77a-8594aae9867f",
   "metadata": {},
   "outputs": [],
   "source": [
    "## CONVERTING 'Yes' and 'No' into 0 and 1"
   ]
  },
  {
   "cell_type": "code",
   "execution_count": 495,
   "id": "e5c00a7c-e3a1-4975-a365-6231fa7e2996",
   "metadata": {},
   "outputs": [],
   "source": [
    "class_mapping = {\n",
    "    'Yes': 1,\n",
    "    'No': 0\n",
    "}"
   ]
  },
  {
   "cell_type": "code",
   "execution_count": 496,
   "id": "03acc55a-c42b-46e5-aed9-8cbff4babe12",
   "metadata": {},
   "outputs": [],
   "source": [
    "df['RainTomorrow'] = df['RainTomorrow'].map(class_mapping)\n",
    "df['RainTomorrow'] = df['RainTomorrow'].fillna(df['RainTomorrow'].mode()[0])"
   ]
  },
  {
   "cell_type": "code",
   "execution_count": 497,
   "id": "938e4027-8007-4d80-a355-83209f42354b",
   "metadata": {},
   "outputs": [],
   "source": [
    "df['RainToday'] = df['RainToday'].map(class_mapping)\n",
    "df['RainToday'] = df['RainToday'].fillna(df['RainToday'].mode()[0])"
   ]
  },
  {
   "cell_type": "code",
   "execution_count": 498,
   "id": "73f3c1b9-4e07-40ec-91f4-f35e963b8e82",
   "metadata": {},
   "outputs": [],
   "source": [
    "## REMOVING NULL VALUES"
   ]
  },
  {
   "cell_type": "code",
   "execution_count": 499,
   "id": "d7785ade-9391-4c4b-959a-5bbf3e5240c7",
   "metadata": {},
   "outputs": [],
   "source": [
    "def fill_na(col):\n",
    "    if pd.api.types.is_numeric_dtype(col):\n",
    "        return col.fillna(col.mean())\n",
    "    return col.fillna(col.mode()[0])\n",
    "\n",
    "df_filled = df.apply(fill_na, axis=0)  "
   ]
  },
  {
   "cell_type": "code",
   "execution_count": 500,
   "id": "e3a5bb92-7052-412c-a965-108451931c93",
   "metadata": {},
   "outputs": [],
   "source": [
    "## LABEL ENCODING THE COLMNS"
   ]
  },
  {
   "cell_type": "code",
   "execution_count": 501,
   "id": "c7a1dba1-1ada-412f-9bf1-b22e0eb4d461",
   "metadata": {},
   "outputs": [],
   "source": [
    "label_encoder = preprocessing.LabelEncoder()"
   ]
  },
  {
   "cell_type": "code",
   "execution_count": 502,
   "id": "3fbce789-992d-4055-a215-72e2b77b070f",
   "metadata": {},
   "outputs": [],
   "source": [
    "df_filled['WindGustDir']= label_encoder.fit_transform(df_filled['WindGustDir'])"
   ]
  },
  {
   "cell_type": "code",
   "execution_count": 503,
   "id": "e7a00af3-3002-41e3-94e6-52e7a7df155f",
   "metadata": {},
   "outputs": [],
   "source": [
    "df_filled['WindDir9am']= label_encoder.fit_transform(df_filled['WindDir9am'])"
   ]
  },
  {
   "cell_type": "code",
   "execution_count": 504,
   "id": "cfafa94f-d54b-4a68-ad46-ab8e55645a00",
   "metadata": {},
   "outputs": [],
   "source": [
    "df_filled['WindDir3pm']= label_encoder.fit_transform(df_filled['WindDir3pm'])"
   ]
  },
  {
   "cell_type": "code",
   "execution_count": 505,
   "id": "cb90f5a4-6352-4e8a-80c5-98ca47a61762",
   "metadata": {},
   "outputs": [],
   "source": [
    "df_filled['Location']= label_encoder.fit_transform(df_filled['Location'])"
   ]
  },
  {
   "cell_type": "code",
   "execution_count": 506,
   "id": "e1ebb8de-375c-42e1-9989-8517eb37a0b1",
   "metadata": {},
   "outputs": [],
   "source": [
    "## DROPPING UNNECESSARY COLUMNS"
   ]
  },
  {
   "cell_type": "code",
   "execution_count": 507,
   "id": "37be894f-e0d1-430c-b1d1-dc4096f1df9d",
   "metadata": {},
   "outputs": [],
   "source": [
    "df_filled.drop(\"Date\", axis='columns', inplace=True)"
   ]
  },
  {
   "cell_type": "markdown",
   "id": "cf47ef6c-2c84-4558-92ce-6778b385a531",
   "metadata": {},
   "source": [
    "## MODEL TRAINING"
   ]
  },
  {
   "cell_type": "code",
   "execution_count": 509,
   "id": "63d06669-c69a-4545-871c-5b387cc38517",
   "metadata": {},
   "outputs": [],
   "source": [
    "X = df_filled.drop(columns=['RainTomorrow'])\n",
    "y = df_filled['RainTomorrow']"
   ]
  },
  {
   "cell_type": "code",
   "execution_count": 510,
   "id": "c632f077-2f12-4203-a942-2b948a4a7b7c",
   "metadata": {},
   "outputs": [],
   "source": [
    "## SPLITTING DATA"
   ]
  },
  {
   "cell_type": "code",
   "execution_count": 511,
   "id": "c6ce5e37-03df-4264-98a5-8faa5dc8a755",
   "metadata": {},
   "outputs": [],
   "source": [
    "X_train, X_test, y_train, y_test = train_test_split(X, y, test_size=0.2, random_state=42)"
   ]
  },
  {
   "cell_type": "code",
   "execution_count": 512,
   "id": "0a198410-9a8f-4a4c-83d3-c5c5870ddb39",
   "metadata": {},
   "outputs": [],
   "source": [
    "## FEATURE SCALING"
   ]
  },
  {
   "cell_type": "code",
   "execution_count": 513,
   "id": "90553520-f4d1-457c-92ec-a8c67d38f638",
   "metadata": {},
   "outputs": [],
   "source": [
    "scaler = StandardScaler()\n",
    "X_train = scaler.fit_transform(X_train)\n",
    "X_test = scaler.transform(X_test)"
   ]
  },
  {
   "cell_type": "code",
   "execution_count": 514,
   "id": "4faa63ac-26c1-41e9-8116-4fef1a6a9e58",
   "metadata": {},
   "outputs": [],
   "source": [
    "## INITIALIZING MODEL"
   ]
  },
  {
   "cell_type": "code",
   "execution_count": 515,
   "id": "58e0dd1b-6b21-409b-9969-6174e3623e7d",
   "metadata": {},
   "outputs": [
    {
     "name": "stderr",
     "output_type": "stream",
     "text": [
      "C:\\Users\\User\\anaconda3\\Lib\\site-packages\\keras\\src\\layers\\core\\dense.py:87: UserWarning: Do not pass an `input_shape`/`input_dim` argument to a layer. When using Sequential models, prefer using an `Input(shape)` object as the first layer in the model instead.\n",
      "  super().__init__(activity_regularizer=activity_regularizer, **kwargs)\n"
     ]
    }
   ],
   "source": [
    "model = Sequential([\n",
    "    Dense(128, activation='relu', input_dim=X_train.shape[1]),\n",
    "    Dropout(0.4),\n",
    "    Dense(64, activation='relu'),\n",
    "    Dropout(0.3),\n",
    "    Dense(32, activation='relu'),\n",
    "    Dense(1, activation='sigmoid')\n",
    "])"
   ]
  },
  {
   "cell_type": "code",
   "execution_count": 516,
   "id": "f84df2bb-7798-4414-87c8-49fdd33ac348",
   "metadata": {},
   "outputs": [],
   "source": [
    "## TRAINIG MODEL"
   ]
  },
  {
   "cell_type": "code",
   "execution_count": 517,
   "id": "924082d1-8dc6-4421-ad30-c4649cd829c3",
   "metadata": {
    "scrolled": true
   },
   "outputs": [
    {
     "name": "stdout",
     "output_type": "stream",
     "text": [
      "Epoch 1/50\n",
      "\u001b[1m2910/2910\u001b[0m \u001b[32m━━━━━━━━━━━━━━━━━━━━\u001b[0m\u001b[37m\u001b[0m \u001b[1m3s\u001b[0m 928us/step - accuracy: 0.8268 - loss: 0.3952 - val_accuracy: 0.8463 - val_loss: 0.3583\n",
      "Epoch 2/50\n",
      "\u001b[1m2910/2910\u001b[0m \u001b[32m━━━━━━━━━━━━━━━━━━━━\u001b[0m\u001b[37m\u001b[0m \u001b[1m3s\u001b[0m 935us/step - accuracy: 0.8468 - loss: 0.3599 - val_accuracy: 0.8478 - val_loss: 0.3554\n",
      "Epoch 3/50\n",
      "\u001b[1m2910/2910\u001b[0m \u001b[32m━━━━━━━━━━━━━━━━━━━━\u001b[0m\u001b[37m\u001b[0m \u001b[1m3s\u001b[0m 951us/step - accuracy: 0.8461 - loss: 0.3576 - val_accuracy: 0.8496 - val_loss: 0.3523\n",
      "Epoch 4/50\n",
      "\u001b[1m2910/2910\u001b[0m \u001b[32m━━━━━━━━━━━━━━━━━━━━\u001b[0m\u001b[37m\u001b[0m \u001b[1m3s\u001b[0m 885us/step - accuracy: 0.8496 - loss: 0.3528 - val_accuracy: 0.8492 - val_loss: 0.3516\n",
      "Epoch 5/50\n",
      "\u001b[1m2910/2910\u001b[0m \u001b[32m━━━━━━━━━━━━━━━━━━━━\u001b[0m\u001b[37m\u001b[0m \u001b[1m3s\u001b[0m 874us/step - accuracy: 0.8502 - loss: 0.3489 - val_accuracy: 0.8500 - val_loss: 0.3507\n",
      "Epoch 6/50\n",
      "\u001b[1m2910/2910\u001b[0m \u001b[32m━━━━━━━━━━━━━━━━━━━━\u001b[0m\u001b[37m\u001b[0m \u001b[1m3s\u001b[0m 885us/step - accuracy: 0.8499 - loss: 0.3500 - val_accuracy: 0.8499 - val_loss: 0.3511\n",
      "Epoch 7/50\n",
      "\u001b[1m2910/2910\u001b[0m \u001b[32m━━━━━━━━━━━━━━━━━━━━\u001b[0m\u001b[37m\u001b[0m \u001b[1m3s\u001b[0m 873us/step - accuracy: 0.8503 - loss: 0.3484 - val_accuracy: 0.8494 - val_loss: 0.3496\n",
      "Epoch 8/50\n",
      "\u001b[1m2910/2910\u001b[0m \u001b[32m━━━━━━━━━━━━━━━━━━━━\u001b[0m\u001b[37m\u001b[0m \u001b[1m3s\u001b[0m 904us/step - accuracy: 0.8490 - loss: 0.3516 - val_accuracy: 0.8496 - val_loss: 0.3480\n",
      "Epoch 9/50\n",
      "\u001b[1m2910/2910\u001b[0m \u001b[32m━━━━━━━━━━━━━━━━━━━━\u001b[0m\u001b[37m\u001b[0m \u001b[1m3s\u001b[0m 881us/step - accuracy: 0.8505 - loss: 0.3493 - val_accuracy: 0.8525 - val_loss: 0.3473\n",
      "Epoch 10/50\n",
      "\u001b[1m2910/2910\u001b[0m \u001b[32m━━━━━━━━━━━━━━━━━━━━\u001b[0m\u001b[37m\u001b[0m \u001b[1m3s\u001b[0m 880us/step - accuracy: 0.8522 - loss: 0.3439 - val_accuracy: 0.8530 - val_loss: 0.3489\n",
      "Epoch 11/50\n",
      "\u001b[1m2910/2910\u001b[0m \u001b[32m━━━━━━━━━━━━━━━━━━━━\u001b[0m\u001b[37m\u001b[0m \u001b[1m3s\u001b[0m 910us/step - accuracy: 0.8524 - loss: 0.3437 - val_accuracy: 0.8519 - val_loss: 0.3463\n",
      "Epoch 12/50\n",
      "\u001b[1m2910/2910\u001b[0m \u001b[32m━━━━━━━━━━━━━━━━━━━━\u001b[0m\u001b[37m\u001b[0m \u001b[1m5s\u001b[0m 875us/step - accuracy: 0.8498 - loss: 0.3472 - val_accuracy: 0.8516 - val_loss: 0.3470\n",
      "Epoch 13/50\n",
      "\u001b[1m2910/2910\u001b[0m \u001b[32m━━━━━━━━━━━━━━━━━━━━\u001b[0m\u001b[37m\u001b[0m \u001b[1m3s\u001b[0m 897us/step - accuracy: 0.8520 - loss: 0.3416 - val_accuracy: 0.8520 - val_loss: 0.3455\n",
      "Epoch 14/50\n",
      "\u001b[1m2910/2910\u001b[0m \u001b[32m━━━━━━━━━━━━━━━━━━━━\u001b[0m\u001b[37m\u001b[0m \u001b[1m3s\u001b[0m 863us/step - accuracy: 0.8533 - loss: 0.3408 - val_accuracy: 0.8518 - val_loss: 0.3469\n",
      "Epoch 15/50\n",
      "\u001b[1m2910/2910\u001b[0m \u001b[32m━━━━━━━━━━━━━━━━━━━━\u001b[0m\u001b[37m\u001b[0m \u001b[1m3s\u001b[0m 895us/step - accuracy: 0.8529 - loss: 0.3411 - val_accuracy: 0.8531 - val_loss: 0.3450\n",
      "Epoch 16/50\n",
      "\u001b[1m2910/2910\u001b[0m \u001b[32m━━━━━━━━━━━━━━━━━━━━\u001b[0m\u001b[37m\u001b[0m \u001b[1m3s\u001b[0m 883us/step - accuracy: 0.8538 - loss: 0.3436 - val_accuracy: 0.8535 - val_loss: 0.3453\n",
      "Epoch 17/50\n",
      "\u001b[1m2910/2910\u001b[0m \u001b[32m━━━━━━━━━━━━━━━━━━━━\u001b[0m\u001b[37m\u001b[0m \u001b[1m3s\u001b[0m 952us/step - accuracy: 0.8534 - loss: 0.3397 - val_accuracy: 0.8523 - val_loss: 0.3450\n",
      "Epoch 18/50\n",
      "\u001b[1m2910/2910\u001b[0m \u001b[32m━━━━━━━━━━━━━━━━━━━━\u001b[0m\u001b[37m\u001b[0m \u001b[1m3s\u001b[0m 905us/step - accuracy: 0.8556 - loss: 0.3402 - val_accuracy: 0.8522 - val_loss: 0.3440\n",
      "Epoch 19/50\n",
      "\u001b[1m2910/2910\u001b[0m \u001b[32m━━━━━━━━━━━━━━━━━━━━\u001b[0m\u001b[37m\u001b[0m \u001b[1m3s\u001b[0m 909us/step - accuracy: 0.8526 - loss: 0.3449 - val_accuracy: 0.8528 - val_loss: 0.3438\n",
      "Epoch 20/50\n",
      "\u001b[1m2910/2910\u001b[0m \u001b[32m━━━━━━━━━━━━━━━━━━━━\u001b[0m\u001b[37m\u001b[0m \u001b[1m3s\u001b[0m 902us/step - accuracy: 0.8534 - loss: 0.3423 - val_accuracy: 0.8520 - val_loss: 0.3462\n",
      "Epoch 21/50\n",
      "\u001b[1m2910/2910\u001b[0m \u001b[32m━━━━━━━━━━━━━━━━━━━━\u001b[0m\u001b[37m\u001b[0m \u001b[1m3s\u001b[0m 886us/step - accuracy: 0.8555 - loss: 0.3383 - val_accuracy: 0.8535 - val_loss: 0.3463\n",
      "Epoch 22/50\n",
      "\u001b[1m2910/2910\u001b[0m \u001b[32m━━━━━━━━━━━━━━━━━━━━\u001b[0m\u001b[37m\u001b[0m \u001b[1m5s\u001b[0m 903us/step - accuracy: 0.8551 - loss: 0.3404 - val_accuracy: 0.8537 - val_loss: 0.3446\n",
      "Epoch 23/50\n",
      "\u001b[1m2910/2910\u001b[0m \u001b[32m━━━━━━━━━━━━━━━━━━━━\u001b[0m\u001b[37m\u001b[0m \u001b[1m3s\u001b[0m 888us/step - accuracy: 0.8555 - loss: 0.3391 - val_accuracy: 0.8519 - val_loss: 0.3451\n",
      "Epoch 24/50\n",
      "\u001b[1m2910/2910\u001b[0m \u001b[32m━━━━━━━━━━━━━━━━━━━━\u001b[0m\u001b[37m\u001b[0m \u001b[1m3s\u001b[0m 911us/step - accuracy: 0.8539 - loss: 0.3422 - val_accuracy: 0.8539 - val_loss: 0.3459\n",
      "Epoch 25/50\n",
      "\u001b[1m2910/2910\u001b[0m \u001b[32m━━━━━━━━━━━━━━━━━━━━\u001b[0m\u001b[37m\u001b[0m \u001b[1m3s\u001b[0m 907us/step - accuracy: 0.8541 - loss: 0.3415 - val_accuracy: 0.8514 - val_loss: 0.3470\n",
      "Epoch 26/50\n",
      "\u001b[1m2910/2910\u001b[0m \u001b[32m━━━━━━━━━━━━━━━━━━━━\u001b[0m\u001b[37m\u001b[0m \u001b[1m3s\u001b[0m 889us/step - accuracy: 0.8560 - loss: 0.3404 - val_accuracy: 0.8523 - val_loss: 0.3455\n",
      "Epoch 27/50\n",
      "\u001b[1m2910/2910\u001b[0m \u001b[32m━━━━━━━━━━━━━━━━━━━━\u001b[0m\u001b[37m\u001b[0m \u001b[1m3s\u001b[0m 929us/step - accuracy: 0.8546 - loss: 0.3402 - val_accuracy: 0.8515 - val_loss: 0.3478\n",
      "Epoch 28/50\n",
      "\u001b[1m2910/2910\u001b[0m \u001b[32m━━━━━━━━━━━━━━━━━━━━\u001b[0m\u001b[37m\u001b[0m \u001b[1m3s\u001b[0m 881us/step - accuracy: 0.8523 - loss: 0.3404 - val_accuracy: 0.8530 - val_loss: 0.3436\n",
      "Epoch 29/50\n",
      "\u001b[1m2910/2910\u001b[0m \u001b[32m━━━━━━━━━━━━━━━━━━━━\u001b[0m\u001b[37m\u001b[0m \u001b[1m3s\u001b[0m 895us/step - accuracy: 0.8528 - loss: 0.3392 - val_accuracy: 0.8530 - val_loss: 0.3476\n",
      "Epoch 30/50\n",
      "\u001b[1m2910/2910\u001b[0m \u001b[32m━━━━━━━━━━━━━━━━━━━━\u001b[0m\u001b[37m\u001b[0m \u001b[1m3s\u001b[0m 905us/step - accuracy: 0.8548 - loss: 0.3389 - val_accuracy: 0.8534 - val_loss: 0.3416\n",
      "Epoch 31/50\n",
      "\u001b[1m2910/2910\u001b[0m \u001b[32m━━━━━━━━━━━━━━━━━━━━\u001b[0m\u001b[37m\u001b[0m \u001b[1m3s\u001b[0m 908us/step - accuracy: 0.8542 - loss: 0.3400 - val_accuracy: 0.8531 - val_loss: 0.3416\n",
      "Epoch 32/50\n",
      "\u001b[1m2910/2910\u001b[0m \u001b[32m━━━━━━━━━━━━━━━━━━━━\u001b[0m\u001b[37m\u001b[0m \u001b[1m3s\u001b[0m 903us/step - accuracy: 0.8569 - loss: 0.3366 - val_accuracy: 0.8523 - val_loss: 0.3432\n",
      "Epoch 33/50\n",
      "\u001b[1m2910/2910\u001b[0m \u001b[32m━━━━━━━━━━━━━━━━━━━━\u001b[0m\u001b[37m\u001b[0m \u001b[1m3s\u001b[0m 893us/step - accuracy: 0.8512 - loss: 0.3425 - val_accuracy: 0.8526 - val_loss: 0.3415\n",
      "Epoch 34/50\n",
      "\u001b[1m2910/2910\u001b[0m \u001b[32m━━━━━━━━━━━━━━━━━━━━\u001b[0m\u001b[37m\u001b[0m \u001b[1m3s\u001b[0m 933us/step - accuracy: 0.8535 - loss: 0.3399 - val_accuracy: 0.8548 - val_loss: 0.3421\n",
      "Epoch 35/50\n",
      "\u001b[1m2910/2910\u001b[0m \u001b[32m━━━━━━━━━━━━━━━━━━━━\u001b[0m\u001b[37m\u001b[0m \u001b[1m3s\u001b[0m 887us/step - accuracy: 0.8544 - loss: 0.3389 - val_accuracy: 0.8513 - val_loss: 0.3428\n",
      "Epoch 36/50\n",
      "\u001b[1m2910/2910\u001b[0m \u001b[32m━━━━━━━━━━━━━━━━━━━━\u001b[0m\u001b[37m\u001b[0m \u001b[1m3s\u001b[0m 912us/step - accuracy: 0.8569 - loss: 0.3327 - val_accuracy: 0.8532 - val_loss: 0.3447\n",
      "Epoch 37/50\n",
      "\u001b[1m2910/2910\u001b[0m \u001b[32m━━━━━━━━━━━━━━━━━━━━\u001b[0m\u001b[37m\u001b[0m \u001b[1m3s\u001b[0m 907us/step - accuracy: 0.8554 - loss: 0.3367 - val_accuracy: 0.8524 - val_loss: 0.3423\n",
      "Epoch 38/50\n",
      "\u001b[1m2910/2910\u001b[0m \u001b[32m━━━━━━━━━━━━━━━━━━━━\u001b[0m\u001b[37m\u001b[0m \u001b[1m3s\u001b[0m 894us/step - accuracy: 0.8574 - loss: 0.3356 - val_accuracy: 0.8527 - val_loss: 0.3422\n",
      "Epoch 39/50\n",
      "\u001b[1m2910/2910\u001b[0m \u001b[32m━━━━━━━━━━━━━━━━━━━━\u001b[0m\u001b[37m\u001b[0m \u001b[1m3s\u001b[0m 889us/step - accuracy: 0.8551 - loss: 0.3366 - val_accuracy: 0.8538 - val_loss: 0.3434\n",
      "Epoch 40/50\n",
      "\u001b[1m2910/2910\u001b[0m \u001b[32m━━━━━━━━━━━━━━━━━━━━\u001b[0m\u001b[37m\u001b[0m \u001b[1m3s\u001b[0m 935us/step - accuracy: 0.8539 - loss: 0.3369 - val_accuracy: 0.8536 - val_loss: 0.3428\n",
      "Epoch 41/50\n",
      "\u001b[1m2910/2910\u001b[0m \u001b[32m━━━━━━━━━━━━━━━━━━━━\u001b[0m\u001b[37m\u001b[0m \u001b[1m3s\u001b[0m 895us/step - accuracy: 0.8578 - loss: 0.3343 - val_accuracy: 0.8545 - val_loss: 0.3449\n",
      "Epoch 42/50\n",
      "\u001b[1m2910/2910\u001b[0m \u001b[32m━━━━━━━━━━━━━━━━━━━━\u001b[0m\u001b[37m\u001b[0m \u001b[1m3s\u001b[0m 899us/step - accuracy: 0.8574 - loss: 0.3347 - val_accuracy: 0.8531 - val_loss: 0.3427\n",
      "Epoch 43/50\n",
      "\u001b[1m2910/2910\u001b[0m \u001b[32m━━━━━━━━━━━━━━━━━━━━\u001b[0m\u001b[37m\u001b[0m \u001b[1m3s\u001b[0m 912us/step - accuracy: 0.8566 - loss: 0.3375 - val_accuracy: 0.8539 - val_loss: 0.3419\n",
      "Epoch 44/50\n",
      "\u001b[1m2910/2910\u001b[0m \u001b[32m━━━━━━━━━━━━━━━━━━━━\u001b[0m\u001b[37m\u001b[0m \u001b[1m3s\u001b[0m 889us/step - accuracy: 0.8557 - loss: 0.3357 - val_accuracy: 0.8519 - val_loss: 0.3431\n",
      "Epoch 45/50\n",
      "\u001b[1m2910/2910\u001b[0m \u001b[32m━━━━━━━━━━━━━━━━━━━━\u001b[0m\u001b[37m\u001b[0m \u001b[1m3s\u001b[0m 928us/step - accuracy: 0.8564 - loss: 0.3363 - val_accuracy: 0.8551 - val_loss: 0.3424\n",
      "Epoch 46/50\n",
      "\u001b[1m2910/2910\u001b[0m \u001b[32m━━━━━━━━━━━━━━━━━━━━\u001b[0m\u001b[37m\u001b[0m \u001b[1m3s\u001b[0m 896us/step - accuracy: 0.8555 - loss: 0.3358 - val_accuracy: 0.8534 - val_loss: 0.3439\n",
      "Epoch 47/50\n",
      "\u001b[1m2910/2910\u001b[0m \u001b[32m━━━━━━━━━━━━━━━━━━━━\u001b[0m\u001b[37m\u001b[0m \u001b[1m3s\u001b[0m 906us/step - accuracy: 0.8560 - loss: 0.3356 - val_accuracy: 0.8543 - val_loss: 0.3409\n",
      "Epoch 48/50\n",
      "\u001b[1m2910/2910\u001b[0m \u001b[32m━━━━━━━━━━━━━━━━━━━━\u001b[0m\u001b[37m\u001b[0m \u001b[1m3s\u001b[0m 924us/step - accuracy: 0.8564 - loss: 0.3343 - val_accuracy: 0.8553 - val_loss: 0.3404\n",
      "Epoch 49/50\n",
      "\u001b[1m2910/2910\u001b[0m \u001b[32m━━━━━━━━━━━━━━━━━━━━\u001b[0m\u001b[37m\u001b[0m \u001b[1m3s\u001b[0m 919us/step - accuracy: 0.8568 - loss: 0.3342 - val_accuracy: 0.8540 - val_loss: 0.3432\n",
      "Epoch 50/50\n",
      "\u001b[1m2910/2910\u001b[0m \u001b[32m━━━━━━━━━━━━━━━━━━━━\u001b[0m\u001b[37m\u001b[0m \u001b[1m3s\u001b[0m 935us/step - accuracy: 0.8562 - loss: 0.3354 - val_accuracy: 0.8567 - val_loss: 0.3415\n"
     ]
    },
    {
     "data": {
      "text/plain": [
       "<keras.src.callbacks.history.History at 0x20303c594c0>"
      ]
     },
     "execution_count": 517,
     "metadata": {},
     "output_type": "execute_result"
    }
   ],
   "source": [
    "model.compile(optimizer='adam', loss='binary_crossentropy', metrics=['accuracy'])\n",
    "model.fit(X_train, y_train, epochs=50, batch_size=32, validation_split=0.2)"
   ]
  },
  {
   "cell_type": "code",
   "execution_count": 518,
   "id": "e113faec-0305-4d51-bc10-a7d5f8999742",
   "metadata": {},
   "outputs": [
    {
     "name": "stdout",
     "output_type": "stream",
     "text": [
      "\u001b[1m910/910\u001b[0m \u001b[32m━━━━━━━━━━━━━━━━━━━━\u001b[0m\u001b[37m\u001b[0m \u001b[1m1s\u001b[0m 565us/step - accuracy: 0.8484 - loss: 0.3427\n"
     ]
    }
   ],
   "source": [
    "loss, accuracy = model.evaluate(X_test, y_test)"
   ]
  },
  {
   "cell_type": "code",
   "execution_count": 519,
   "id": "043b1842-b161-4498-bd37-8ef2d4d00572",
   "metadata": {},
   "outputs": [
    {
     "data": {
      "text/plain": [
       "(0.34194260835647583, 0.8502681255340576)"
      ]
     },
     "execution_count": 519,
     "metadata": {},
     "output_type": "execute_result"
    }
   ],
   "source": [
    "loss, accuracy"
   ]
  },
  {
   "cell_type": "code",
   "execution_count": null,
   "id": "c131be4b-fc62-4a41-b1e7-9d8dc7287710",
   "metadata": {},
   "outputs": [],
   "source": []
  },
  {
   "cell_type": "code",
   "execution_count": null,
   "id": "ac7c9571-3556-4a4c-b143-e896befaf8a6",
   "metadata": {},
   "outputs": [],
   "source": []
  }
 ],
 "metadata": {
  "kernelspec": {
   "display_name": "Python 3 (ipykernel)",
   "language": "python",
   "name": "python3"
  },
  "language_info": {
   "codemirror_mode": {
    "name": "ipython",
    "version": 3
   },
   "file_extension": ".py",
   "mimetype": "text/x-python",
   "name": "python",
   "nbconvert_exporter": "python",
   "pygments_lexer": "ipython3",
   "version": "3.12.7"
  }
 },
 "nbformat": 4,
 "nbformat_minor": 5
}
