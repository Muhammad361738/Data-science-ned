{
 "cells": [
  {
   "cell_type": "markdown",
   "id": "3f375a0e-ea5d-4fae-8b8d-5134f7177570",
   "metadata": {},
   "source": [
    "## IMPORTING LIBRARIES¶\n"
   ]
  },
  {
   "cell_type": "code",
   "execution_count": 111,
   "id": "cdb41f58-cab2-4484-b36e-0d1a9bf3bc75",
   "metadata": {},
   "outputs": [],
   "source": [
    "import numpy as np \n",
    "import pandas as pd \n",
    "import matplotlib.pyplot as plt\n",
    "import seaborn as sns\n",
    "from sklearn.preprocessing import LabelEncoder\n",
    "from sklearn.model_selection import train_test_split\n",
    "\n",
    "from sklearn.preprocessing import StandardScaler\n",
    "# from sklearn.metrics import loss, accuracy\n",
    "from tensorflow.keras.models import Sequential\n",
    "from tensorflow.keras.layers import Dense, Dropout"
   ]
  },
  {
   "cell_type": "markdown",
   "id": "37607a24-6b37-4aaf-9c84-e75cf53a37bb",
   "metadata": {},
   "source": [
    "## LOADING DATA¶\n"
   ]
  },
  {
   "cell_type": "code",
   "execution_count": 114,
   "id": "c42139aa-7f0d-4f47-9409-0523f7f3377a",
   "metadata": {},
   "outputs": [
    {
     "data": {
      "text/html": [
       "<div>\n",
       "<style scoped>\n",
       "    .dataframe tbody tr th:only-of-type {\n",
       "        vertical-align: middle;\n",
       "    }\n",
       "\n",
       "    .dataframe tbody tr th {\n",
       "        vertical-align: top;\n",
       "    }\n",
       "\n",
       "    .dataframe thead th {\n",
       "        text-align: right;\n",
       "    }\n",
       "</style>\n",
       "<table border=\"1\" class=\"dataframe\">\n",
       "  <thead>\n",
       "    <tr style=\"text-align: right;\">\n",
       "      <th></th>\n",
       "      <th>Date</th>\n",
       "      <th>Location</th>\n",
       "      <th>MinTemp</th>\n",
       "      <th>MaxTemp</th>\n",
       "      <th>Rainfall</th>\n",
       "      <th>Evaporation</th>\n",
       "      <th>Sunshine</th>\n",
       "      <th>WindGustDir</th>\n",
       "      <th>WindGustSpeed</th>\n",
       "      <th>WindDir9am</th>\n",
       "      <th>...</th>\n",
       "      <th>Humidity9am</th>\n",
       "      <th>Humidity3pm</th>\n",
       "      <th>Pressure9am</th>\n",
       "      <th>Pressure3pm</th>\n",
       "      <th>Cloud9am</th>\n",
       "      <th>Cloud3pm</th>\n",
       "      <th>Temp9am</th>\n",
       "      <th>Temp3pm</th>\n",
       "      <th>RainToday</th>\n",
       "      <th>RainTomorrow</th>\n",
       "    </tr>\n",
       "  </thead>\n",
       "  <tbody>\n",
       "    <tr>\n",
       "      <th>0</th>\n",
       "      <td>2008-12-01</td>\n",
       "      <td>Albury</td>\n",
       "      <td>13.4</td>\n",
       "      <td>22.9</td>\n",
       "      <td>0.6</td>\n",
       "      <td>NaN</td>\n",
       "      <td>NaN</td>\n",
       "      <td>W</td>\n",
       "      <td>44.0</td>\n",
       "      <td>W</td>\n",
       "      <td>...</td>\n",
       "      <td>71.0</td>\n",
       "      <td>22.0</td>\n",
       "      <td>1007.7</td>\n",
       "      <td>1007.1</td>\n",
       "      <td>8.0</td>\n",
       "      <td>NaN</td>\n",
       "      <td>16.9</td>\n",
       "      <td>21.8</td>\n",
       "      <td>No</td>\n",
       "      <td>No</td>\n",
       "    </tr>\n",
       "    <tr>\n",
       "      <th>1</th>\n",
       "      <td>2008-12-02</td>\n",
       "      <td>Albury</td>\n",
       "      <td>7.4</td>\n",
       "      <td>25.1</td>\n",
       "      <td>0.0</td>\n",
       "      <td>NaN</td>\n",
       "      <td>NaN</td>\n",
       "      <td>WNW</td>\n",
       "      <td>44.0</td>\n",
       "      <td>NNW</td>\n",
       "      <td>...</td>\n",
       "      <td>44.0</td>\n",
       "      <td>25.0</td>\n",
       "      <td>1010.6</td>\n",
       "      <td>1007.8</td>\n",
       "      <td>NaN</td>\n",
       "      <td>NaN</td>\n",
       "      <td>17.2</td>\n",
       "      <td>24.3</td>\n",
       "      <td>No</td>\n",
       "      <td>No</td>\n",
       "    </tr>\n",
       "    <tr>\n",
       "      <th>2</th>\n",
       "      <td>2008-12-03</td>\n",
       "      <td>Albury</td>\n",
       "      <td>12.9</td>\n",
       "      <td>25.7</td>\n",
       "      <td>0.0</td>\n",
       "      <td>NaN</td>\n",
       "      <td>NaN</td>\n",
       "      <td>WSW</td>\n",
       "      <td>46.0</td>\n",
       "      <td>W</td>\n",
       "      <td>...</td>\n",
       "      <td>38.0</td>\n",
       "      <td>30.0</td>\n",
       "      <td>1007.6</td>\n",
       "      <td>1008.7</td>\n",
       "      <td>NaN</td>\n",
       "      <td>2.0</td>\n",
       "      <td>21.0</td>\n",
       "      <td>23.2</td>\n",
       "      <td>No</td>\n",
       "      <td>No</td>\n",
       "    </tr>\n",
       "    <tr>\n",
       "      <th>3</th>\n",
       "      <td>2008-12-04</td>\n",
       "      <td>Albury</td>\n",
       "      <td>9.2</td>\n",
       "      <td>28.0</td>\n",
       "      <td>0.0</td>\n",
       "      <td>NaN</td>\n",
       "      <td>NaN</td>\n",
       "      <td>NE</td>\n",
       "      <td>24.0</td>\n",
       "      <td>SE</td>\n",
       "      <td>...</td>\n",
       "      <td>45.0</td>\n",
       "      <td>16.0</td>\n",
       "      <td>1017.6</td>\n",
       "      <td>1012.8</td>\n",
       "      <td>NaN</td>\n",
       "      <td>NaN</td>\n",
       "      <td>18.1</td>\n",
       "      <td>26.5</td>\n",
       "      <td>No</td>\n",
       "      <td>No</td>\n",
       "    </tr>\n",
       "    <tr>\n",
       "      <th>4</th>\n",
       "      <td>2008-12-05</td>\n",
       "      <td>Albury</td>\n",
       "      <td>17.5</td>\n",
       "      <td>32.3</td>\n",
       "      <td>1.0</td>\n",
       "      <td>NaN</td>\n",
       "      <td>NaN</td>\n",
       "      <td>W</td>\n",
       "      <td>41.0</td>\n",
       "      <td>ENE</td>\n",
       "      <td>...</td>\n",
       "      <td>82.0</td>\n",
       "      <td>33.0</td>\n",
       "      <td>1010.8</td>\n",
       "      <td>1006.0</td>\n",
       "      <td>7.0</td>\n",
       "      <td>8.0</td>\n",
       "      <td>17.8</td>\n",
       "      <td>29.7</td>\n",
       "      <td>No</td>\n",
       "      <td>No</td>\n",
       "    </tr>\n",
       "  </tbody>\n",
       "</table>\n",
       "<p>5 rows × 23 columns</p>\n",
       "</div>"
      ],
      "text/plain": [
       "         Date Location  MinTemp  MaxTemp  Rainfall  Evaporation  Sunshine  \\\n",
       "0  2008-12-01   Albury     13.4     22.9       0.6          NaN       NaN   \n",
       "1  2008-12-02   Albury      7.4     25.1       0.0          NaN       NaN   \n",
       "2  2008-12-03   Albury     12.9     25.7       0.0          NaN       NaN   \n",
       "3  2008-12-04   Albury      9.2     28.0       0.0          NaN       NaN   \n",
       "4  2008-12-05   Albury     17.5     32.3       1.0          NaN       NaN   \n",
       "\n",
       "  WindGustDir  WindGustSpeed WindDir9am  ... Humidity9am  Humidity3pm  \\\n",
       "0           W           44.0          W  ...        71.0         22.0   \n",
       "1         WNW           44.0        NNW  ...        44.0         25.0   \n",
       "2         WSW           46.0          W  ...        38.0         30.0   \n",
       "3          NE           24.0         SE  ...        45.0         16.0   \n",
       "4           W           41.0        ENE  ...        82.0         33.0   \n",
       "\n",
       "   Pressure9am  Pressure3pm  Cloud9am  Cloud3pm  Temp9am  Temp3pm  RainToday  \\\n",
       "0       1007.7       1007.1       8.0       NaN     16.9     21.8         No   \n",
       "1       1010.6       1007.8       NaN       NaN     17.2     24.3         No   \n",
       "2       1007.6       1008.7       NaN       2.0     21.0     23.2         No   \n",
       "3       1017.6       1012.8       NaN       NaN     18.1     26.5         No   \n",
       "4       1010.8       1006.0       7.0       8.0     17.8     29.7         No   \n",
       "\n",
       "   RainTomorrow  \n",
       "0            No  \n",
       "1            No  \n",
       "2            No  \n",
       "3            No  \n",
       "4            No  \n",
       "\n",
       "[5 rows x 23 columns]"
      ]
     },
     "execution_count": 114,
     "metadata": {},
     "output_type": "execute_result"
    }
   ],
   "source": [
    "df = pd.read_csv(\"weatherAUS.csv\")\n",
    "df.head()"
   ]
  },
  {
   "cell_type": "code",
   "execution_count": 116,
   "id": "15a7485b-4a8c-49e3-9003-79b9f18be2e0",
   "metadata": {},
   "outputs": [
    {
     "name": "stdout",
     "output_type": "stream",
     "text": [
      "<class 'pandas.core.frame.DataFrame'>\n",
      "RangeIndex: 145460 entries, 0 to 145459\n",
      "Data columns (total 23 columns):\n",
      " #   Column         Non-Null Count   Dtype  \n",
      "---  ------         --------------   -----  \n",
      " 0   Date           145460 non-null  object \n",
      " 1   Location       145460 non-null  object \n",
      " 2   MinTemp        143975 non-null  float64\n",
      " 3   MaxTemp        144199 non-null  float64\n",
      " 4   Rainfall       142199 non-null  float64\n",
      " 5   Evaporation    82670 non-null   float64\n",
      " 6   Sunshine       75625 non-null   float64\n",
      " 7   WindGustDir    135134 non-null  object \n",
      " 8   WindGustSpeed  135197 non-null  float64\n",
      " 9   WindDir9am     134894 non-null  object \n",
      " 10  WindDir3pm     141232 non-null  object \n",
      " 11  WindSpeed9am   143693 non-null  float64\n",
      " 12  WindSpeed3pm   142398 non-null  float64\n",
      " 13  Humidity9am    142806 non-null  float64\n",
      " 14  Humidity3pm    140953 non-null  float64\n",
      " 15  Pressure9am    130395 non-null  float64\n",
      " 16  Pressure3pm    130432 non-null  float64\n",
      " 17  Cloud9am       89572 non-null   float64\n",
      " 18  Cloud3pm       86102 non-null   float64\n",
      " 19  Temp9am        143693 non-null  float64\n",
      " 20  Temp3pm        141851 non-null  float64\n",
      " 21  RainToday      142199 non-null  object \n",
      " 22  RainTomorrow   142193 non-null  object \n",
      "dtypes: float64(16), object(7)\n",
      "memory usage: 25.5+ MB\n"
     ]
    }
   ],
   "source": [
    "df.info()"
   ]
  },
  {
   "cell_type": "code",
   "execution_count": 118,
   "id": "633a71f0-6d5e-4968-bd34-780a993e2fa6",
   "metadata": {},
   "outputs": [
    {
     "data": {
      "text/plain": [
       "(145460, 23)"
      ]
     },
     "execution_count": 118,
     "metadata": {},
     "output_type": "execute_result"
    }
   ],
   "source": [
    "df.shape"
   ]
  },
  {
   "cell_type": "code",
   "execution_count": 120,
   "id": "d11d868e-4176-4a2b-9cd6-b754a5160088",
   "metadata": {},
   "outputs": [
    {
     "data": {
      "text/plain": [
       "Date                 0\n",
       "Location             0\n",
       "MinTemp           1485\n",
       "MaxTemp           1261\n",
       "Rainfall          3261\n",
       "Evaporation      62790\n",
       "Sunshine         69835\n",
       "WindGustDir      10326\n",
       "WindGustSpeed    10263\n",
       "WindDir9am       10566\n",
       "WindDir3pm        4228\n",
       "WindSpeed9am      1767\n",
       "WindSpeed3pm      3062\n",
       "Humidity9am       2654\n",
       "Humidity3pm       4507\n",
       "Pressure9am      15065\n",
       "Pressure3pm      15028\n",
       "Cloud9am         55888\n",
       "Cloud3pm         59358\n",
       "Temp9am           1767\n",
       "Temp3pm           3609\n",
       "RainToday         3261\n",
       "RainTomorrow      3267\n",
       "dtype: int64"
      ]
     },
     "execution_count": 120,
     "metadata": {},
     "output_type": "execute_result"
    }
   ],
   "source": [
    "df.isnull().sum()"
   ]
  },
  {
   "cell_type": "markdown",
   "id": "821827f8-9ff1-4a3d-a192-06c9dc850634",
   "metadata": {},
   "source": [
    "## Ther are missing values in the data set \n",
    "# data set include numeric and catagorical values "
   ]
  },
  {
   "cell_type": "markdown",
   "id": "334c7e15-0201-41f3-b4ff-0d6ff19c1512",
   "metadata": {},
   "source": [
    "# DATA VISUALIZATION AND CLEANING\n"
   ]
  },
  {
   "cell_type": "markdown",
   "id": "3f536c0a-2ad1-40b7-a346-a079cb96f400",
   "metadata": {},
   "source": [
    "## Plot the distribution without dropping missing values from the DataFrame on minTem column\n"
   ]
  },
  {
   "cell_type": "code",
   "execution_count": 125,
   "id": "afbd4020-cdde-4076-877c-1bf64052d1b7",
   "metadata": {},
   "outputs": [
    {
     "name": "stdout",
     "output_type": "stream",
     "text": [
      "Missing values in MinTemp: 1485\n"
     ]
    },
    {
     "data": {
      "image/png": "[encoded data removed]",
      "text/plain": [
       "<Figure size 1000x600 with 1 Axes>"
      ]
     },
     "metadata": {},
     "output_type": "display_data"
    }
   ],
   "source": [
    "# Check missing value count\n",
    "missing_count = df['MinTemp'].isnull().sum()\n",
    "print(f\"Missing values in MinTemp: {missing_count}\")\n",
    "\n",
    "# Plot the distribution without dropping missing values from the DataFrame\n",
    "plt.figure(figsize=(10, 6))\n",
    "sns.histplot(df['MinTemp'].dropna(), kde=True, bins=30, color='steelblue')\n",
    "plt.title('Distribution of Minimum Temperature')\n",
    "plt.xlabel('MinTemp')\n",
    "plt.ylabel('Frequency')\n",
    "plt.grid(True)\n",
    "plt.show()"
   ]
  },
  {
   "cell_type": "code",
   "execution_count": 126,
   "id": "cbd025c1-9fd4-49b2-9d10-ac01cf0f6e1e",
   "metadata": {},
   "outputs": [
    {
     "name": "stdout",
     "output_type": "stream",
     "text": [
      "Missing values in MinTemp after imputation: 0\n"
     ]
    },
    {
     "name": "stderr",
     "output_type": "stream",
     "text": [
      "C:\\Users\\User\\AppData\\Local\\Temp\\ipykernel_6664\\3396725037.py:5: FutureWarning: A value is trying to be set on a copy of a DataFrame or Series through chained assignment using an inplace method.\n",
      "The behavior will change in pandas 3.0. This inplace method will never work because the intermediate object on which we are setting values always behaves as a copy.\n",
      "\n",
      "For example, when doing 'df[col].method(value, inplace=True)', try using 'df.method({col: value}, inplace=True)' or df[col] = df[col].method(value) instead, to perform the operation inplace on the original object.\n",
      "\n",
      "\n",
      "  df['MinTemp'].fillna(min_temp_mean, inplace=True)\n"
     ]
    }
   ],
   "source": [
    "# Calculate the mean (excluding NaNs)\n",
    "min_temp_mean = df['MinTemp'].mean()\n",
    "\n",
    "# Fill missing values with the mean\n",
    "df['MinTemp'].fillna(min_temp_mean, inplace=True)\n",
    "\n",
    "print(\"Missing values in MinTemp after imputation:\", df['MinTemp'].isnull().sum())\n"
   ]
  },
  {
   "cell_type": "markdown",
   "id": "2584effd-150a-49e7-93d3-92ee4e72920b",
   "metadata": {},
   "source": [
    "## MaxTemp column graph for data distribution "
   ]
  },
  {
   "cell_type": "code",
   "execution_count": 130,
   "id": "7cc0737a-aad2-458e-84f8-d43f52e16a1c",
   "metadata": {},
   "outputs": [
    {
     "name": "stdout",
     "output_type": "stream",
     "text": [
      "Missing values in MaxTemp: 1261\n"
     ]
    },
    {
     "data": {
      "image/png": "[encoded data removed]",
      "text/plain": [
       "<Figure size 1000x600 with 1 Axes>"
      ]
     },
     "metadata": {},
     "output_type": "display_data"
    }
   ],
   "source": [
    "# Check missing value count\n",
    "missing_count = df['MaxTemp'].isnull().sum()\n",
    "print(f\"Missing values in MaxTemp: {missing_count}\")\n",
    "\n",
    "# Plot the distribution without dropping missing values from the DataFrame\n",
    "plt.figure(figsize=(10, 6))\n",
    "sns.histplot(df['MaxTemp'].dropna(), kde=True, bins=30, color='orange')\n",
    "plt.title('Distribution of Maximum Temperature')\n",
    "plt.xlabel('MaxTemp')\n",
    "plt.ylabel('Frequency')\n",
    "plt.grid(True)\n",
    "plt.show()"
   ]
  },
  {
   "cell_type": "code",
   "execution_count": 131,
   "id": "e48fffbb-9154-4f64-941b-f922946be05e",
   "metadata": {},
   "outputs": [
    {
     "name": "stdout",
     "output_type": "stream",
     "text": [
      "Missing values in MaxTemp after imputation: 0\n"
     ]
    },
    {
     "name": "stderr",
     "output_type": "stream",
     "text": [
      "C:\\Users\\User\\AppData\\Local\\Temp\\ipykernel_6664\\3724298548.py:5: FutureWarning: A value is trying to be set on a copy of a DataFrame or Series through chained assignment using an inplace method.\n",
      "The behavior will change in pandas 3.0. This inplace method will never work because the intermediate object on which we are setting values always behaves as a copy.\n",
      "\n",
      "For example, when doing 'df[col].method(value, inplace=True)', try using 'df.method({col: value}, inplace=True)' or df[col] = df[col].method(value) instead, to perform the operation inplace on the original object.\n",
      "\n",
      "\n",
      "  df['MaxTemp'].fillna(max_temp_mean, inplace=True)\n"
     ]
    }
   ],
   "source": [
    "# Calculate the mean of MaxTemp (ignoring NaNs)\n",
    "max_temp_mean = df['MaxTemp'].mean()\n",
    "\n",
    "# Fill missing values with the mean\n",
    "df['MaxTemp'].fillna(max_temp_mean, inplace=True)\n",
    "\n",
    "print(\"Missing values in MaxTemp after imputation:\", df['MaxTemp'].isnull().sum())"
   ]
  },
  {
   "cell_type": "markdown",
   "id": "32636ed6-ac70-40db-9092-293fd1061363",
   "metadata": {},
   "source": [
    "## create a function for fill all missing values present in my data set \n",
    "### => Fill numeric data with mean function \n",
    "### => Fill catagorical data with most repetative values "
   ]
  },
  {
   "cell_type": "code",
   "execution_count": 135,
   "id": "b7e95e4c-59ec-49f1-8c53-890943ec5b5a",
   "metadata": {},
   "outputs": [
    {
     "name": "stdout",
     "output_type": "stream",
     "text": [
      "[Numeric] Filled missing in 'Rainfall' with mean: 2.36\n",
      "[Numeric] Filled missing in 'Evaporation' with mean: 5.47\n",
      "[Numeric] Filled missing in 'Sunshine' with mean: 7.61\n",
      "[Categorical] Filled missing in 'WindGustDir' with mode: 'W'\n",
      "[Numeric] Filled missing in 'WindGustSpeed' with mean: 40.04\n",
      "[Categorical] Filled missing in 'WindDir9am' with mode: 'N'\n",
      "[Categorical] Filled missing in 'WindDir3pm' with mode: 'SE'\n",
      "[Numeric] Filled missing in 'WindSpeed9am' with mean: 14.04\n",
      "[Numeric] Filled missing in 'WindSpeed3pm' with mean: 18.66\n",
      "[Numeric] Filled missing in 'Humidity9am' with mean: 68.88\n",
      "[Numeric] Filled missing in 'Humidity3pm' with mean: 51.54\n",
      "[Numeric] Filled missing in 'Pressure9am' with mean: 1017.65\n",
      "[Numeric] Filled missing in 'Pressure3pm' with mean: 1015.26\n",
      "[Numeric] Filled missing in 'Cloud9am' with mean: 4.45\n",
      "[Numeric] Filled missing in 'Cloud3pm' with mean: 4.51\n",
      "[Numeric] Filled missing in 'Temp9am' with mean: 16.99\n",
      "[Numeric] Filled missing in 'Temp3pm' with mean: 21.68\n",
      "[Categorical] Filled missing in 'RainToday' with mode: 'No'\n",
      "[Categorical] Filled missing in 'RainTomorrow' with mode: 'No'\n",
      "[Numeric] Filled missing in 'MinTemp' with mean: 12.19\n",
      "[Numeric] Filled missing in 'MaxTemp' with mean: 23.22\n",
      "\n",
      "Remaining missing values:\n",
      "Rainfall         0\n",
      "Evaporation      0\n",
      "Sunshine         0\n",
      "WindGustDir      0\n",
      "WindGustSpeed    0\n",
      "WindDir9am       0\n",
      "WindDir3pm       0\n",
      "WindSpeed9am     0\n",
      "WindSpeed3pm     0\n",
      "Humidity9am      0\n",
      "Humidity3pm      0\n",
      "Pressure9am      0\n",
      "Pressure3pm      0\n",
      "Cloud9am         0\n",
      "Cloud3pm         0\n",
      "Temp9am          0\n",
      "Temp3pm          0\n",
      "RainToday        0\n",
      "RainTomorrow     0\n",
      "MinTemp          0\n",
      "MaxTemp          0\n",
      "dtype: int64\n"
     ]
    },
    {
     "name": "stderr",
     "output_type": "stream",
     "text": [
      "C:\\Users\\User\\AppData\\Local\\Temp\\ipykernel_6664\\2918385077.py:20: FutureWarning: A value is trying to be set on a copy of a DataFrame or Series through chained assignment using an inplace method.\n",
      "The behavior will change in pandas 3.0. This inplace method will never work because the intermediate object on which we are setting values always behaves as a copy.\n",
      "\n",
      "For example, when doing 'df[col].method(value, inplace=True)', try using 'df.method({col: value}, inplace=True)' or df[col] = df[col].method(value) instead, to perform the operation inplace on the original object.\n",
      "\n",
      "\n",
      "  df[col].fillna(mean_val, inplace=True)\n",
      "C:\\Users\\User\\AppData\\Local\\Temp\\ipykernel_6664\\2918385077.py:24: FutureWarning: A value is trying to be set on a copy of a DataFrame or Series through chained assignment using an inplace method.\n",
      "The behavior will change in pandas 3.0. This inplace method will never work because the intermediate object on which we are setting values always behaves as a copy.\n",
      "\n",
      "For example, when doing 'df[col].method(value, inplace=True)', try using 'df.method({col: value}, inplace=True)' or df[col] = df[col].method(value) instead, to perform the operation inplace on the original object.\n",
      "\n",
      "\n",
      "  df[col].fillna(mode_val, inplace=True)\n"
     ]
    }
   ],
   "source": [
    "import pandas as pd\n",
    "\n",
    "# Load your dataset\n",
    "df = pd.read_csv('weatherAus.csv')\n",
    "\n",
    "# Updated list of all columns with missing values, including MinTemp and MaxTemp\n",
    "all_missing_cols = [\n",
    "    'Rainfall', 'Evaporation', 'Sunshine', 'WindGustDir', 'WindGustSpeed',\n",
    "    'WindDir9am', 'WindDir3pm', 'WindSpeed9am', 'WindSpeed3pm',\n",
    "    'Humidity9am', 'Humidity3pm', 'Pressure9am', 'Pressure3pm',\n",
    "    'Cloud9am', 'Cloud3pm', 'Temp9am', 'Temp3pm', 'RainToday', 'RainTomorrow',\n",
    "    'MinTemp', 'MaxTemp'\n",
    "]\n",
    "\n",
    "# Function to fill missing values appropriately for both numeric and categorical data\n",
    "def fill_missing_values(df, columns):\n",
    "    for col in columns:\n",
    "        if df[col].dtype in ['float64', 'int64']:  # Numeric columns\n",
    "            mean_val = df[col].mean()\n",
    "            df[col].fillna(mean_val, inplace=True)\n",
    "            print(f\"[Numeric] Filled missing in '{col}' with mean: {mean_val:.2f}\")\n",
    "        else:  # Categorical columns\n",
    "            mode_val = df[col].mode().iloc[0]\n",
    "            df[col].fillna(mode_val, inplace=True)\n",
    "            print(f\"[Categorical] Filled missing in '{col}' with mode: '{mode_val}'\")\n",
    "    return df\n",
    "\n",
    "# Apply the function\n",
    "df = fill_missing_values(df, all_missing_cols)\n",
    "\n",
    "# Optional: Check if any missing values remain in the selected columns\n",
    "print(\"\\nRemaining missing values:\")\n",
    "print(df[all_missing_cols].isnull().sum())\n"
   ]
  },
  {
   "cell_type": "code",
   "execution_count": 136,
   "id": "78ec4365-593c-429d-9ddc-1848756df893",
   "metadata": {},
   "outputs": [
    {
     "data": {
      "text/html": [
       "<div>\n",
       "<style scoped>\n",
       "    .dataframe tbody tr th:only-of-type {\n",
       "        vertical-align: middle;\n",
       "    }\n",
       "\n",
       "    .dataframe tbody tr th {\n",
       "        vertical-align: top;\n",
       "    }\n",
       "\n",
       "    .dataframe thead th {\n",
       "        text-align: right;\n",
       "    }\n",
       "</style>\n",
       "<table border=\"1\" class=\"dataframe\">\n",
       "  <thead>\n",
       "    <tr style=\"text-align: right;\">\n",
       "      <th></th>\n",
       "      <th>Date</th>\n",
       "      <th>Location</th>\n",
       "      <th>MinTemp</th>\n",
       "      <th>MaxTemp</th>\n",
       "      <th>Rainfall</th>\n",
       "      <th>Evaporation</th>\n",
       "      <th>Sunshine</th>\n",
       "      <th>WindGustDir</th>\n",
       "      <th>WindGustSpeed</th>\n",
       "      <th>WindDir9am</th>\n",
       "      <th>...</th>\n",
       "      <th>Humidity9am</th>\n",
       "      <th>Humidity3pm</th>\n",
       "      <th>Pressure9am</th>\n",
       "      <th>Pressure3pm</th>\n",
       "      <th>Cloud9am</th>\n",
       "      <th>Cloud3pm</th>\n",
       "      <th>Temp9am</th>\n",
       "      <th>Temp3pm</th>\n",
       "      <th>RainToday</th>\n",
       "      <th>RainTomorrow</th>\n",
       "    </tr>\n",
       "  </thead>\n",
       "  <tbody>\n",
       "    <tr>\n",
       "      <th>0</th>\n",
       "      <td>2008-12-01</td>\n",
       "      <td>Albury</td>\n",
       "      <td>13.4</td>\n",
       "      <td>22.9</td>\n",
       "      <td>0.6</td>\n",
       "      <td>5.468232</td>\n",
       "      <td>7.611178</td>\n",
       "      <td>W</td>\n",
       "      <td>44.0</td>\n",
       "      <td>W</td>\n",
       "      <td>...</td>\n",
       "      <td>71.0</td>\n",
       "      <td>22.0</td>\n",
       "      <td>1007.7</td>\n",
       "      <td>1007.1</td>\n",
       "      <td>8.000000</td>\n",
       "      <td>4.50993</td>\n",
       "      <td>16.9</td>\n",
       "      <td>21.8</td>\n",
       "      <td>No</td>\n",
       "      <td>No</td>\n",
       "    </tr>\n",
       "    <tr>\n",
       "      <th>1</th>\n",
       "      <td>2008-12-02</td>\n",
       "      <td>Albury</td>\n",
       "      <td>7.4</td>\n",
       "      <td>25.1</td>\n",
       "      <td>0.0</td>\n",
       "      <td>5.468232</td>\n",
       "      <td>7.611178</td>\n",
       "      <td>WNW</td>\n",
       "      <td>44.0</td>\n",
       "      <td>NNW</td>\n",
       "      <td>...</td>\n",
       "      <td>44.0</td>\n",
       "      <td>25.0</td>\n",
       "      <td>1010.6</td>\n",
       "      <td>1007.8</td>\n",
       "      <td>4.447461</td>\n",
       "      <td>4.50993</td>\n",
       "      <td>17.2</td>\n",
       "      <td>24.3</td>\n",
       "      <td>No</td>\n",
       "      <td>No</td>\n",
       "    </tr>\n",
       "    <tr>\n",
       "      <th>2</th>\n",
       "      <td>2008-12-03</td>\n",
       "      <td>Albury</td>\n",
       "      <td>12.9</td>\n",
       "      <td>25.7</td>\n",
       "      <td>0.0</td>\n",
       "      <td>5.468232</td>\n",
       "      <td>7.611178</td>\n",
       "      <td>WSW</td>\n",
       "      <td>46.0</td>\n",
       "      <td>W</td>\n",
       "      <td>...</td>\n",
       "      <td>38.0</td>\n",
       "      <td>30.0</td>\n",
       "      <td>1007.6</td>\n",
       "      <td>1008.7</td>\n",
       "      <td>4.447461</td>\n",
       "      <td>2.00000</td>\n",
       "      <td>21.0</td>\n",
       "      <td>23.2</td>\n",
       "      <td>No</td>\n",
       "      <td>No</td>\n",
       "    </tr>\n",
       "    <tr>\n",
       "      <th>3</th>\n",
       "      <td>2008-12-04</td>\n",
       "      <td>Albury</td>\n",
       "      <td>9.2</td>\n",
       "      <td>28.0</td>\n",
       "      <td>0.0</td>\n",
       "      <td>5.468232</td>\n",
       "      <td>7.611178</td>\n",
       "      <td>NE</td>\n",
       "      <td>24.0</td>\n",
       "      <td>SE</td>\n",
       "      <td>...</td>\n",
       "      <td>45.0</td>\n",
       "      <td>16.0</td>\n",
       "      <td>1017.6</td>\n",
       "      <td>1012.8</td>\n",
       "      <td>4.447461</td>\n",
       "      <td>4.50993</td>\n",
       "      <td>18.1</td>\n",
       "      <td>26.5</td>\n",
       "      <td>No</td>\n",
       "      <td>No</td>\n",
       "    </tr>\n",
       "    <tr>\n",
       "      <th>4</th>\n",
       "      <td>2008-12-05</td>\n",
       "      <td>Albury</td>\n",
       "      <td>17.5</td>\n",
       "      <td>32.3</td>\n",
       "      <td>1.0</td>\n",
       "      <td>5.468232</td>\n",
       "      <td>7.611178</td>\n",
       "      <td>W</td>\n",
       "      <td>41.0</td>\n",
       "      <td>ENE</td>\n",
       "      <td>...</td>\n",
       "      <td>82.0</td>\n",
       "      <td>33.0</td>\n",
       "      <td>1010.8</td>\n",
       "      <td>1006.0</td>\n",
       "      <td>7.000000</td>\n",
       "      <td>8.00000</td>\n",
       "      <td>17.8</td>\n",
       "      <td>29.7</td>\n",
       "      <td>No</td>\n",
       "      <td>No</td>\n",
       "    </tr>\n",
       "  </tbody>\n",
       "</table>\n",
       "<p>5 rows × 23 columns</p>\n",
       "</div>"
      ],
      "text/plain": [
       "         Date Location  MinTemp  MaxTemp  Rainfall  Evaporation  Sunshine  \\\n",
       "0  2008-12-01   Albury     13.4     22.9       0.6     5.468232  7.611178   \n",
       "1  2008-12-02   Albury      7.4     25.1       0.0     5.468232  7.611178   \n",
       "2  2008-12-03   Albury     12.9     25.7       0.0     5.468232  7.611178   \n",
       "3  2008-12-04   Albury      9.2     28.0       0.0     5.468232  7.611178   \n",
       "4  2008-12-05   Albury     17.5     32.3       1.0     5.468232  7.611178   \n",
       "\n",
       "  WindGustDir  WindGustSpeed WindDir9am  ... Humidity9am  Humidity3pm  \\\n",
       "0           W           44.0          W  ...        71.0         22.0   \n",
       "1         WNW           44.0        NNW  ...        44.0         25.0   \n",
       "2         WSW           46.0          W  ...        38.0         30.0   \n",
       "3          NE           24.0         SE  ...        45.0         16.0   \n",
       "4           W           41.0        ENE  ...        82.0         33.0   \n",
       "\n",
       "   Pressure9am  Pressure3pm  Cloud9am  Cloud3pm  Temp9am  Temp3pm  RainToday  \\\n",
       "0       1007.7       1007.1  8.000000   4.50993     16.9     21.8         No   \n",
       "1       1010.6       1007.8  4.447461   4.50993     17.2     24.3         No   \n",
       "2       1007.6       1008.7  4.447461   2.00000     21.0     23.2         No   \n",
       "3       1017.6       1012.8  4.447461   4.50993     18.1     26.5         No   \n",
       "4       1010.8       1006.0  7.000000   8.00000     17.8     29.7         No   \n",
       "\n",
       "   RainTomorrow  \n",
       "0            No  \n",
       "1            No  \n",
       "2            No  \n",
       "3            No  \n",
       "4            No  \n",
       "\n",
       "[5 rows x 23 columns]"
      ]
     },
     "execution_count": 136,
     "metadata": {},
     "output_type": "execute_result"
    }
   ],
   "source": [
    "df.head()"
   ]
  },
  {
   "cell_type": "code",
   "execution_count": 139,
   "id": "38828aa8-641d-44b4-a847-239480711bd5",
   "metadata": {},
   "outputs": [
    {
     "data": {
      "text/plain": [
       "Date             0\n",
       "Location         0\n",
       "MinTemp          0\n",
       "MaxTemp          0\n",
       "Rainfall         0\n",
       "Evaporation      0\n",
       "Sunshine         0\n",
       "WindGustDir      0\n",
       "WindGustSpeed    0\n",
       "WindDir9am       0\n",
       "WindDir3pm       0\n",
       "WindSpeed9am     0\n",
       "WindSpeed3pm     0\n",
       "Humidity9am      0\n",
       "Humidity3pm      0\n",
       "Pressure9am      0\n",
       "Pressure3pm      0\n",
       "Cloud9am         0\n",
       "Cloud3pm         0\n",
       "Temp9am          0\n",
       "Temp3pm          0\n",
       "RainToday        0\n",
       "RainTomorrow     0\n",
       "dtype: int64"
      ]
     },
     "execution_count": 139,
     "metadata": {},
     "output_type": "execute_result"
    }
   ],
   "source": [
    "df.isnull().sum()"
   ]
  },
  {
   "cell_type": "markdown",
   "id": "b0129d2c-44ee-4ff3-92b6-47e049351750",
   "metadata": {},
   "source": [
    "# Columns for Label Encoding:\n",
    "## From the columns we’ve worked with so far, the categorical columns that should be label-encoded include:\n",
    "\n",
    "### WindGustDir\n",
    "\n",
    "### WindDir9am\n",
    "\n",
    "### WindDir3pm\n",
    "\n",
    "### RainToday\n",
    "\n",
    "### RainTomorrow"
   ]
  },
  {
   "cell_type": "code",
   "execution_count": 142,
   "id": "04f53770-c573-440d-8345-982b323334b8",
   "metadata": {},
   "outputs": [
    {
     "name": "stdout",
     "output_type": "stream",
     "text": [
      "Label Encoding applied on 'WindGustDir'\n",
      "Label Encoding applied on 'WindDir9am'\n",
      "Label Encoding applied on 'WindDir3pm'\n",
      "Label Encoding applied on 'RainToday'\n",
      "Label Encoding applied on 'RainTomorrow'\n",
      "Label Encoding applied on 'Location'\n",
      "\n",
      "Sample of the dataset after Label Encoding:\n",
      "   WindGustDir  WindDir9am  WindDir3pm  RainToday  RainTomorrow  Location\n",
      "0           13          13          14          0             0         2\n",
      "1           14           6          15          0             0         2\n",
      "2           15          13          15          0             0         2\n",
      "3            4           9           0          0             0         2\n",
      "4           13           1           7          0             0         2\n"
     ]
    }
   ],
   "source": [
    "# List of categorical columns to be label encoded\n",
    "categorical_cols = ['WindGustDir', 'WindDir9am', 'WindDir3pm', 'RainToday', 'RainTomorrow',\"Location\"]\n",
    "\n",
    "# Initialize the LabelEncoder\n",
    "label_encoder = LabelEncoder()\n",
    "\n",
    "# Apply label encoding to each categorical column\n",
    "for col in categorical_cols:\n",
    "    df[col] = label_encoder.fit_transform(df[col].astype(str))  # Convert to string before encoding if necessary\n",
    "    print(f\"Label Encoding applied on '{col}'\")\n",
    "\n",
    "# Check the encoded values\n",
    "print(\"\\nSample of the dataset after Label Encoding:\")\n",
    "print(df[categorical_cols].head())"
   ]
  },
  {
   "cell_type": "code",
   "execution_count": 144,
   "id": "cd7c2807-b342-4eb6-add3-2b784beab210",
   "metadata": {},
   "outputs": [],
   "source": [
    "df.drop(\"Date\", axis='columns', inplace=True)"
   ]
  },
  {
   "cell_type": "markdown",
   "id": "9a73b717-717e-4182-a822-4a1d66f73487",
   "metadata": {},
   "source": [
    "## MODEL TRAINING"
   ]
  },
  {
   "cell_type": "code",
   "execution_count": 147,
   "id": "46be02b9-ede4-483b-8092-e12f5acbd644",
   "metadata": {},
   "outputs": [],
   "source": [
    "X = df.drop(columns=[\"RainTomorrow\"])\n",
    "Y = df[\"RainTomorrow\"]"
   ]
  },
  {
   "cell_type": "markdown",
   "id": "9c3cf9ac-ef0d-40cd-9372-bbfc79172ef3",
   "metadata": {},
   "source": [
    "## ## SPLITTING DATA"
   ]
  },
  {
   "cell_type": "code",
   "execution_count": 150,
   "id": "5a155fba-82a7-4800-8ca8-ae9773b55910",
   "metadata": {},
   "outputs": [],
   "source": [
    "X_train ,X_test,Y_train, Y_test = train_test_split(X , Y , test_size = 0.2 , random_state=42)"
   ]
  },
  {
   "cell_type": "markdown",
   "id": "d40a9972-e181-4399-b73a-7bd17f8829ed",
   "metadata": {},
   "source": [
    "## FEATURE SCALING"
   ]
  },
  {
   "cell_type": "code",
   "execution_count": 153,
   "id": "42656f3a-d01c-4ca7-9655-d5dd2e4f09ef",
   "metadata": {},
   "outputs": [],
   "source": [
    "scaler = StandardScaler()\n",
    "X_train = scaler.fit_transform(X_train)\n",
    "X_test = scaler.transform(X_test)"
   ]
  },
  {
   "cell_type": "code",
   "execution_count": 160,
   "id": "a28ad0a7-5c10-40ec-9e7d-7fc40d6b7edb",
   "metadata": {},
   "outputs": [
    {
     "name": "stderr",
     "output_type": "stream",
     "text": [
      "C:\\Users\\User\\anaconda3\\Lib\\site-packages\\keras\\src\\layers\\core\\dense.py:87: UserWarning: Do not pass an `input_shape`/`input_dim` argument to a layer. When using Sequential models, prefer using an `Input(shape)` object as the first layer in the model instead.\n",
      "  super().__init__(activity_regularizer=activity_regularizer, **kwargs)\n"
     ]
    }
   ],
   "source": [
    "model = Sequential([\n",
    "    Dense(64, input_dim=X_train.shape[1], activation='relu'),\n",
    "    Dropout(0.3),\n",
    "    Dense(32, activation='relu'),\n",
    "    Dropout(0.3),\n",
    "    Dense(1, activation='sigmoid')\n",
    "])"
   ]
  },
  {
   "cell_type": "code",
   "execution_count": 162,
   "id": "c394c179-f063-4b32-8b6d-bdfd8298525f",
   "metadata": {},
   "outputs": [
    {
     "name": "stdout",
     "output_type": "stream",
     "text": [
      "Epoch 1/50\n",
      "\u001b[1m2910/2910\u001b[0m \u001b[32m━━━━━━━━━━━━━━━━━━━━\u001b[0m\u001b[37m\u001b[0m \u001b[1m6s\u001b[0m 2ms/step - accuracy: 0.8195 - loss: 0.4078 - val_accuracy: 0.8454 - val_loss: 0.3605\n",
      "Epoch 2/50\n",
      "\u001b[1m2910/2910\u001b[0m \u001b[32m━━━━━━━━━━━━━━━━━━━━\u001b[0m\u001b[37m\u001b[0m \u001b[1m5s\u001b[0m 2ms/step - accuracy: 0.8463 - loss: 0.3618 - val_accuracy: 0.8469 - val_loss: 0.3565\n",
      "Epoch 3/50\n",
      "\u001b[1m2910/2910\u001b[0m \u001b[32m━━━━━━━━━━━━━━━━━━━━\u001b[0m\u001b[37m\u001b[0m \u001b[1m5s\u001b[0m 2ms/step - accuracy: 0.8482 - loss: 0.3575 - val_accuracy: 0.8478 - val_loss: 0.3547\n",
      "Epoch 4/50\n",
      "\u001b[1m2910/2910\u001b[0m \u001b[32m━━━━━━━━━━━━━━━━━━━━\u001b[0m\u001b[37m\u001b[0m \u001b[1m11s\u001b[0m 2ms/step - accuracy: 0.8489 - loss: 0.3528 - val_accuracy: 0.8477 - val_loss: 0.3531\n",
      "Epoch 5/50\n",
      "\u001b[1m2910/2910\u001b[0m \u001b[32m━━━━━━━━━━━━━━━━━━━━\u001b[0m\u001b[37m\u001b[0m \u001b[1m6s\u001b[0m 2ms/step - accuracy: 0.8492 - loss: 0.3526 - val_accuracy: 0.8487 - val_loss: 0.3511\n",
      "Epoch 6/50\n",
      "\u001b[1m2910/2910\u001b[0m \u001b[32m━━━━━━━━━━━━━━━━━━━━\u001b[0m\u001b[37m\u001b[0m \u001b[1m6s\u001b[0m 2ms/step - accuracy: 0.8487 - loss: 0.3528 - val_accuracy: 0.8493 - val_loss: 0.3501\n",
      "Epoch 7/50\n",
      "\u001b[1m2910/2910\u001b[0m \u001b[32m━━━━━━━━━━━━━━━━━━━━\u001b[0m\u001b[37m\u001b[0m \u001b[1m5s\u001b[0m 2ms/step - accuracy: 0.8502 - loss: 0.3500 - val_accuracy: 0.8487 - val_loss: 0.3497\n",
      "Epoch 8/50\n",
      "\u001b[1m2910/2910\u001b[0m \u001b[32m━━━━━━━━━━━━━━━━━━━━\u001b[0m\u001b[37m\u001b[0m \u001b[1m5s\u001b[0m 2ms/step - accuracy: 0.8503 - loss: 0.3504 - val_accuracy: 0.8496 - val_loss: 0.3494\n",
      "Epoch 9/50\n",
      "\u001b[1m2910/2910\u001b[0m \u001b[32m━━━━━━━━━━━━━━━━━━━━\u001b[0m\u001b[37m\u001b[0m \u001b[1m5s\u001b[0m 2ms/step - accuracy: 0.8484 - loss: 0.3518 - val_accuracy: 0.8497 - val_loss: 0.3486\n",
      "Epoch 10/50\n",
      "\u001b[1m2910/2910\u001b[0m \u001b[32m━━━━━━━━━━━━━━━━━━━━\u001b[0m\u001b[37m\u001b[0m \u001b[1m6s\u001b[0m 2ms/step - accuracy: 0.8501 - loss: 0.3499 - val_accuracy: 0.8503 - val_loss: 0.3494\n",
      "Epoch 11/50\n",
      "\u001b[1m2910/2910\u001b[0m \u001b[32m━━━━━━━━━━━━━━━━━━━━\u001b[0m\u001b[37m\u001b[0m \u001b[1m11s\u001b[0m 2ms/step - accuracy: 0.8500 - loss: 0.3493 - val_accuracy: 0.8512 - val_loss: 0.3477\n",
      "Epoch 12/50\n",
      "\u001b[1m2910/2910\u001b[0m \u001b[32m━━━━━━━━━━━━━━━━━━━━\u001b[0m\u001b[37m\u001b[0m \u001b[1m5s\u001b[0m 2ms/step - accuracy: 0.8486 - loss: 0.3520 - val_accuracy: 0.8497 - val_loss: 0.3479\n",
      "Epoch 13/50\n",
      "\u001b[1m2910/2910\u001b[0m \u001b[32m━━━━━━━━━━━━━━━━━━━━\u001b[0m\u001b[37m\u001b[0m \u001b[1m10s\u001b[0m 2ms/step - accuracy: 0.8508 - loss: 0.3466 - val_accuracy: 0.8513 - val_loss: 0.3473\n",
      "Epoch 14/50\n",
      "\u001b[1m2910/2910\u001b[0m \u001b[32m━━━━━━━━━━━━━━━━━━━━\u001b[0m\u001b[37m\u001b[0m \u001b[1m5s\u001b[0m 2ms/step - accuracy: 0.8536 - loss: 0.3442 - val_accuracy: 0.8515 - val_loss: 0.3466\n",
      "Epoch 15/50\n",
      "\u001b[1m2910/2910\u001b[0m \u001b[32m━━━━━━━━━━━━━━━━━━━━\u001b[0m\u001b[37m\u001b[0m \u001b[1m6s\u001b[0m 2ms/step - accuracy: 0.8534 - loss: 0.3441 - val_accuracy: 0.8516 - val_loss: 0.3459\n",
      "Epoch 16/50\n",
      "\u001b[1m2910/2910\u001b[0m \u001b[32m━━━━━━━━━━━━━━━━━━━━\u001b[0m\u001b[37m\u001b[0m \u001b[1m10s\u001b[0m 2ms/step - accuracy: 0.8517 - loss: 0.3467 - val_accuracy: 0.8522 - val_loss: 0.3458\n",
      "Epoch 17/50\n",
      "\u001b[1m2910/2910\u001b[0m \u001b[32m━━━━━━━━━━━━━━━━━━━━\u001b[0m\u001b[37m\u001b[0m \u001b[1m6s\u001b[0m 2ms/step - accuracy: 0.8526 - loss: 0.3458 - val_accuracy: 0.8497 - val_loss: 0.3472\n",
      "Epoch 18/50\n",
      "\u001b[1m2910/2910\u001b[0m \u001b[32m━━━━━━━━━━━━━━━━━━━━\u001b[0m\u001b[37m\u001b[0m \u001b[1m11s\u001b[0m 2ms/step - accuracy: 0.8536 - loss: 0.3463 - val_accuracy: 0.8520 - val_loss: 0.3460\n",
      "Epoch 19/50\n",
      "\u001b[1m2910/2910\u001b[0m \u001b[32m━━━━━━━━━━━━━━━━━━━━\u001b[0m\u001b[37m\u001b[0m \u001b[1m5s\u001b[0m 2ms/step - accuracy: 0.8522 - loss: 0.3464 - val_accuracy: 0.8525 - val_loss: 0.3460\n",
      "Epoch 20/50\n",
      "\u001b[1m2910/2910\u001b[0m \u001b[32m━━━━━━━━━━━━━━━━━━━━\u001b[0m\u001b[37m\u001b[0m \u001b[1m11s\u001b[0m 2ms/step - accuracy: 0.8524 - loss: 0.3449 - val_accuracy: 0.8510 - val_loss: 0.3454\n",
      "Epoch 21/50\n",
      "\u001b[1m2910/2910\u001b[0m \u001b[32m━━━━━━━━━━━━━━━━━━━━\u001b[0m\u001b[37m\u001b[0m \u001b[1m5s\u001b[0m 2ms/step - accuracy: 0.8519 - loss: 0.3473 - val_accuracy: 0.8525 - val_loss: 0.3449\n",
      "Epoch 22/50\n",
      "\u001b[1m2910/2910\u001b[0m \u001b[32m━━━━━━━━━━━━━━━━━━━━\u001b[0m\u001b[37m\u001b[0m \u001b[1m6s\u001b[0m 2ms/step - accuracy: 0.8522 - loss: 0.3439 - val_accuracy: 0.8514 - val_loss: 0.3447\n",
      "Epoch 23/50\n",
      "\u001b[1m2910/2910\u001b[0m \u001b[32m━━━━━━━━━━━━━━━━━━━━\u001b[0m\u001b[37m\u001b[0m \u001b[1m9s\u001b[0m 2ms/step - accuracy: 0.8534 - loss: 0.3425 - val_accuracy: 0.8522 - val_loss: 0.3460\n",
      "Epoch 24/50\n",
      "\u001b[1m2910/2910\u001b[0m \u001b[32m━━━━━━━━━━━━━━━━━━━━\u001b[0m\u001b[37m\u001b[0m \u001b[1m5s\u001b[0m 2ms/step - accuracy: 0.8531 - loss: 0.3445 - val_accuracy: 0.8502 - val_loss: 0.3447\n",
      "Epoch 25/50\n",
      "\u001b[1m2910/2910\u001b[0m \u001b[32m━━━━━━━━━━━━━━━━━━━━\u001b[0m\u001b[37m\u001b[0m \u001b[1m5s\u001b[0m 2ms/step - accuracy: 0.8512 - loss: 0.3476 - val_accuracy: 0.8504 - val_loss: 0.3449\n",
      "Epoch 26/50\n",
      "\u001b[1m2910/2910\u001b[0m \u001b[32m━━━━━━━━━━━━━━━━━━━━\u001b[0m\u001b[37m\u001b[0m \u001b[1m5s\u001b[0m 2ms/step - accuracy: 0.8532 - loss: 0.3451 - val_accuracy: 0.8510 - val_loss: 0.3455\n",
      "Epoch 27/50\n",
      "\u001b[1m2910/2910\u001b[0m \u001b[32m━━━━━━━━━━━━━━━━━━━━\u001b[0m\u001b[37m\u001b[0m \u001b[1m9s\u001b[0m 2ms/step - accuracy: 0.8516 - loss: 0.3465 - val_accuracy: 0.8511 - val_loss: 0.3457\n",
      "Epoch 28/50\n",
      "\u001b[1m2910/2910\u001b[0m \u001b[32m━━━━━━━━━━━━━━━━━━━━\u001b[0m\u001b[37m\u001b[0m \u001b[1m4s\u001b[0m 1ms/step - accuracy: 0.8547 - loss: 0.3407 - val_accuracy: 0.8506 - val_loss: 0.3442\n",
      "Epoch 29/50\n",
      "\u001b[1m2910/2910\u001b[0m \u001b[32m━━━━━━━━━━━━━━━━━━━━\u001b[0m\u001b[37m\u001b[0m \u001b[1m6s\u001b[0m 2ms/step - accuracy: 0.8517 - loss: 0.3442 - val_accuracy: 0.8515 - val_loss: 0.3435\n",
      "Epoch 30/50\n",
      "\u001b[1m2910/2910\u001b[0m \u001b[32m━━━━━━━━━━━━━━━━━━━━\u001b[0m\u001b[37m\u001b[0m \u001b[1m5s\u001b[0m 2ms/step - accuracy: 0.8544 - loss: 0.3439 - val_accuracy: 0.8517 - val_loss: 0.3449\n",
      "Epoch 31/50\n",
      "\u001b[1m2910/2910\u001b[0m \u001b[32m━━━━━━━━━━━━━━━━━━━━\u001b[0m\u001b[37m\u001b[0m \u001b[1m6s\u001b[0m 2ms/step - accuracy: 0.8536 - loss: 0.3436 - val_accuracy: 0.8522 - val_loss: 0.3439\n",
      "Epoch 32/50\n",
      "\u001b[1m2910/2910\u001b[0m \u001b[32m━━━━━━━━━━━━━━━━━━━━\u001b[0m\u001b[37m\u001b[0m \u001b[1m6s\u001b[0m 2ms/step - accuracy: 0.8535 - loss: 0.3434 - val_accuracy: 0.8519 - val_loss: 0.3441\n",
      "Epoch 33/50\n",
      "\u001b[1m2910/2910\u001b[0m \u001b[32m━━━━━━━━━━━━━━━━━━━━\u001b[0m\u001b[37m\u001b[0m \u001b[1m10s\u001b[0m 2ms/step - accuracy: 0.8551 - loss: 0.3409 - val_accuracy: 0.8526 - val_loss: 0.3437\n",
      "Epoch 34/50\n",
      "\u001b[1m2910/2910\u001b[0m \u001b[32m━━━━━━━━━━━━━━━━━━━━\u001b[0m\u001b[37m\u001b[0m \u001b[1m7s\u001b[0m 2ms/step - accuracy: 0.8545 - loss: 0.3423 - val_accuracy: 0.8528 - val_loss: 0.3434\n",
      "Epoch 35/50\n",
      "\u001b[1m2910/2910\u001b[0m \u001b[32m━━━━━━━━━━━━━━━━━━━━\u001b[0m\u001b[37m\u001b[0m \u001b[1m6s\u001b[0m 2ms/step - accuracy: 0.8542 - loss: 0.3430 - val_accuracy: 0.8515 - val_loss: 0.3437\n",
      "Epoch 36/50\n",
      "\u001b[1m2910/2910\u001b[0m \u001b[32m━━━━━━━━━━━━━━━━━━━━\u001b[0m\u001b[37m\u001b[0m \u001b[1m5s\u001b[0m 2ms/step - accuracy: 0.8562 - loss: 0.3408 - val_accuracy: 0.8519 - val_loss: 0.3439\n",
      "Epoch 37/50\n",
      "\u001b[1m2910/2910\u001b[0m \u001b[32m━━━━━━━━━━━━━━━━━━━━\u001b[0m\u001b[37m\u001b[0m \u001b[1m5s\u001b[0m 2ms/step - accuracy: 0.8538 - loss: 0.3429 - val_accuracy: 0.8531 - val_loss: 0.3442\n",
      "Epoch 38/50\n",
      "\u001b[1m2910/2910\u001b[0m \u001b[32m━━━━━━━━━━━━━━━━━━━━\u001b[0m\u001b[37m\u001b[0m \u001b[1m6s\u001b[0m 2ms/step - accuracy: 0.8525 - loss: 0.3438 - val_accuracy: 0.8518 - val_loss: 0.3437\n",
      "Epoch 39/50\n",
      "\u001b[1m2910/2910\u001b[0m \u001b[32m━━━━━━━━━━━━━━━━━━━━\u001b[0m\u001b[37m\u001b[0m \u001b[1m5s\u001b[0m 2ms/step - accuracy: 0.8549 - loss: 0.3394 - val_accuracy: 0.8540 - val_loss: 0.3435\n",
      "Epoch 40/50\n",
      "\u001b[1m2910/2910\u001b[0m \u001b[32m━━━━━━━━━━━━━━━━━━━━\u001b[0m\u001b[37m\u001b[0m \u001b[1m6s\u001b[0m 2ms/step - accuracy: 0.8558 - loss: 0.3388 - val_accuracy: 0.8525 - val_loss: 0.3437\n",
      "Epoch 41/50\n",
      "\u001b[1m2910/2910\u001b[0m \u001b[32m━━━━━━━━━━━━━━━━━━━━\u001b[0m\u001b[37m\u001b[0m \u001b[1m5s\u001b[0m 2ms/step - accuracy: 0.8545 - loss: 0.3411 - val_accuracy: 0.8532 - val_loss: 0.3434\n",
      "Epoch 42/50\n",
      "\u001b[1m2910/2910\u001b[0m \u001b[32m━━━━━━━━━━━━━━━━━━━━\u001b[0m\u001b[37m\u001b[0m \u001b[1m5s\u001b[0m 2ms/step - accuracy: 0.8540 - loss: 0.3408 - val_accuracy: 0.8535 - val_loss: 0.3436\n",
      "Epoch 43/50\n",
      "\u001b[1m2910/2910\u001b[0m \u001b[32m━━━━━━━━━━━━━━━━━━━━\u001b[0m\u001b[37m\u001b[0m \u001b[1m5s\u001b[0m 2ms/step - accuracy: 0.8539 - loss: 0.3430 - val_accuracy: 0.8523 - val_loss: 0.3465\n",
      "Epoch 44/50\n",
      "\u001b[1m2910/2910\u001b[0m \u001b[32m━━━━━━━━━━━━━━━━━━━━\u001b[0m\u001b[37m\u001b[0m \u001b[1m4s\u001b[0m 1ms/step - accuracy: 0.8542 - loss: 0.3441 - val_accuracy: 0.8523 - val_loss: 0.3427\n",
      "Epoch 45/50\n",
      "\u001b[1m2910/2910\u001b[0m \u001b[32m━━━━━━━━━━━━━━━━━━━━\u001b[0m\u001b[37m\u001b[0m \u001b[1m4s\u001b[0m 1ms/step - accuracy: 0.8551 - loss: 0.3400 - val_accuracy: 0.8525 - val_loss: 0.3456\n",
      "Epoch 46/50\n",
      "\u001b[1m2910/2910\u001b[0m \u001b[32m━━━━━━━━━━━━━━━━━━━━\u001b[0m\u001b[37m\u001b[0m \u001b[1m4s\u001b[0m 1ms/step - accuracy: 0.8521 - loss: 0.3436 - val_accuracy: 0.8533 - val_loss: 0.3433\n",
      "Epoch 47/50\n",
      "\u001b[1m2910/2910\u001b[0m \u001b[32m━━━━━━━━━━━━━━━━━━━━\u001b[0m\u001b[37m\u001b[0m \u001b[1m6s\u001b[0m 2ms/step - accuracy: 0.8553 - loss: 0.3414 - val_accuracy: 0.8526 - val_loss: 0.3431\n",
      "Epoch 48/50\n",
      "\u001b[1m2910/2910\u001b[0m \u001b[32m━━━━━━━━━━━━━━━━━━━━\u001b[0m\u001b[37m\u001b[0m \u001b[1m4s\u001b[0m 1ms/step - accuracy: 0.8548 - loss: 0.3417 - val_accuracy: 0.8525 - val_loss: 0.3436\n",
      "Epoch 49/50\n",
      "\u001b[1m2910/2910\u001b[0m \u001b[32m━━━━━━━━━━━━━━━━━━━━\u001b[0m\u001b[37m\u001b[0m \u001b[1m4s\u001b[0m 1ms/step - accuracy: 0.8563 - loss: 0.3400 - val_accuracy: 0.8512 - val_loss: 0.3431\n",
      "Epoch 50/50\n",
      "\u001b[1m2910/2910\u001b[0m \u001b[32m━━━━━━━━━━━━━━━━━━━━\u001b[0m\u001b[37m\u001b[0m \u001b[1m4s\u001b[0m 2ms/step - accuracy: 0.8534 - loss: 0.3425 - val_accuracy: 0.8521 - val_loss: 0.3436\n"
     ]
    },
    {
     "data": {
      "text/plain": [
       "<keras.src.callbacks.history.History at 0x211468c4ef0>"
      ]
     },
     "execution_count": 162,
     "metadata": {},
     "output_type": "execute_result"
    }
   ],
   "source": [
    "model.compile(optimizer='adam', loss='binary_crossentropy', metrics=['accuracy'])\n",
    "model.fit(X_train, Y_train, epochs=50, batch_size=32, validation_split=0.2)"
   ]
  },
  {
   "cell_type": "code",
   "execution_count": 164,
   "id": "c025a587-c6ac-4712-9820-eceb29acf7a4",
   "metadata": {},
   "outputs": [
    {
     "name": "stdout",
     "output_type": "stream",
     "text": [
      "\u001b[1m910/910\u001b[0m \u001b[32m━━━━━━━━━━━━━━━━━━━━\u001b[0m\u001b[37m\u001b[0m \u001b[1m1s\u001b[0m 1ms/step - accuracy: 0.8478 - loss: 0.3430  \n"
     ]
    }
   ],
   "source": [
    "loss , accuracy = model.evaluate(X_test , Y_test)"
   ]
  },
  {
   "cell_type": "code",
   "execution_count": 166,
   "id": "7ca38dd5-b5ac-4d14-8901-5a47262e3156",
   "metadata": {},
   "outputs": [
    {
     "data": {
      "text/plain": [
       "(0.3418624699115753, 0.8501993417739868)"
      ]
     },
     "execution_count": 166,
     "metadata": {},
     "output_type": "execute_result"
    }
   ],
   "source": [
    "loss , accuracy"
   ]
  },
  {
   "cell_type": "code",
   "execution_count": null,
   "id": "06eb5c9d-b06b-471d-916b-99a8e11e14c4",
   "metadata": {},
   "outputs": [],
   "source": []
  }
 ],
 "metadata": {
  "kernelspec": {
   "display_name": "Python 3 (ipykernel)",
   "language": "python",
   "name": "python3"
  },
  "language_info": {
   "codemirror_mode": {
    "name": "ipython",
    "version": 3
   },
   "file_extension": ".py",
   "mimetype": "text/x-python",
   "name": "python",
   "nbconvert_exporter": "python",
   "pygments_lexer": "ipython3",
   "version": "3.12.7"
  }
 },
 "nbformat": 4,
 "nbformat_minor": 5
}
