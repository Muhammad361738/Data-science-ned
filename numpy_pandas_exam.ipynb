{
 "cells": [
  {
   "cell_type": "markdown",
   "id": "c4f062c4",
   "metadata": {},
   "source": [
    "Got it — you want a practical-based quiz on NumPy and Pandas for 100 marks total, and the level should be intermediate.\n",
    "I’ll design it like a real test where students have to code, analyze, and solve practical tasks.\n",
    "\n",
    "Here’s the full quiz:\n",
    "\n",
    "\n",
    "---\n",
    "\n",
    "NumPy and Pandas Intermediate Quiz (Practical Based - 100 Marks)\n",
    "\n",
    "Section B: Pandas (50 Marks)\n",
    "\n",
    "Q6. DataFrame Creation and Indexing (10 marks)\n",
    "\n",
    "Create a DataFrame with the following columns: 'Name', 'Age', 'City', 'Marks'.\n",
    "\n",
    "Insert at least 6 rows manually.\n",
    "\n",
    "Set 'Name' as the index.\n",
    "\n",
    "\n",
    "Q7. Data Cleaning (10 marks)\n",
    "\n",
    "Introduce 2 NaN values manually in your DataFrame.\n",
    "\n",
    "Fill the NaN values:\n",
    "\n",
    "One with a constant value.\n",
    "\n",
    "One with the mean of the column.\n",
    "\n",
    "\n",
    "\n",
    "Q8. GroupBy and Aggregation (10 marks)\n",
    "\n",
    "Using the same or new DataFrame:\n",
    "\n",
    "Group the data by 'City'.\n",
    "\n",
    "Find the average 'Marks' for each city.\n",
    "\n",
    "\n",
    "\n",
    "Q9. Merging and Joining (10 marks)\n",
    "\n",
    "Create two DataFrames:\n",
    "\n",
    "One with 'StudentID', 'Name'.\n",
    "\n",
    "Another with 'StudentID', 'Subject', 'Grade'.\n",
    "\n",
    "\n",
    "Perform an inner join on 'StudentID'.\n",
    "\n",
    "\n",
    "Q10. Data Filtering and Sorting (10 marks)\n",
    "\n",
    "Filter students who have scored marks greater than 80.\n",
    "\n",
    "Sort the DataFrame in descending order of 'Marks'.\n",
    "\n",
    "\n",
    "\n",
    "---\n",
    "\n",
    "Instructions\n",
    "\n",
    "You must use only NumPy and Pandas (no other libraries unless specified).\n",
    "\n",
    "Proper comments and clean code will be rewarded with extra marks.\n",
    "\n",
    "Partial answers will receive partial marks.\n",
    "\n",
    "\n",
    "Marks Distribution\n",
    "\n",
    "\n",
    "---\n",
    "\n",
    "Would you also like me to prepare a solution key separately if needed?\n",
    "I can even format it into a PDF-style sheet if you want!\n",
    "Should I continue with that?"
   ]
  },
  {
   "cell_type": "markdown",
   "id": "71e7a0b7",
   "metadata": {},
   "source": [
    "Q1. Array Creation and Manipulation (10 marks)\n",
    "\n",
    "Create a 5×5 NumPy array with random integers from 1 to 50.\n",
    "\n",
    "Replace all even numbers in the array with -1.\n"
   ]
  },
  {
   "cell_type": "code",
   "execution_count": 1,
   "id": "71bcd87a",
   "metadata": {},
   "outputs": [],
   "source": [
    "import numpy as np "
   ]
  },
  {
   "cell_type": "code",
   "execution_count": 12,
   "id": "e8ed7d56",
   "metadata": {},
   "outputs": [
    {
     "data": {
      "text/plain": [
       "array([[20, 26, 21,  6, 22],\n",
       "       [50, 19, 33, 39,  2],\n",
       "       [ 3, 17, 23, 39,  1],\n",
       "       [45, 42, 17,  1,  1],\n",
       "       [19,  5, 49, 15,  4]], dtype=int32)"
      ]
     },
     "execution_count": 12,
     "metadata": {},
     "output_type": "execute_result"
    }
   ],
   "source": [
    "df = np.random.randint(1,51,size=(5,5))\n",
    "df"
   ]
  },
  {
   "cell_type": "code",
   "execution_count": 22,
   "id": "2d4f62fe",
   "metadata": {},
   "outputs": [
    {
     "data": {
      "text/plain": [
       "array([[-1, -1, -1, -1, -1],\n",
       "       [-1, -1, -1, -1, -1],\n",
       "       [ 3, 17, 23, 39,  1],\n",
       "       [-1, -1, -1, -1, -1],\n",
       "       [-1, -1, -1, -1, -1]], dtype=int32)"
      ]
     },
     "execution_count": 22,
     "metadata": {},
     "output_type": "execute_result"
    }
   ],
   "source": [
    "df[ i % 2 == 0] = -1\n",
    "df"
   ]
  },
  {
   "cell_type": "markdown",
   "id": "d2b8bdb3",
   "metadata": {},
   "source": [
    "\n",
    "Q2. Statistical Operations (10 marks)\n",
    "\n",
    "Given a random array of size 100, calculate:\n",
    "\n",
    "Mean\n",
    "\n",
    "Median\n",
    "\n",
    "Standard deviation\n",
    "\n",
    "Variance\n"
   ]
  },
  {
   "cell_type": "code",
   "execution_count": 30,
   "id": "8263041c",
   "metadata": {},
   "outputs": [
    {
     "name": "stdout",
     "output_type": "stream",
     "text": [
      "48.76\n",
      "30.220562536127616\n",
      "913.2823999999999\n"
     ]
    }
   ],
   "source": [
    "arr = np.random.randint(1,101, size=(1,100))\n",
    "print(arr.mean())\n",
    "print(arr.std())\n",
    "print(arr.var())"
   ]
  },
  {
   "cell_type": "markdown",
   "id": "8fa58071",
   "metadata": {},
   "source": [
    "\n",
    "Q3. Array Reshaping (10 marks)\n",
    "\n",
    "Create a 1D array of 30 elements.\n",
    "\n",
    "Reshape it into a 3D array with shape (3, 2, 5).\n",
    "\n",
    "Swap the axes of the 3D array.\n"
   ]
  },
  {
   "cell_type": "code",
   "execution_count": 47,
   "id": "0760eccc",
   "metadata": {},
   "outputs": [
    {
     "data": {
      "text/plain": [
       "array([[[65, 59, 41,  6,  2],\n",
       "        [56, 43, 85, 29, 94]],\n",
       "\n",
       "       [[ 1,  9,  9, 46, 31],\n",
       "        [42, 57,  7, 50, 48]],\n",
       "\n",
       "       [[40, 53, 51, 49, 42],\n",
       "        [60,  7, 43, 44, 42]]], dtype=int32)"
      ]
     },
     "execution_count": 47,
     "metadata": {},
     "output_type": "execute_result"
    }
   ],
   "source": [
    "arr = np.random.randint(1,100,size=(30))\n",
    "redhape_3D =arr.reshape(3,2,5)\n",
    "redhape_3D\n"
   ]
  },
  {
   "cell_type": "code",
   "execution_count": 48,
   "id": "e191fa9b",
   "metadata": {},
   "outputs": [
    {
     "data": {
      "text/plain": [
       "array([[[65, 56],\n",
       "        [59, 43],\n",
       "        [41, 85],\n",
       "        [ 6, 29],\n",
       "        [ 2, 94]],\n",
       "\n",
       "       [[ 1, 42],\n",
       "        [ 9, 57],\n",
       "        [ 9,  7],\n",
       "        [46, 50],\n",
       "        [31, 48]],\n",
       "\n",
       "       [[40, 60],\n",
       "        [53,  7],\n",
       "        [51, 43],\n",
       "        [49, 44],\n",
       "        [42, 42]]], dtype=int32)"
      ]
     },
     "execution_count": 48,
     "metadata": {},
     "output_type": "execute_result"
    }
   ],
   "source": [
    "x= np.swapaxes(redhape_3D,1,2) # swapping axis 0 and axis 1\n",
    "x"
   ]
  },
  {
   "cell_type": "markdown",
   "id": "dc634f52",
   "metadata": {},
   "source": [
    "\n",
    "\n",
    "Q4. Broadcasting and Vectorization (10 marks)\n",
    "\n",
    "Create two arrays:\n",
    "\n",
    "Array A of shape (5,1)\n",
    "\n",
    "Array B of shape (1,5)\n",
    "\n",
    "\n",
    "Add them together using broadcasting.\n"
   ]
  },
  {
   "cell_type": "code",
   "execution_count": 49,
   "id": "aa6b9109",
   "metadata": {},
   "outputs": [
    {
     "data": {
      "text/plain": [
       "array([[30, 23, 29, 15, 20],\n",
       "       [55, 48, 54, 40, 45],\n",
       "       [73, 66, 72, 58, 63],\n",
       "       [34, 27, 33, 19, 24],\n",
       "       [53, 46, 52, 38, 43]], dtype=int32)"
      ]
     },
     "execution_count": 49,
     "metadata": {},
     "output_type": "execute_result"
    }
   ],
   "source": [
    "a = np.random.randint(1,50,size=(5,1))\n",
    "b = np.random.randint(1,50,size=(1,5))\n",
    "\n",
    "result = a + b\n",
    "result"
   ]
  },
  {
   "cell_type": "markdown",
   "id": "e9c252b2",
   "metadata": {},
   "source": [
    "\n",
    "Q5. Logical Operations and Indexing (10 marks)\n",
    "\n",
    "Create an array of numbers from 10 to 50.\n",
    "\n",
    "Extract all numbers that are divisible by both 3 and 5.\n"
   ]
  },
  {
   "cell_type": "code",
   "execution_count": 70,
   "id": "c9d990ac",
   "metadata": {},
   "outputs": [
    {
     "data": {
      "text/plain": [
       "array([[40, 25, 10, 24, 21],\n",
       "       [38, 25, 12, 13, 22],\n",
       "       [30, 38, 24, 38, 19],\n",
       "       [42, 40, 36, 20, 18],\n",
       "       [31, 23, 32, 38, 34]], dtype=int32)"
      ]
     },
     "execution_count": 70,
     "metadata": {},
     "output_type": "execute_result"
    }
   ],
   "source": [
    "arr = np.random.randint(10,50,size=(5,5))\n",
    "arr"
   ]
  },
  {
   "cell_type": "code",
   "execution_count": 71,
   "id": "5c8b715c",
   "metadata": {},
   "outputs": [
    {
     "name": "stdout",
     "output_type": "stream",
     "text": [
      "[30]\n"
     ]
    }
   ],
   "source": [
    "x = arr[(arr % 3 == 0) &( arr % 5 == 0)]\n",
    "print(x)\n"
   ]
  },
  {
   "cell_type": "code",
   "execution_count": null,
   "id": "97bc5722",
   "metadata": {},
   "outputs": [],
   "source": []
  }
 ],
 "metadata": {
  "kernelspec": {
   "display_name": "Python 3",
   "language": "python",
   "name": "python3"
  },
  "language_info": {
   "codemirror_mode": {
    "name": "ipython",
    "version": 3
   },
   "file_extension": ".py",
   "mimetype": "text/x-python",
   "name": "python",
   "nbconvert_exporter": "python",
   "pygments_lexer": "ipython3",
   "version": "3.13.1"
  }
 },
 "nbformat": 4,
 "nbformat_minor": 5
}
