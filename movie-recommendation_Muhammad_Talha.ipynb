{
 "cells": [
  {
   "cell_type": "code",
   "execution_count": 1,
   "metadata": {
    "_cell_guid": "b1076dfc-b9ad-4769-8c92-a6c4dae69d19",
    "_uuid": "8f2839f25d086af736a60e9eeb907d3b93b6e0e5",
    "execution": {
     "iopub.execute_input": "2025-04-26T14:47:44.679022Z",
     "iopub.status.busy": "2025-04-26T14:47:44.678703Z",
     "iopub.status.idle": "2025-04-26T14:47:44.689552Z",
     "shell.execute_reply": "2025-04-26T14:47:44.688771Z",
     "shell.execute_reply.started": "2025-04-26T14:47:44.678999Z"
    },
    "trusted": true
   },
   "outputs": [],
   "source": [
    "# This Python 3 environment comes with many helpful analytics libraries installed\n",
    "# It is defined by the kaggle/python Docker image: https://github.com/kaggle/docker-python\n",
    "# For example, here's several helpful packages to load\n",
    "\n",
    "import numpy as np # linear algebra\n",
    "import pandas as pd # data processing, CSV file I/O (e.g. pd.read_csv)\n",
    "\n",
    "# Input data files are available in the read-only \"../input/\" directory\n",
    "# For example, running this (by clicking run or pressing Shift+Enter) will list all files under the input directory\n",
    "\n",
    "import os\n",
    "for dirname, _, filenames in os.walk('/kaggle/input'):\n",
    "    for filename in filenames:\n",
    "        print(os.path.join(dirname, filename))\n",
    "\n",
    "# You can write up to 20GB to the current directory (/kaggle/working/) that gets preserved as output when you create a version using \"Save & Run All\" \n",
    "# You can also write temporary files to /kaggle/temp/, but they won't be saved outside of the current session"
   ]
  },
  {
   "cell_type": "markdown",
   "metadata": {},
   "source": [
    "## IMPORTS"
   ]
  },
  {
   "cell_type": "code",
   "execution_count": 4,
   "metadata": {},
   "outputs": [
    {
     "name": "stdout",
     "output_type": "stream",
     "text": [
      "Defaulting to user installation because normal site-packages is not writeable\n",
      "Note: you may need to restart the kernel to use updated packages.\n"
     ]
    },
    {
     "name": "stderr",
     "output_type": "stream",
     "text": [
      "WARNING: Retrying (Retry(total=4, connect=None, read=None, redirect=None, status=None)) after connection broken by 'ReadTimeoutError(\"HTTPSConnectionPool(host='pypi.org', port=443): Read timed out. (read timeout=15)\")': /simple/tensorflow/\n",
      "ERROR: Could not find a version that satisfies the requirement tensorflow (from versions: none)\n",
      "\n",
      "[notice] A new release of pip is available: 25.0.1 -> 25.1\n",
      "[notice] To update, run: python.exe -m pip install --upgrade pip\n",
      "ERROR: No matching distribution found for tensorflow\n"
     ]
    }
   ],
   "source": [
    "pip install tensorflow"
   ]
  },
  {
   "cell_type": "code",
   "execution_count": 2,
   "metadata": {
    "execution": {
     "iopub.execute_input": "2025-04-26T14:47:44.691879Z",
     "iopub.status.busy": "2025-04-26T14:47:44.691100Z",
     "iopub.status.idle": "2025-04-26T14:47:44.703986Z",
     "shell.execute_reply": "2025-04-26T14:47:44.703195Z",
     "shell.execute_reply.started": "2025-04-26T14:47:44.691856Z"
    },
    "trusted": true
   },
   "outputs": [
    {
     "ename": "ModuleNotFoundError",
     "evalue": "No module named 'tensorflow'",
     "output_type": "error",
     "traceback": [
      "\u001b[31m---------------------------------------------------------------------------\u001b[39m",
      "\u001b[31mModuleNotFoundError\u001b[39m                       Traceback (most recent call last)",
      "\u001b[36mCell\u001b[39m\u001b[36m \u001b[39m\u001b[32mIn[2]\u001b[39m\u001b[32m, line 1\u001b[39m\n\u001b[32m----> \u001b[39m\u001b[32m1\u001b[39m \u001b[38;5;28;01mimport\u001b[39;00m\u001b[38;5;250m \u001b[39m\u001b[34;01mtensorflow\u001b[39;00m\u001b[38;5;250m \u001b[39m\u001b[38;5;28;01mas\u001b[39;00m\u001b[38;5;250m \u001b[39m\u001b[34;01mtf\u001b[39;00m\n\u001b[32m      2\u001b[39m \u001b[38;5;28;01mfrom\u001b[39;00m\u001b[38;5;250m \u001b[39m\u001b[34;01mtensorflow\u001b[39;00m\u001b[34;01m.\u001b[39;00m\u001b[34;01mkeras\u001b[39;00m\u001b[34;01m.\u001b[39;00m\u001b[34;01mmodels\u001b[39;00m\u001b[38;5;250m \u001b[39m\u001b[38;5;28;01mimport\u001b[39;00m Sequential\n\u001b[32m      3\u001b[39m \u001b[38;5;28;01mfrom\u001b[39;00m\u001b[38;5;250m \u001b[39m\u001b[34;01mtensorflow\u001b[39;00m\u001b[34;01m.\u001b[39;00m\u001b[34;01mkeras\u001b[39;00m\u001b[34;01m.\u001b[39;00m\u001b[34;01mlayers\u001b[39;00m\u001b[38;5;250m \u001b[39m\u001b[38;5;28;01mimport\u001b[39;00m Dense\n",
      "\u001b[31mModuleNotFoundError\u001b[39m: No module named 'tensorflow'"
     ]
    }
   ],
   "source": [
    "import tensorflow as tf\n",
    "from tensorflow.keras.models import Sequential\n",
    "from tensorflow.keras.layers import Dense\n",
    "from sklearn.model_selection import train_test_split\n",
    "from sklearn.preprocessing import LabelEncoder, StandardScaler\n",
    "from tensorflow.keras.optimizers import Adam\n",
    "import seaborn as sns\n",
    "import matplotlib.pyplot as plt\n",
    "from matplotlib.ticker import FuncFormatter"
   ]
  },
  {
   "cell_type": "markdown",
   "metadata": {},
   "source": [
    "## CREATING DATAFRAME"
   ]
  },
  {
   "cell_type": "code",
   "execution_count": null,
   "metadata": {
    "execution": {
     "iopub.execute_input": "2025-04-26T14:47:44.705311Z",
     "iopub.status.busy": "2025-04-26T14:47:44.704960Z",
     "iopub.status.idle": "2025-04-26T14:47:45.080021Z",
     "shell.execute_reply": "2025-04-26T14:47:45.079316Z",
     "shell.execute_reply.started": "2025-04-26T14:47:44.705290Z"
    },
    "trusted": true
   },
   "outputs": [
    {
     "data": {
      "text/html": [
       "<div>\n",
       "<style scoped>\n",
       "    .dataframe tbody tr th:only-of-type {\n",
       "        vertical-align: middle;\n",
       "    }\n",
       "\n",
       "    .dataframe tbody tr th {\n",
       "        vertical-align: top;\n",
       "    }\n",
       "\n",
       "    .dataframe thead th {\n",
       "        text-align: right;\n",
       "    }\n",
       "</style>\n",
       "<table border=\"1\" class=\"dataframe\">\n",
       "  <thead>\n",
       "    <tr style=\"text-align: right;\">\n",
       "      <th></th>\n",
       "      <th>Movie_ID</th>\n",
       "      <th>Movie_Title</th>\n",
       "      <th>Movie_Genre</th>\n",
       "      <th>Movie_Language</th>\n",
       "      <th>Movie_Budget</th>\n",
       "      <th>Movie_Popularity</th>\n",
       "      <th>Movie_Release_Date</th>\n",
       "      <th>Movie_Revenue</th>\n",
       "      <th>Movie_Runtime</th>\n",
       "      <th>Movie_Vote</th>\n",
       "      <th>...</th>\n",
       "      <th>Movie_Homepage</th>\n",
       "      <th>Movie_Keywords</th>\n",
       "      <th>Movie_Overview</th>\n",
       "      <th>Movie_Production_House</th>\n",
       "      <th>Movie_Production_Country</th>\n",
       "      <th>Movie_Spoken_Language</th>\n",
       "      <th>Movie_Tagline</th>\n",
       "      <th>Movie_Cast</th>\n",
       "      <th>Movie_Crew</th>\n",
       "      <th>Movie_Director</th>\n",
       "    </tr>\n",
       "  </thead>\n",
       "  <tbody>\n",
       "    <tr>\n",
       "      <th>0</th>\n",
       "      <td>1</td>\n",
       "      <td>Four Rooms</td>\n",
       "      <td>Crime Comedy</td>\n",
       "      <td>en</td>\n",
       "      <td>4000000</td>\n",
       "      <td>22.876230</td>\n",
       "      <td>09-12-1995</td>\n",
       "      <td>4300000</td>\n",
       "      <td>98.0</td>\n",
       "      <td>6.5</td>\n",
       "      <td>...</td>\n",
       "      <td>NaN</td>\n",
       "      <td>hotel new year's eve witch bet hotel room</td>\n",
       "      <td>It's Ted the Bellhop's first night on the job....</td>\n",
       "      <td>[{\"name\": \"Miramax Films\", \"id\": 14}, {\"name\":...</td>\n",
       "      <td>[{\"iso_3166_1\": \"US\", \"name\": \"United States o...</td>\n",
       "      <td>[{\"iso_639_1\": \"en\", \"name\": \"English\"}]</td>\n",
       "      <td>Twelve outrageous guests. Four scandalous requ...</td>\n",
       "      <td>Tim Roth Antonio Banderas Jennifer Beals Madon...</td>\n",
       "      <td>[{'name': 'Allison Anders', 'gender': 1, 'depa...</td>\n",
       "      <td>Allison Anders</td>\n",
       "    </tr>\n",
       "    <tr>\n",
       "      <th>1</th>\n",
       "      <td>2</td>\n",
       "      <td>Star Wars</td>\n",
       "      <td>Adventure Action Science Fiction</td>\n",
       "      <td>en</td>\n",
       "      <td>11000000</td>\n",
       "      <td>126.393695</td>\n",
       "      <td>25-05-1977</td>\n",
       "      <td>775398007</td>\n",
       "      <td>121.0</td>\n",
       "      <td>8.1</td>\n",
       "      <td>...</td>\n",
       "      <td>http://www.starwars.com/films/star-wars-episod...</td>\n",
       "      <td>android galaxy hermit death star lightsaber</td>\n",
       "      <td>Princess Leia is captured and held hostage by ...</td>\n",
       "      <td>[{\"name\": \"Lucasfilm\", \"id\": 1}, {\"name\": \"Twe...</td>\n",
       "      <td>[{\"iso_3166_1\": \"US\", \"name\": \"United States o...</td>\n",
       "      <td>[{\"iso_639_1\": \"en\", \"name\": \"English\"}]</td>\n",
       "      <td>A long time ago in a galaxy far, far away...</td>\n",
       "      <td>Mark Hamill Harrison Ford Carrie Fisher Peter ...</td>\n",
       "      <td>[{'name': 'George Lucas', 'gender': 2, 'depart...</td>\n",
       "      <td>George Lucas</td>\n",
       "    </tr>\n",
       "  </tbody>\n",
       "</table>\n",
       "<p>2 rows × 21 columns</p>\n",
       "</div>"
      ],
      "text/plain": [
       "   Movie_ID Movie_Title                       Movie_Genre Movie_Language  \\\n",
       "0         1  Four Rooms                      Crime Comedy             en   \n",
       "1         2   Star Wars  Adventure Action Science Fiction             en   \n",
       "\n",
       "   Movie_Budget  Movie_Popularity Movie_Release_Date  Movie_Revenue  \\\n",
       "0       4000000         22.876230         09-12-1995        4300000   \n",
       "1      11000000        126.393695         25-05-1977      775398007   \n",
       "\n",
       "   Movie_Runtime  Movie_Vote  ...  \\\n",
       "0           98.0         6.5  ...   \n",
       "1          121.0         8.1  ...   \n",
       "\n",
       "                                      Movie_Homepage  \\\n",
       "0                                                NaN   \n",
       "1  http://www.starwars.com/films/star-wars-episod...   \n",
       "\n",
       "                                Movie_Keywords  \\\n",
       "0    hotel new year's eve witch bet hotel room   \n",
       "1  android galaxy hermit death star lightsaber   \n",
       "\n",
       "                                      Movie_Overview  \\\n",
       "0  It's Ted the Bellhop's first night on the job....   \n",
       "1  Princess Leia is captured and held hostage by ...   \n",
       "\n",
       "                              Movie_Production_House  \\\n",
       "0  [{\"name\": \"Miramax Films\", \"id\": 14}, {\"name\":...   \n",
       "1  [{\"name\": \"Lucasfilm\", \"id\": 1}, {\"name\": \"Twe...   \n",
       "\n",
       "                            Movie_Production_Country  \\\n",
       "0  [{\"iso_3166_1\": \"US\", \"name\": \"United States o...   \n",
       "1  [{\"iso_3166_1\": \"US\", \"name\": \"United States o...   \n",
       "\n",
       "                      Movie_Spoken_Language  \\\n",
       "0  [{\"iso_639_1\": \"en\", \"name\": \"English\"}]   \n",
       "1  [{\"iso_639_1\": \"en\", \"name\": \"English\"}]   \n",
       "\n",
       "                                       Movie_Tagline  \\\n",
       "0  Twelve outrageous guests. Four scandalous requ...   \n",
       "1       A long time ago in a galaxy far, far away...   \n",
       "\n",
       "                                          Movie_Cast  \\\n",
       "0  Tim Roth Antonio Banderas Jennifer Beals Madon...   \n",
       "1  Mark Hamill Harrison Ford Carrie Fisher Peter ...   \n",
       "\n",
       "                                          Movie_Crew  Movie_Director  \n",
       "0  [{'name': 'Allison Anders', 'gender': 1, 'depa...  Allison Anders  \n",
       "1  [{'name': 'George Lucas', 'gender': 2, 'depart...    George Lucas  \n",
       "\n",
       "[2 rows x 21 columns]"
      ]
     },
     "execution_count": 126,
     "metadata": {},
     "output_type": "execute_result"
    }
   ],
   "source": [
    "initail_df = pd.read_csv('/kaggle/input/movie-recommendation-system-dataset/Movies Recommendation.csv')\n",
    "initail_df.head(2)"
   ]
  },
  {
   "cell_type": "markdown",
   "metadata": {},
   "source": [
    "## DATASET INFO"
   ]
  },
  {
   "cell_type": "code",
   "execution_count": null,
   "metadata": {
    "execution": {
     "iopub.execute_input": "2025-04-26T14:47:45.081076Z",
     "iopub.status.busy": "2025-04-26T14:47:45.080814Z",
     "iopub.status.idle": "2025-04-26T14:47:45.086241Z",
     "shell.execute_reply": "2025-04-26T14:47:45.085649Z",
     "shell.execute_reply.started": "2025-04-26T14:47:45.081045Z"
    },
    "trusted": true
   },
   "outputs": [
    {
     "data": {
      "text/plain": [
       "(4760, 21)"
      ]
     },
     "execution_count": 127,
     "metadata": {},
     "output_type": "execute_result"
    }
   ],
   "source": [
    "initail_df.shape"
   ]
  },
  {
   "cell_type": "code",
   "execution_count": null,
   "metadata": {
    "execution": {
     "iopub.execute_input": "2025-04-26T14:47:45.088933Z",
     "iopub.status.busy": "2025-04-26T14:47:45.088699Z",
     "iopub.status.idle": "2025-04-26T14:47:45.119616Z",
     "shell.execute_reply": "2025-04-26T14:47:45.118712Z",
     "shell.execute_reply.started": "2025-04-26T14:47:45.088915Z"
    },
    "trusted": true
   },
   "outputs": [
    {
     "data": {
      "text/html": [
       "<div>\n",
       "<style scoped>\n",
       "    .dataframe tbody tr th:only-of-type {\n",
       "        vertical-align: middle;\n",
       "    }\n",
       "\n",
       "    .dataframe tbody tr th {\n",
       "        vertical-align: top;\n",
       "    }\n",
       "\n",
       "    .dataframe thead th {\n",
       "        text-align: right;\n",
       "    }\n",
       "</style>\n",
       "<table border=\"1\" class=\"dataframe\">\n",
       "  <thead>\n",
       "    <tr style=\"text-align: right;\">\n",
       "      <th></th>\n",
       "      <th>Movie_ID</th>\n",
       "      <th>Movie_Budget</th>\n",
       "      <th>Movie_Popularity</th>\n",
       "      <th>Movie_Revenue</th>\n",
       "      <th>Movie_Runtime</th>\n",
       "      <th>Movie_Vote</th>\n",
       "      <th>Movie_Vote_Count</th>\n",
       "    </tr>\n",
       "  </thead>\n",
       "  <tbody>\n",
       "    <tr>\n",
       "      <th>count</th>\n",
       "      <td>4760.000000</td>\n",
       "      <td>4.760000e+03</td>\n",
       "      <td>4760.000000</td>\n",
       "      <td>4.760000e+03</td>\n",
       "      <td>4758.000000</td>\n",
       "      <td>4760.000000</td>\n",
       "      <td>4760.000000</td>\n",
       "    </tr>\n",
       "    <tr>\n",
       "      <th>mean</th>\n",
       "      <td>2382.566387</td>\n",
       "      <td>2.920129e+07</td>\n",
       "      <td>21.599510</td>\n",
       "      <td>8.263743e+07</td>\n",
       "      <td>107.184111</td>\n",
       "      <td>6.113866</td>\n",
       "      <td>692.508403</td>\n",
       "    </tr>\n",
       "    <tr>\n",
       "      <th>std</th>\n",
       "      <td>1377.270159</td>\n",
       "      <td>4.075620e+07</td>\n",
       "      <td>31.887919</td>\n",
       "      <td>1.630554e+08</td>\n",
       "      <td>21.960332</td>\n",
       "      <td>1.141294</td>\n",
       "      <td>1235.007337</td>\n",
       "    </tr>\n",
       "    <tr>\n",
       "      <th>min</th>\n",
       "      <td>1.000000</td>\n",
       "      <td>0.000000e+00</td>\n",
       "      <td>0.000372</td>\n",
       "      <td>0.000000e+00</td>\n",
       "      <td>0.000000</td>\n",
       "      <td>0.000000</td>\n",
       "      <td>0.000000</td>\n",
       "    </tr>\n",
       "    <tr>\n",
       "      <th>25%</th>\n",
       "      <td>1190.750000</td>\n",
       "      <td>9.257500e+05</td>\n",
       "      <td>4.807074</td>\n",
       "      <td>0.000000e+00</td>\n",
       "      <td>94.000000</td>\n",
       "      <td>5.600000</td>\n",
       "      <td>55.000000</td>\n",
       "    </tr>\n",
       "    <tr>\n",
       "      <th>50%</th>\n",
       "      <td>2380.500000</td>\n",
       "      <td>1.500000e+07</td>\n",
       "      <td>13.119058</td>\n",
       "      <td>1.944716e+07</td>\n",
       "      <td>104.000000</td>\n",
       "      <td>6.200000</td>\n",
       "      <td>238.000000</td>\n",
       "    </tr>\n",
       "    <tr>\n",
       "      <th>75%</th>\n",
       "      <td>3572.250000</td>\n",
       "      <td>4.000000e+07</td>\n",
       "      <td>28.411929</td>\n",
       "      <td>9.341276e+07</td>\n",
       "      <td>118.000000</td>\n",
       "      <td>6.800000</td>\n",
       "      <td>740.250000</td>\n",
       "    </tr>\n",
       "    <tr>\n",
       "      <th>max</th>\n",
       "      <td>4788.000000</td>\n",
       "      <td>3.800000e+08</td>\n",
       "      <td>875.581305</td>\n",
       "      <td>2.787965e+09</td>\n",
       "      <td>338.000000</td>\n",
       "      <td>10.000000</td>\n",
       "      <td>13752.000000</td>\n",
       "    </tr>\n",
       "  </tbody>\n",
       "</table>\n",
       "</div>"
      ],
      "text/plain": [
       "          Movie_ID  Movie_Budget  Movie_Popularity  Movie_Revenue  \\\n",
       "count  4760.000000  4.760000e+03       4760.000000   4.760000e+03   \n",
       "mean   2382.566387  2.920129e+07         21.599510   8.263743e+07   \n",
       "std    1377.270159  4.075620e+07         31.887919   1.630554e+08   \n",
       "min       1.000000  0.000000e+00          0.000372   0.000000e+00   \n",
       "25%    1190.750000  9.257500e+05          4.807074   0.000000e+00   \n",
       "50%    2380.500000  1.500000e+07         13.119058   1.944716e+07   \n",
       "75%    3572.250000  4.000000e+07         28.411929   9.341276e+07   \n",
       "max    4788.000000  3.800000e+08        875.581305   2.787965e+09   \n",
       "\n",
       "       Movie_Runtime   Movie_Vote  Movie_Vote_Count  \n",
       "count    4758.000000  4760.000000       4760.000000  \n",
       "mean      107.184111     6.113866        692.508403  \n",
       "std        21.960332     1.141294       1235.007337  \n",
       "min         0.000000     0.000000          0.000000  \n",
       "25%        94.000000     5.600000         55.000000  \n",
       "50%       104.000000     6.200000        238.000000  \n",
       "75%       118.000000     6.800000        740.250000  \n",
       "max       338.000000    10.000000      13752.000000  "
      ]
     },
     "execution_count": 128,
     "metadata": {},
     "output_type": "execute_result"
    }
   ],
   "source": [
    "initail_df.describe()"
   ]
  },
  {
   "cell_type": "code",
   "execution_count": null,
   "metadata": {
    "execution": {
     "iopub.execute_input": "2025-04-26T14:47:45.120859Z",
     "iopub.status.busy": "2025-04-26T14:47:45.120508Z",
     "iopub.status.idle": "2025-04-26T14:47:45.136807Z",
     "shell.execute_reply": "2025-04-26T14:47:45.135899Z",
     "shell.execute_reply.started": "2025-04-26T14:47:45.120832Z"
    },
    "trusted": true
   },
   "outputs": [
    {
     "name": "stdout",
     "output_type": "stream",
     "text": [
      "<class 'pandas.core.frame.DataFrame'>\n",
      "RangeIndex: 4760 entries, 0 to 4759\n",
      "Data columns (total 21 columns):\n",
      " #   Column                    Non-Null Count  Dtype  \n",
      "---  ------                    --------------  -----  \n",
      " 0   Movie_ID                  4760 non-null   int64  \n",
      " 1   Movie_Title               4760 non-null   object \n",
      " 2   Movie_Genre               4760 non-null   object \n",
      " 3   Movie_Language            4760 non-null   object \n",
      " 4   Movie_Budget              4760 non-null   int64  \n",
      " 5   Movie_Popularity          4760 non-null   float64\n",
      " 6   Movie_Release_Date        4760 non-null   object \n",
      " 7   Movie_Revenue             4760 non-null   int64  \n",
      " 8   Movie_Runtime             4758 non-null   float64\n",
      " 9   Movie_Vote                4760 non-null   float64\n",
      " 10  Movie_Vote_Count          4760 non-null   int64  \n",
      " 11  Movie_Homepage            1699 non-null   object \n",
      " 12  Movie_Keywords            4373 non-null   object \n",
      " 13  Movie_Overview            4757 non-null   object \n",
      " 14  Movie_Production_House    4760 non-null   object \n",
      " 15  Movie_Production_Country  4760 non-null   object \n",
      " 16  Movie_Spoken_Language     4760 non-null   object \n",
      " 17  Movie_Tagline             3942 non-null   object \n",
      " 18  Movie_Cast                4733 non-null   object \n",
      " 19  Movie_Crew                4760 non-null   object \n",
      " 20  Movie_Director            4738 non-null   object \n",
      "dtypes: float64(3), int64(4), object(14)\n",
      "memory usage: 781.1+ KB\n"
     ]
    }
   ],
   "source": [
    "initail_df.info()"
   ]
  },
  {
   "cell_type": "markdown",
   "metadata": {},
   "source": [
    "**NULL VALUES**"
   ]
  },
  {
   "cell_type": "code",
   "execution_count": null,
   "metadata": {
    "execution": {
     "iopub.execute_input": "2025-04-26T14:47:45.138297Z",
     "iopub.status.busy": "2025-04-26T14:47:45.138005Z",
     "iopub.status.idle": "2025-04-26T14:47:45.153721Z",
     "shell.execute_reply": "2025-04-26T14:47:45.152789Z",
     "shell.execute_reply.started": "2025-04-26T14:47:45.138276Z"
    },
    "trusted": true
   },
   "outputs": [
    {
     "data": {
      "text/plain": [
       "Movie_ID                       0\n",
       "Movie_Title                    0\n",
       "Movie_Genre                    0\n",
       "Movie_Language                 0\n",
       "Movie_Budget                   0\n",
       "Movie_Popularity               0\n",
       "Movie_Release_Date             0\n",
       "Movie_Revenue                  0\n",
       "Movie_Runtime                  2\n",
       "Movie_Vote                     0\n",
       "Movie_Vote_Count               0\n",
       "Movie_Homepage              3061\n",
       "Movie_Keywords               387\n",
       "Movie_Overview                 3\n",
       "Movie_Production_House         0\n",
       "Movie_Production_Country       0\n",
       "Movie_Spoken_Language          0\n",
       "Movie_Tagline                818\n",
       "Movie_Cast                    27\n",
       "Movie_Crew                     0\n",
       "Movie_Director                22\n",
       "dtype: int64"
      ]
     },
     "execution_count": 130,
     "metadata": {},
     "output_type": "execute_result"
    }
   ],
   "source": [
    "initail_df.isnull().sum()"
   ]
  },
  {
   "cell_type": "markdown",
   "metadata": {},
   "source": [
    "# VISUALIZATIONS"
   ]
  },
  {
   "cell_type": "code",
   "execution_count": null,
   "metadata": {
    "execution": {
     "iopub.execute_input": "2025-04-26T14:47:45.155128Z",
     "iopub.status.busy": "2025-04-26T14:47:45.154764Z",
     "iopub.status.idle": "2025-04-26T14:47:45.168137Z",
     "shell.execute_reply": "2025-04-26T14:47:45.166987Z",
     "shell.execute_reply.started": "2025-04-26T14:47:45.155097Z"
    },
    "trusted": true
   },
   "outputs": [],
   "source": [
    "visulaization_df = initail_df.copy()\n",
    "# visulaization_df.dropna(inplace=True)"
   ]
  },
  {
   "cell_type": "code",
   "execution_count": null,
   "metadata": {
    "execution": {
     "iopub.execute_input": "2025-04-26T14:47:45.169873Z",
     "iopub.status.busy": "2025-04-26T14:47:45.169521Z",
     "iopub.status.idle": "2025-04-26T14:47:45.182133Z",
     "shell.execute_reply": "2025-04-26T14:47:45.181440Z",
     "shell.execute_reply.started": "2025-04-26T14:47:45.169844Z"
    },
    "trusted": true
   },
   "outputs": [],
   "source": [
    "def millions(x, pos):\n",
    "    return '$%1.1fM' % (x * 1e-6)\n",
    "\n",
    "formatter = FuncFormatter(millions)"
   ]
  },
  {
   "cell_type": "markdown",
   "metadata": {
    "execution": {
     "iopub.execute_input": "2025-04-26T04:18:59.125914Z",
     "iopub.status.busy": "2025-04-26T04:18:59.125610Z",
     "iopub.status.idle": "2025-04-26T04:18:59.130295Z",
     "shell.execute_reply": "2025-04-26T04:18:59.129341Z",
     "shell.execute_reply.started": "2025-04-26T04:18:59.125887Z"
    }
   },
   "source": [
    "### TOP 10 HIGHEST BUGHETS MOVIES"
   ]
  },
  {
   "cell_type": "code",
   "execution_count": null,
   "metadata": {
    "execution": {
     "iopub.execute_input": "2025-04-26T14:47:45.183690Z",
     "iopub.status.busy": "2025-04-26T14:47:45.183102Z",
     "iopub.status.idle": "2025-04-26T14:47:45.438684Z",
     "shell.execute_reply": "2025-04-26T14:47:45.437839Z",
     "shell.execute_reply.started": "2025-04-26T14:47:45.183669Z"
    },
    "trusted": true
   },
   "outputs": [
    {
     "data": {
      "image/png": "[encoded data removed]",
      "text/plain": [
       "<Figure size 1000x600 with 1 Axes>"
      ]
     },
     "metadata": {},
     "output_type": "display_data"
    }
   ],
   "source": [
    "bughet_sorted_movies = visulaization_df.sort_values(by='Movie_Budget', ascending=False)\n",
    "top_10_movies = bughet_sorted_movies.iloc[:10]\n",
    "\n",
    "plt.figure(figsize=(10,6))\n",
    "ax = sns.barplot(x = 'Movie_Title',\n",
    "            y = 'Movie_Budget',\n",
    "            data = top_10_movies)\n",
    "\n",
    "\n",
    "ax.yaxis.set_major_formatter(formatter)\n",
    "plt.xticks(rotation=90)\n",
    "plt.title('Highest Bughet Movies')\n",
    "plt.show()"
   ]
  },
  {
   "cell_type": "markdown",
   "metadata": {
    "execution": {
     "iopub.execute_input": "2025-04-26T04:33:33.592074Z",
     "iopub.status.busy": "2025-04-26T04:33:33.591735Z",
     "iopub.status.idle": "2025-04-26T04:33:33.596282Z",
     "shell.execute_reply": "2025-04-26T04:33:33.595097Z",
     "shell.execute_reply.started": "2025-04-26T04:33:33.592050Z"
    }
   },
   "source": [
    "### Top 10 Movies by Revenue"
   ]
  },
  {
   "cell_type": "code",
   "execution_count": null,
   "metadata": {
    "execution": {
     "iopub.execute_input": "2025-04-26T14:47:45.439824Z",
     "iopub.status.busy": "2025-04-26T14:47:45.439572Z",
     "iopub.status.idle": "2025-04-26T14:47:45.650218Z",
     "shell.execute_reply": "2025-04-26T14:47:45.649494Z",
     "shell.execute_reply.started": "2025-04-26T14:47:45.439804Z"
    },
    "trusted": true
   },
   "outputs": [
    {
     "data": {
      "image/png": "[encoded data removed]",
      "text/plain": [
       "<Figure size 1000x600 with 1 Axes>"
      ]
     },
     "metadata": {},
     "output_type": "display_data"
    }
   ],
   "source": [
    "top_10_movies_revenue = visulaization_df.sort_values(by='Movie_Revenue', ascending=False).iloc[:10]\n",
    "\n",
    "plt.figure(figsize=(10,6))\n",
    "ax = sns.barplot(x = 'Movie_Title',\n",
    "            y = 'Movie_Revenue',\n",
    "            data = top_10_movies_revenue)\n",
    "\n",
    "plt.xticks(rotation=90)\n",
    "ax.yaxis.set_major_formatter(formatter)\n",
    "plt.title('Top 10 Blockbuster Movies')\n",
    "plt.show()"
   ]
  },
  {
   "cell_type": "markdown",
   "metadata": {
    "execution": {
     "iopub.execute_input": "2025-04-26T13:24:22.949504Z",
     "iopub.status.busy": "2025-04-26T13:24:22.949234Z",
     "iopub.status.idle": "2025-04-26T13:24:22.953420Z",
     "shell.execute_reply": "2025-04-26T13:24:22.952594Z",
     "shell.execute_reply.started": "2025-04-26T13:24:22.949486Z"
    }
   },
   "source": [
    "### TOP 10 RATING MOVIES"
   ]
  },
  {
   "cell_type": "code",
   "execution_count": null,
   "metadata": {
    "execution": {
     "iopub.execute_input": "2025-04-26T14:47:45.651566Z",
     "iopub.status.busy": "2025-04-26T14:47:45.651232Z",
     "iopub.status.idle": "2025-04-26T14:47:45.863077Z",
     "shell.execute_reply": "2025-04-26T14:47:45.862234Z",
     "shell.execute_reply.started": "2025-04-26T14:47:45.651517Z"
    },
    "trusted": true
   },
   "outputs": [
    {
     "data": {
      "image/png": "[encoded data removed]",
      "text/plain": [
       "<Figure size 1000x600 with 1 Axes>"
      ]
     },
     "metadata": {},
     "output_type": "display_data"
    }
   ],
   "source": [
    "top_10_movies_rating = visulaization_df.sort_values(by='Movie_Vote', ascending=False)[:10]\n",
    "top_10_movies_rating\n",
    "plt.figure(figsize=(10,6))\n",
    "ax = sns.barplot(x = 'Movie_Vote',\n",
    "            y = 'Movie_Title',\n",
    "            data = top_10_movies_rating, palette='viridis')\n",
    "\n",
    "plt.xlabel('Movie Rating')\n",
    "plt.title('Top 10 Rating Movies')\n",
    "plt.show()"
   ]
  },
  {
   "cell_type": "markdown",
   "metadata": {
    "execution": {
     "iopub.execute_input": "2025-04-26T13:32:24.037820Z",
     "iopub.status.busy": "2025-04-26T13:32:24.037483Z",
     "iopub.status.idle": "2025-04-26T13:32:24.055736Z",
     "shell.execute_reply": "2025-04-26T13:32:24.054852Z",
     "shell.execute_reply.started": "2025-04-26T13:32:24.037797Z"
    }
   },
   "source": [
    "### Top Language in Movies"
   ]
  },
  {
   "cell_type": "code",
   "execution_count": null,
   "metadata": {
    "execution": {
     "iopub.execute_input": "2025-04-26T14:47:45.865958Z",
     "iopub.status.busy": "2025-04-26T14:47:45.865700Z",
     "iopub.status.idle": "2025-04-26T14:47:45.875275Z",
     "shell.execute_reply": "2025-04-26T14:47:45.874485Z",
     "shell.execute_reply.started": "2025-04-26T14:47:45.865938Z"
    },
    "trusted": true
   },
   "outputs": [],
   "source": [
    "movie_language_count = visulaization_df.groupby('Movie_Language').size().reset_index(name='Count')\n",
    "movie_language_count = movie_language_count.sort_values(by='Count', ascending=False)\n",
    "\n",
    "top_1 = movie_language_count.head(1)\n",
    "others = movie_language_count.iloc[5:]\n",
    "\n",
    "others_sum = others['Count'].sum()\n",
    "\n",
    "other_row = pd.DataFrame({'Movie_Language': ['Others'], 'Count': [others_sum] })\n",
    "movie_language_count = pd.concat([top_1, other_row], ignore_index=True)"
   ]
  },
  {
   "cell_type": "code",
   "execution_count": null,
   "metadata": {
    "execution": {
     "iopub.execute_input": "2025-04-26T14:47:45.876803Z",
     "iopub.status.busy": "2025-04-26T14:47:45.876414Z",
     "iopub.status.idle": "2025-04-26T14:47:45.970984Z",
     "shell.execute_reply": "2025-04-26T14:47:45.970081Z",
     "shell.execute_reply.started": "2025-04-26T14:47:45.876773Z"
    },
    "trusted": true
   },
   "outputs": [
    {
     "data": {
      "image/png": "[encoded data removed]",
      "text/plain": [
       "<Figure size 640x480 with 1 Axes>"
      ]
     },
     "metadata": {},
     "output_type": "display_data"
    }
   ],
   "source": [
    "plt.pie(movie_language_count['Count'], labels=movie_language_count['Movie_Language'],\n",
    "        autopct='%.0f%%') \n",
    "plt.title('Top Language in Movies')\n",
    "plt.show()"
   ]
  },
  {
   "cell_type": "markdown",
   "metadata": {},
   "source": [
    "# TRANSFORMING DATA"
   ]
  },
  {
   "cell_type": "markdown",
   "metadata": {
    "execution": {
     "iopub.execute_input": "2025-04-25T09:24:18.946906Z",
     "iopub.status.busy": "2025-04-25T09:24:18.946534Z",
     "iopub.status.idle": "2025-04-25T09:24:18.955433Z",
     "shell.execute_reply": "2025-04-25T09:24:18.954415Z",
     "shell.execute_reply.started": "2025-04-25T09:24:18.946880Z"
    }
   },
   "source": [
    "### DROPPING UNNECESSARY COLUMNS"
   ]
  },
  {
   "cell_type": "code",
   "execution_count": null,
   "metadata": {
    "execution": {
     "iopub.execute_input": "2025-04-26T14:47:45.972131Z",
     "iopub.status.busy": "2025-04-26T14:47:45.971875Z",
     "iopub.status.idle": "2025-04-26T14:47:45.978483Z",
     "shell.execute_reply": "2025-04-26T14:47:45.977628Z",
     "shell.execute_reply.started": "2025-04-26T14:47:45.972102Z"
    },
    "trusted": true
   },
   "outputs": [],
   "source": [
    "feature_cols = ['Movie_Title', 'Movie_Genre', 'Movie_Keywords', 'Movie_Overview', 'Movie_Tagline', \n",
    "                'Movie_Cast', 'Movie_Director']\n",
    "\n",
    "df = initail_df[feature_cols]"
   ]
  },
  {
   "cell_type": "markdown",
   "metadata": {},
   "source": [
    "### HANDLING NULL VALUES"
   ]
  },
  {
   "cell_type": "code",
   "execution_count": null,
   "metadata": {
    "execution": {
     "iopub.execute_input": "2025-04-26T14:47:45.979875Z",
     "iopub.status.busy": "2025-04-26T14:47:45.979563Z",
     "iopub.status.idle": "2025-04-26T14:47:45.997630Z",
     "shell.execute_reply": "2025-04-26T14:47:45.996967Z",
     "shell.execute_reply.started": "2025-04-26T14:47:45.979848Z"
    },
    "trusted": true
   },
   "outputs": [],
   "source": [
    "df = df[feature_cols].fillna('') "
   ]
  },
  {
   "cell_type": "markdown",
   "metadata": {},
   "source": [
    "### Combine all selected features into one"
   ]
  },
  {
   "cell_type": "code",
   "execution_count": null,
   "metadata": {
    "execution": {
     "iopub.execute_input": "2025-04-26T14:47:45.998786Z",
     "iopub.status.busy": "2025-04-26T14:47:45.998435Z",
     "iopub.status.idle": "2025-04-26T14:47:46.022054Z",
     "shell.execute_reply": "2025-04-26T14:47:46.021295Z",
     "shell.execute_reply.started": "2025-04-26T14:47:45.998756Z"
    },
    "trusted": true
   },
   "outputs": [],
   "source": [
    "df['combined_features'] = df['Movie_Genre'] + ' ' + df['Movie_Keywords'] + ' ' + \\\n",
    "                          df['Movie_Overview'] + ' ' + df['Movie_Tagline'] + ' ' + \\\n",
    "                          df['Movie_Cast'] + ' ' + df['Movie_Director']"
   ]
  },
  {
   "cell_type": "markdown",
   "metadata": {},
   "source": [
    "# Vectorization"
   ]
  },
  {
   "cell_type": "code",
   "execution_count": null,
   "metadata": {
    "execution": {
     "iopub.execute_input": "2025-04-26T14:47:46.023159Z",
     "iopub.status.busy": "2025-04-26T14:47:46.022909Z",
     "iopub.status.idle": "2025-04-26T14:47:46.040219Z",
     "shell.execute_reply": "2025-04-26T14:47:46.039415Z",
     "shell.execute_reply.started": "2025-04-26T14:47:46.023140Z"
    },
    "trusted": true
   },
   "outputs": [],
   "source": [
    "from sklearn.feature_extraction.text import TfidfVectorizer"
   ]
  },
  {
   "cell_type": "code",
   "execution_count": null,
   "metadata": {
    "execution": {
     "iopub.execute_input": "2025-04-26T14:47:46.041261Z",
     "iopub.status.busy": "2025-04-26T14:47:46.041031Z",
     "iopub.status.idle": "2025-04-26T14:47:46.400454Z",
     "shell.execute_reply": "2025-04-26T14:47:46.399801Z",
     "shell.execute_reply.started": "2025-04-26T14:47:46.041243Z"
    },
    "trusted": true
   },
   "outputs": [],
   "source": [
    "tfidf_vectorizer = TfidfVectorizer(stop_words='english', max_features=5000)\n",
    "tfidf_matrix = tfidf_vectorizer.fit_transform(df['combined_features'])\n",
    "# print(tfidf_vectorizer.vocabulary_)\n",
    "# print(tfidf_matrix)"
   ]
  },
  {
   "cell_type": "markdown",
   "metadata": {
    "execution": {
     "iopub.execute_input": "2025-04-26T03:24:06.027071Z",
     "iopub.status.busy": "2025-04-26T03:24:06.026122Z",
     "iopub.status.idle": "2025-04-26T03:24:06.030986Z",
     "shell.execute_reply": "2025-04-26T03:24:06.029956Z",
     "shell.execute_reply.started": "2025-04-26T03:24:06.027037Z"
    }
   },
   "source": [
    "# KNN MODEL TRAINING"
   ]
  },
  {
   "cell_type": "code",
   "execution_count": null,
   "metadata": {
    "execution": {
     "iopub.execute_input": "2025-04-26T14:47:46.401511Z",
     "iopub.status.busy": "2025-04-26T14:47:46.401273Z",
     "iopub.status.idle": "2025-04-26T14:47:46.405577Z",
     "shell.execute_reply": "2025-04-26T14:47:46.404778Z",
     "shell.execute_reply.started": "2025-04-26T14:47:46.401493Z"
    },
    "trusted": true
   },
   "outputs": [],
   "source": [
    "from sklearn.neighbors import NearestNeighbors"
   ]
  },
  {
   "cell_type": "code",
   "execution_count": null,
   "metadata": {
    "execution": {
     "iopub.execute_input": "2025-04-26T14:47:46.406801Z",
     "iopub.status.busy": "2025-04-26T14:47:46.406498Z",
     "iopub.status.idle": "2025-04-26T14:47:46.424336Z",
     "shell.execute_reply": "2025-04-26T14:47:46.423602Z",
     "shell.execute_reply.started": "2025-04-26T14:47:46.406775Z"
    },
    "trusted": true
   },
   "outputs": [
    {
     "data": {
      "text/html": [
       "<style>#sk-container-id-2 {color: black;background-color: white;}#sk-container-id-2 pre{padding: 0;}#sk-container-id-2 div.sk-toggleable {background-color: white;}#sk-container-id-2 label.sk-toggleable__label {cursor: pointer;display: block;width: 100%;margin-bottom: 0;padding: 0.3em;box-sizing: border-box;text-align: center;}#sk-container-id-2 label.sk-toggleable__label-arrow:before {content: \"▸\";float: left;margin-right: 0.25em;color: #696969;}#sk-container-id-2 label.sk-toggleable__label-arrow:hover:before {color: black;}#sk-container-id-2 div.sk-estimator:hover label.sk-toggleable__label-arrow:before {color: black;}#sk-container-id-2 div.sk-toggleable__content {max-height: 0;max-width: 0;overflow: hidden;text-align: left;background-color: #f0f8ff;}#sk-container-id-2 div.sk-toggleable__content pre {margin: 0.2em;color: black;border-radius: 0.25em;background-color: #f0f8ff;}#sk-container-id-2 input.sk-toggleable__control:checked~div.sk-toggleable__content {max-height: 200px;max-width: 100%;overflow: auto;}#sk-container-id-2 input.sk-toggleable__control:checked~label.sk-toggleable__label-arrow:before {content: \"▾\";}#sk-container-id-2 div.sk-estimator input.sk-toggleable__control:checked~label.sk-toggleable__label {background-color: #d4ebff;}#sk-container-id-2 div.sk-label input.sk-toggleable__control:checked~label.sk-toggleable__label {background-color: #d4ebff;}#sk-container-id-2 input.sk-hidden--visually {border: 0;clip: rect(1px 1px 1px 1px);clip: rect(1px, 1px, 1px, 1px);height: 1px;margin: -1px;overflow: hidden;padding: 0;position: absolute;width: 1px;}#sk-container-id-2 div.sk-estimator {font-family: monospace;background-color: #f0f8ff;border: 1px dotted black;border-radius: 0.25em;box-sizing: border-box;margin-bottom: 0.5em;}#sk-container-id-2 div.sk-estimator:hover {background-color: #d4ebff;}#sk-container-id-2 div.sk-parallel-item::after {content: \"\";width: 100%;border-bottom: 1px solid gray;flex-grow: 1;}#sk-container-id-2 div.sk-label:hover label.sk-toggleable__label {background-color: #d4ebff;}#sk-container-id-2 div.sk-serial::before {content: \"\";position: absolute;border-left: 1px solid gray;box-sizing: border-box;top: 0;bottom: 0;left: 50%;z-index: 0;}#sk-container-id-2 div.sk-serial {display: flex;flex-direction: column;align-items: center;background-color: white;padding-right: 0.2em;padding-left: 0.2em;position: relative;}#sk-container-id-2 div.sk-item {position: relative;z-index: 1;}#sk-container-id-2 div.sk-parallel {display: flex;align-items: stretch;justify-content: center;background-color: white;position: relative;}#sk-container-id-2 div.sk-item::before, #sk-container-id-2 div.sk-parallel-item::before {content: \"\";position: absolute;border-left: 1px solid gray;box-sizing: border-box;top: 0;bottom: 0;left: 50%;z-index: -1;}#sk-container-id-2 div.sk-parallel-item {display: flex;flex-direction: column;z-index: 1;position: relative;background-color: white;}#sk-container-id-2 div.sk-parallel-item:first-child::after {align-self: flex-end;width: 50%;}#sk-container-id-2 div.sk-parallel-item:last-child::after {align-self: flex-start;width: 50%;}#sk-container-id-2 div.sk-parallel-item:only-child::after {width: 0;}#sk-container-id-2 div.sk-dashed-wrapped {border: 1px dashed gray;margin: 0 0.4em 0.5em 0.4em;box-sizing: border-box;padding-bottom: 0.4em;background-color: white;}#sk-container-id-2 div.sk-label label {font-family: monospace;font-weight: bold;display: inline-block;line-height: 1.2em;}#sk-container-id-2 div.sk-label-container {text-align: center;}#sk-container-id-2 div.sk-container {/* jupyter's `normalize.less` sets `[hidden] { display: none; }` but bootstrap.min.css set `[hidden] { display: none !important; }` so we also need the `!important` here to be able to override the default hidden behavior on the sphinx rendered scikit-learn.org. See: https://github.com/scikit-learn/scikit-learn/issues/21755 */display: inline-block !important;position: relative;}#sk-container-id-2 div.sk-text-repr-fallback {display: none;}</style><div id=\"sk-container-id-2\" class=\"sk-top-container\"><div class=\"sk-text-repr-fallback\"><pre>NearestNeighbors(metric=&#x27;cosine&#x27;, n_neighbors=10)</pre><b>In a Jupyter environment, please rerun this cell to show the HTML representation or trust the notebook. <br />On GitHub, the HTML representation is unable to render, please try loading this page with nbviewer.org.</b></div><div class=\"sk-container\" hidden><div class=\"sk-item\"><div class=\"sk-estimator sk-toggleable\"><input class=\"sk-toggleable__control sk-hidden--visually\" id=\"sk-estimator-id-2\" type=\"checkbox\" checked><label for=\"sk-estimator-id-2\" class=\"sk-toggleable__label sk-toggleable__label-arrow\">NearestNeighbors</label><div class=\"sk-toggleable__content\"><pre>NearestNeighbors(metric=&#x27;cosine&#x27;, n_neighbors=10)</pre></div></div></div></div></div>"
      ],
      "text/plain": [
       "NearestNeighbors(metric='cosine', n_neighbors=10)"
      ]
     },
     "execution_count": 144,
     "metadata": {},
     "output_type": "execute_result"
    }
   ],
   "source": [
    "knn_model = NearestNeighbors(n_neighbors=10, metric='cosine')\n",
    "knn_model.fit(tfidf_matrix)"
   ]
  },
  {
   "cell_type": "markdown",
   "metadata": {},
   "source": [
    "# MOVIES SUGGESTIONS "
   ]
  },
  {
   "cell_type": "code",
   "execution_count": null,
   "metadata": {
    "execution": {
     "iopub.execute_input": "2025-04-26T14:47:46.425273Z",
     "iopub.status.busy": "2025-04-26T14:47:46.425069Z",
     "iopub.status.idle": "2025-04-26T14:47:46.436498Z",
     "shell.execute_reply": "2025-04-26T14:47:46.435588Z",
     "shell.execute_reply.started": "2025-04-26T14:47:46.425257Z"
    },
    "trusted": true
   },
   "outputs": [],
   "source": [
    "def get_movie_index(title):\n",
    "    return df[df['Movie_Title'] == title].index[0]"
   ]
  },
  {
   "cell_type": "code",
   "execution_count": null,
   "metadata": {
    "execution": {
     "iopub.execute_input": "2025-04-26T14:47:46.438036Z",
     "iopub.status.busy": "2025-04-26T14:47:46.437730Z",
     "iopub.status.idle": "2025-04-26T14:47:46.451416Z",
     "shell.execute_reply": "2025-04-26T14:47:46.450427Z",
     "shell.execute_reply.started": "2025-04-26T14:47:46.438006Z"
    },
    "trusted": true
   },
   "outputs": [],
   "source": [
    "def get_similar_movies(movie_title):\n",
    "    movie_idx = get_movie_index(movie_title)\n",
    "    \n",
    "    distances, indices = knn_model.kneighbors(tfidf_matrix[movie_idx], n_neighbors=10)\n",
    "    \n",
    "    similar_movies = []\n",
    "    for i in range(1, len(indices[0])):\n",
    "        similar_movies.append(df['Movie_Title'].iloc[indices[0][i]])\n",
    "    \n",
    "    return similar_movies"
   ]
  },
  {
   "cell_type": "code",
   "execution_count": null,
   "metadata": {
    "execution": {
     "iopub.execute_input": "2025-04-26T14:47:46.453517Z",
     "iopub.status.busy": "2025-04-26T14:47:46.452612Z",
     "iopub.status.idle": "2025-04-26T14:47:56.642976Z",
     "shell.execute_reply": "2025-04-26T14:47:56.642110Z",
     "shell.execute_reply.started": "2025-04-26T14:47:46.453486Z"
    },
    "trusted": true
   },
   "outputs": [
    {
     "name": "stdout",
     "output_type": "stream",
     "text": [
      "Enter Movie Name Finding Nemo\n"
     ]
    },
    {
     "data": {
      "text/html": [
       "<div>\n",
       "<style scoped>\n",
       "    .dataframe tbody tr th:only-of-type {\n",
       "        vertical-align: middle;\n",
       "    }\n",
       "\n",
       "    .dataframe tbody tr th {\n",
       "        vertical-align: top;\n",
       "    }\n",
       "\n",
       "    .dataframe thead th {\n",
       "        text-align: right;\n",
       "    }\n",
       "</style>\n",
       "<table border=\"1\" class=\"dataframe\">\n",
       "  <thead>\n",
       "    <tr style=\"text-align: right;\">\n",
       "      <th></th>\n",
       "      <th>Similar Movies</th>\n",
       "    </tr>\n",
       "  </thead>\n",
       "  <tbody>\n",
       "    <tr>\n",
       "      <th>0</th>\n",
       "      <td>Shark Tale</td>\n",
       "    </tr>\n",
       "    <tr>\n",
       "      <th>1</th>\n",
       "      <td>Treading Water</td>\n",
       "    </tr>\n",
       "    <tr>\n",
       "      <th>2</th>\n",
       "      <td>Big Fish</td>\n",
       "    </tr>\n",
       "    <tr>\n",
       "      <th>3</th>\n",
       "      <td>The Reef</td>\n",
       "    </tr>\n",
       "    <tr>\n",
       "      <th>4</th>\n",
       "      <td>Meet the Deedles</td>\n",
       "    </tr>\n",
       "    <tr>\n",
       "      <th>5</th>\n",
       "      <td>Ponyo</td>\n",
       "    </tr>\n",
       "    <tr>\n",
       "      <th>6</th>\n",
       "      <td>Megamind</td>\n",
       "    </tr>\n",
       "    <tr>\n",
       "      <th>7</th>\n",
       "      <td>Oceans</td>\n",
       "    </tr>\n",
       "    <tr>\n",
       "      <th>8</th>\n",
       "      <td>The Cat in the Hat</td>\n",
       "    </tr>\n",
       "  </tbody>\n",
       "</table>\n",
       "</div>"
      ],
      "text/plain": [
       "       Similar Movies\n",
       "0          Shark Tale\n",
       "1      Treading Water\n",
       "2            Big Fish\n",
       "3            The Reef\n",
       "4    Meet the Deedles\n",
       "5               Ponyo\n",
       "6            Megamind\n",
       "7              Oceans\n",
       "8  The Cat in the Hat"
      ]
     },
     "execution_count": 147,
     "metadata": {},
     "output_type": "execute_result"
    }
   ],
   "source": [
    "input_movie = input('Enter Movie Name') \n",
    "\n",
    "similar_movies = get_similar_movies(input_movie)\n",
    "pd.DataFrame({'Similar Movies': similar_movies})"
   ]
  }
 ],
 "metadata": {
  "kaggle": {
   "accelerator": "none",
   "dataSources": [
    {
     "datasetId": 4369174,
     "sourceId": 7502939,
     "sourceType": "datasetVersion"
    }
   ],
   "dockerImageVersionId": 31012,
   "isGpuEnabled": false,
   "isInternetEnabled": false,
   "language": "python",
   "sourceType": "notebook"
  },
  "kernelspec": {
   "display_name": "Python 3",
   "language": "python",
   "name": "python3"
  },
  "language_info": {
   "codemirror_mode": {
    "name": "ipython",
    "version": 3
   },
   "file_extension": ".py",
   "mimetype": "text/x-python",
   "name": "python",
   "nbconvert_exporter": "python",
   "pygments_lexer": "ipython3",
   "version": "3.13.1"
  }
 },
 "nbformat": 4,
 "nbformat_minor": 4
}
